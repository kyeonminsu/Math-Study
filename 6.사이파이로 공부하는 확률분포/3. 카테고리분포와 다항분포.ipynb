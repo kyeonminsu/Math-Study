{
 "cells": [
  {
   "cell_type": "code",
   "execution_count": 3,
   "id": "a606520b",
   "metadata": {},
   "outputs": [],
   "source": [
    "import scipy as sp\n",
    "import scipy.stats\n",
    "import numpy as np\n",
    "import seaborn as sns\n",
    "import matplotlib.pyplot as plt\n",
    "import pandas as pd\n",
    "import matplotlib as mpl\n",
    "plt.rc(\"font\", size=10, family='Malgun Gothic')\n",
    "plt.rc('axes', unicode_minus=False)"
   ]
  },
  {
   "cell_type": "markdown",
   "id": "4f5b3c93",
   "metadata": {},
   "source": [
    "# 카테고리 확률변수"
   ]
  },
  {
   "cell_type": "markdown",
   "id": "b8fb7841",
   "metadata": {},
   "source": [
    "베르누이 확률변수는 0 이나 1(또는 -1 이나 1)이 나오는 확률변수였다. 즉 동전을 던져 나오는 결과를 묘사할 때 쓸 수 있다. 그런데 동전이 아닌 주사위를 던져서 나오는 경우는 어떻게 묘사할 수 있을까? 이때 사용하는 것이 확률변수다."
   ]
  },
  {
   "cell_type": "markdown",
   "id": "895e0ba3",
   "metadata": {},
   "source": [
    "카테고리 확률변수(Categorical random variable)는 1부터 K까지 K개 정숫값 중 하나가 나온다. 이 정숫값을 범주값, 카테고리(category) 혹은 클래스(class)라고 한다. 주사위를 던져 나오는 눈금 수는 K=6인 카테고리분포다."
   ]
  },
  {
   "cell_type": "markdown",
   "id": "d9ae28ca",
   "metadata": {},
   "source": [
    "주의할 점은 원래 카테고리는 스칼라값이지만 카테고리 확률변수는 다음과 같이 1과 0으로만 이루어진 다차원 벡터를 출력한다. (벡터는 원래 세로 열로 표시해야하지만 여기에서는 편의상 가로 행으로 표시하였다.)"
   ]
  },
  {
   "cell_type": "markdown",
   "id": "39fb6a02",
   "metadata": {},
   "source": [
    "x=1 -> x=(1,0,0,0,0,0)"
   ]
  },
  {
   "cell_type": "markdown",
   "id": "50d5d068",
   "metadata": {},
   "source": [
    "x=2 -> x=(0,1,0,0,0,0)"
   ]
  },
  {
   "cell_type": "markdown",
   "id": "202d2ed5",
   "metadata": {},
   "source": [
    "x=3 -> x=(0,0,1,0,0,0)"
   ]
  },
  {
   "cell_type": "markdown",
   "id": "fd139751",
   "metadata": {},
   "source": [
    "x=4 -> x=(0,0,0,1,0,0)"
   ]
  },
  {
   "cell_type": "markdown",
   "id": "c48cba9d",
   "metadata": {},
   "source": [
    "x=5 -> x=(0,0,0,0,1,0)"
   ]
  },
  {
   "cell_type": "markdown",
   "id": "c2711cc9",
   "metadata": {},
   "source": [
    "x=6 -> x=(0,0,0,0,0,1)"
   ]
  },
  {
   "cell_type": "markdown",
   "id": "aae3d8fb",
   "metadata": {},
   "source": [
    "숫자를 이렇게 변형하는 것을 **원핫인코딩(One-Hot-Encoding)**이라고 한다."
   ]
  },
  {
   "cell_type": "markdown",
   "id": "134d6b35",
   "metadata": {},
   "source": [
    "$$x=(x1,x2,x3,x4,x5,x6)$$"
   ]
  },
  {
   "cell_type": "markdown",
   "id": "095e6577",
   "metadata": {},
   "source": [
    "이 벡터를 구성하는 원소 x1, x2, x3, x4, x5, x6에는 다음과 같은 제한 조건이 붙는다."
   ]
  },
  {
   "cell_type": "markdown",
   "id": "89ef7f5e",
   "metadata": {},
   "source": [
    "$$x_i =0 or 1 $$"
   ]
  },
  {
   "cell_type": "markdown",
   "id": "6b8a6a06",
   "metadata": {},
   "source": [
    "$$\\displaystyle\\sum_{i=1}^N  x_k =1$$"
   ]
  },
  {
   "cell_type": "markdown",
   "id": "6898d1c1",
   "metadata": {},
   "source": [
    "첫 번째 제한 조건은 xk값으로 0 또는 1 만 가능하다는 것이고, 두 번째 제한 조건은 여러 xk 중 단 하나만 1일 수 있다는 것이다."
   ]
  },
  {
   "cell_type": "markdown",
   "id": "1b4be876",
   "metadata": {},
   "source": [
    "원솟값 xk는 베르누이 확률변수로 볼 수 있기 때문에 각각 1이 나올 확률을 나타내는 모수 μk를 가진다. 따라서 전체 카테고리분포의 모수는 다음과 같이 벡터로 나타낸다."
   ]
  },
  {
   "cell_type": "markdown",
   "id": "f71fd9ed",
   "metadata": {},
   "source": [
    "$$μ=(μ1,⋯,μK)$$"
   ]
  },
  {
   "cell_type": "markdown",
   "id": "bb541b23",
   "metadata": {},
   "source": [
    "이 모수 벡터도 다음과 같이 제한 조건을 가진다"
   ]
  },
  {
   "cell_type": "markdown",
   "id": "8705bffd",
   "metadata": {},
   "source": [
    "$$0≤μi≤1$$"
   ]
  },
  {
   "cell_type": "markdown",
   "id": "1b420918",
   "metadata": {},
   "source": [
    "$$\\displaystyle\\sum_{k=1}^k  u_k =1$$"
   ]
  },
  {
   "cell_type": "markdown",
   "id": "862662cc",
   "metadata": {},
   "source": [
    "첫 번째 제한 조건은 모수 μk가 0과 1 사이의 값만 가질 수 있다는 점을 가리킨다. 두 번째 제한 조건은 μk의 합이 1이 된다는 것이다. 모든 경우의 확률의 합은 1이 되어야 하므로 이 또한 당연하다. 다만 0 아니면 1만 되어야 하는 xk 와는 달리 μk는 0부터 1 사이의 어떤 실숫값이든 가질 수 있다."
   ]
  },
  {
   "cell_type": "markdown",
   "id": "1e55a672",
   "metadata": {},
   "source": [
    "# 카테고리 확률분포"
   ]
  },
  {
   "cell_type": "markdown",
   "id": "1cfa8124",
   "metadata": {},
   "source": [
    "$$Cat(x;μ)$$"
   ]
  },
  {
   "cell_type": "markdown",
   "id": "92306a8b",
   "metadata": {},
   "source": [
    "$$Cat(x;μ)=μ_1^x1μ_2^x2⋯μ_K^xK=\\prod_{k=1}^K u_k^xk$$"
   ]
  },
  {
   "cell_type": "markdown",
   "id": "31b97717",
   "metadata": {},
   "source": [
    "# 카테고리분포의 모멘트"
   ]
  },
  {
   "cell_type": "markdown",
   "id": "a27566cb",
   "metadata": {},
   "source": [
    "기댓값"
   ]
  },
  {
   "cell_type": "markdown",
   "id": "e12cad03",
   "metadata": {},
   "source": [
    "$$E[xk]=μk$$"
   ]
  },
  {
   "cell_type": "markdown",
   "id": "b475a3b9",
   "metadata": {},
   "source": [
    "분산"
   ]
  },
  {
   "cell_type": "markdown",
   "id": "8473382b",
   "metadata": {},
   "source": [
    "$$Var[xk]=μk(1−μk)$$"
   ]
  },
  {
   "cell_type": "markdown",
   "id": "d9c983fc",
   "metadata": {},
   "source": [
    "# 사이파이를 이용한 카테고리분포의 시뮬레이션"
   ]
  },
  {
   "cell_type": "markdown",
   "id": "5a469834",
   "metadata": {},
   "source": [
    "사이파이는 카테고리분포를 위한 별도의 클래스를 제공하지 않는다. 하지만 뒤에서 설명할 다항분포를 위한 multinomial 클래스에서 시행 횟수를 1로 설정하면 카테고리분포가 되므로 이 명령을 사용할 수 있다. 다음은 모수가 μ=(0.1,0.1,0.1,0.1,0.3,0.3)인 카테고리분포를 시뮬레이션한 것이다."
   ]
  },
  {
   "cell_type": "code",
   "execution_count": 7,
   "id": "920d747d",
   "metadata": {},
   "outputs": [],
   "source": [
    "mu = [0.1, 0.1, 0.1, 0.1, 0.3, 0.3]\n",
    "rv = sp.stats.multinomial(1, mu)"
   ]
  },
  {
   "cell_type": "code",
   "execution_count": 8,
   "id": "0bc919fd",
   "metadata": {},
   "outputs": [
    {
     "data": {
      "image/png": "[encoded data removed]",
      "text/plain": [
       "<Figure size 432x288 with 1 Axes>"
      ]
     },
     "metadata": {
      "needs_background": "light"
     },
     "output_type": "display_data"
    }
   ],
   "source": [
    "xx = np.arange(1, 7)\n",
    "xx_ohe = pd.get_dummies(xx)\n",
    "\n",
    "plt.bar(xx, rv.pmf(xx_ohe.values))\n",
    "plt.ylabel(\"P(x)\")\n",
    "plt.xlabel(\"표본값\")\n",
    "plt.title(\"카테고리분포의 확률질량함수\")\n",
    "plt.show()"
   ]
  },
  {
   "cell_type": "code",
   "execution_count": 9,
   "id": "b1656565",
   "metadata": {},
   "outputs": [
    {
     "data": {
      "text/plain": [
       "array([[0, 0, 0, 0, 0, 1],\n",
       "       [0, 0, 0, 0, 1, 0],\n",
       "       [0, 0, 0, 1, 0, 0],\n",
       "       [0, 0, 0, 0, 0, 1],\n",
       "       [0, 0, 1, 0, 0, 0]])"
      ]
     },
     "execution_count": 9,
     "metadata": {},
     "output_type": "execute_result"
    }
   ],
   "source": [
    "np.random.seed(1)\n",
    "X = rv.rvs(100)\n",
    "X[:5]"
   ]
  },
  {
   "cell_type": "code",
   "execution_count": 10,
   "id": "0c524f01",
   "metadata": {},
   "outputs": [
    {
     "data": {
      "image/png": "[encoded data removed]",
      "text/plain": [
       "<Figure size 432x288 with 1 Axes>"
      ]
     },
     "metadata": {
      "needs_background": "light"
     },
     "output_type": "display_data"
    }
   ],
   "source": [
    "y = X.sum(axis=0) / float(len(X))\n",
    "plt.bar(np.arange(1, 7), y)\n",
    "plt.title(\"카테고리분포의 시뮬레이션 결과\")\n",
    "plt.xlabel(\"표본값\")\n",
    "plt.ylabel(\"비율\")\n",
    "plt.show()"
   ]
  },
  {
   "cell_type": "code",
   "execution_count": 11,
   "id": "2f9cc075",
   "metadata": {},
   "outputs": [
    {
     "data": {
      "text/html": [
       "<div>\n",
       "<style scoped>\n",
       "    .dataframe tbody tr th:only-of-type {\n",
       "        vertical-align: middle;\n",
       "    }\n",
       "\n",
       "    .dataframe tbody tr th {\n",
       "        vertical-align: top;\n",
       "    }\n",
       "\n",
       "    .dataframe thead th {\n",
       "        text-align: right;\n",
       "    }\n",
       "</style>\n",
       "<table border=\"1\" class=\"dataframe\">\n",
       "  <thead>\n",
       "    <tr style=\"text-align: right;\">\n",
       "      <th></th>\n",
       "      <th>표본값</th>\n",
       "      <th>유형</th>\n",
       "      <th>비율</th>\n",
       "    </tr>\n",
       "  </thead>\n",
       "  <tbody>\n",
       "    <tr>\n",
       "      <th>0</th>\n",
       "      <td>1</td>\n",
       "      <td>이론</td>\n",
       "      <td>0.10</td>\n",
       "    </tr>\n",
       "    <tr>\n",
       "      <th>1</th>\n",
       "      <td>1</td>\n",
       "      <td>시뮬레이션</td>\n",
       "      <td>0.10</td>\n",
       "    </tr>\n",
       "    <tr>\n",
       "      <th>2</th>\n",
       "      <td>2</td>\n",
       "      <td>이론</td>\n",
       "      <td>0.10</td>\n",
       "    </tr>\n",
       "    <tr>\n",
       "      <th>3</th>\n",
       "      <td>2</td>\n",
       "      <td>시뮬레이션</td>\n",
       "      <td>0.15</td>\n",
       "    </tr>\n",
       "    <tr>\n",
       "      <th>4</th>\n",
       "      <td>3</td>\n",
       "      <td>이론</td>\n",
       "      <td>0.10</td>\n",
       "    </tr>\n",
       "    <tr>\n",
       "      <th>5</th>\n",
       "      <td>3</td>\n",
       "      <td>시뮬레이션</td>\n",
       "      <td>0.13</td>\n",
       "    </tr>\n",
       "    <tr>\n",
       "      <th>6</th>\n",
       "      <td>4</td>\n",
       "      <td>이론</td>\n",
       "      <td>0.10</td>\n",
       "    </tr>\n",
       "    <tr>\n",
       "      <th>7</th>\n",
       "      <td>4</td>\n",
       "      <td>시뮬레이션</td>\n",
       "      <td>0.07</td>\n",
       "    </tr>\n",
       "    <tr>\n",
       "      <th>8</th>\n",
       "      <td>5</td>\n",
       "      <td>이론</td>\n",
       "      <td>0.30</td>\n",
       "    </tr>\n",
       "    <tr>\n",
       "      <th>9</th>\n",
       "      <td>5</td>\n",
       "      <td>시뮬레이션</td>\n",
       "      <td>0.33</td>\n",
       "    </tr>\n",
       "    <tr>\n",
       "      <th>10</th>\n",
       "      <td>6</td>\n",
       "      <td>이론</td>\n",
       "      <td>0.30</td>\n",
       "    </tr>\n",
       "    <tr>\n",
       "      <th>11</th>\n",
       "      <td>6</td>\n",
       "      <td>시뮬레이션</td>\n",
       "      <td>0.22</td>\n",
       "    </tr>\n",
       "  </tbody>\n",
       "</table>\n",
       "</div>"
      ],
      "text/plain": [
       "    표본값     유형    비율\n",
       "0     1     이론  0.10\n",
       "1     1  시뮬레이션  0.10\n",
       "2     2     이론  0.10\n",
       "3     2  시뮬레이션  0.15\n",
       "4     3     이론  0.10\n",
       "5     3  시뮬레이션  0.13\n",
       "6     4     이론  0.10\n",
       "7     4  시뮬레이션  0.07\n",
       "8     5     이론  0.30\n",
       "9     5  시뮬레이션  0.33\n",
       "10    6     이론  0.30\n",
       "11    6  시뮬레이션  0.22"
      ]
     },
     "execution_count": 11,
     "metadata": {},
     "output_type": "execute_result"
    }
   ],
   "source": [
    "df = pd.DataFrame({\"이론\": rv.pmf(xx_ohe.values), \"시뮬레이션\": y},\n",
    "                  index=np.arange(1, 7)).stack()\n",
    "df = df.reset_index()\n",
    "df.columns = [\"표본값\", \"유형\", \"비율\"]\n",
    "df.pivot(\"표본값\", \"유형\", \"비율\")\n",
    "df"
   ]
  },
  {
   "cell_type": "code",
   "execution_count": 12,
   "id": "d07744c9",
   "metadata": {},
   "outputs": [
    {
     "data": {
      "image/png": "[encoded data removed]",
      "text/plain": [
       "<Figure size 432x288 with 1 Axes>"
      ]
     },
     "metadata": {
      "needs_background": "light"
     },
     "output_type": "display_data"
    }
   ],
   "source": [
    "sns.barplot(x=\"표본값\", y=\"비율\", hue=\"유형\", data=df)\n",
    "plt.title(\"카테고리분포의 이론적 분포와 시뮬레이션 분포\")\n",
    "plt.show()"
   ]
  },
  {
   "cell_type": "markdown",
   "id": "b3118776",
   "metadata": {},
   "source": [
    "# 다중 분류문제"
   ]
  },
  {
   "cell_type": "markdown",
   "id": "0cc0312d",
   "metadata": {},
   "source": [
    "스팸메일 필터링과 같은 이진분류문제에서는 베르누이분포를 사용했다. 예측할 범주값이 두 가지보다 많은 다중분류문제(multi-class classification)에서는 카테고리분포를 사용하여 범주값 데이터 모형을 만들 수 있다.\n",
    "\n",
    "다음은 사이킷런 패키지에서 제공하는 붓꽃 데이터의 품종값을 시각화한 것이다. 0, 1, 2 세 가지의 범주값을 가지는 붓꽃 데이터의 품종값은 카테고리 K=3인 카테고리분포를 이룬다. 꽃잎 폭이라는 하는 특징에 따라 카테고리분포의 모양이 달라지는 것을 볼 수 있다."
   ]
  },
  {
   "cell_type": "code",
   "execution_count": 13,
   "id": "a542bb5c",
   "metadata": {},
   "outputs": [
    {
     "data": {
      "image/png": "[encoded data removed]",
      "text/plain": [
       "<Figure size 432x288 with 2 Axes>"
      ]
     },
     "metadata": {
      "needs_background": "light"
     },
     "output_type": "display_data"
    }
   ],
   "source": [
    "from sklearn.datasets import load_iris\n",
    "\n",
    "iris = load_iris()\n",
    "df = pd.DataFrame(iris.data, columns=iris.feature_names)\n",
    "df[\"품종\"] = pd.Series(iris.target, dtype=\"category\")\n",
    "\n",
    "df1 = df[df[\"petal width (cm)\"] > 1.5]\n",
    "df2 = df[df[\"petal width (cm)\"] <= 1.5]\n",
    "\n",
    "fig, ax = plt.subplots(1, 2)\n",
    "sns.countplot(x=\"품종\", data=df1, ax=ax[0]).set_title(\"꽃잎 폭 > 1.5cm\")\n",
    "sns.countplot(x=\"품종\", data=df2, ax=ax[1]).set_title(\"꽃잎 폭 <= 1.5cm\")\n",
    "plt.tight_layout()\n",
    "plt.show()"
   ]
  },
  {
   "cell_type": "markdown",
   "id": "4a0cd13e",
   "metadata": {},
   "source": [
    "# 다항분포"
   ]
  },
  {
   "cell_type": "markdown",
   "id": "174acd98",
   "metadata": {},
   "source": [
    "베르누이 확률변수의 데이터가 복수이면 이 데이터의 합이 이항 분포를 이루는 것처럼 카테고리 확률변수의 데이터가 여럿 있으면 이 데이터의 합은 **다항분포(Multinomial distribution)**가 된다. 비유를 들면 동전을 N번 던져 앞면이 나오는 횟수의 분포가 이항 분포이고 주사위를 N번 던져 각 면이 나오는 횟수 집합의 분포가 다항분포다."
   ]
  },
  {
   "cell_type": "markdown",
   "id": "8bb12e2f",
   "metadata": {},
   "source": [
    "다항분포는 카테고리가 K개인 카테고리 확률변수의 표본 데이터를 N개 얻었을 때, 각각의 카테고리 k(k=1,…,K)가 각각 xk번 나올 확률분포 즉, 표본값이 벡터 x=(x1,⋯,xK)가 되는 확률분포를 말한다."
   ]
  },
  {
   "cell_type": "markdown",
   "id": "781b8a7c",
   "metadata": {},
   "source": [
    "예를 들어 x=(1,2,1,2,3,1)은 6개의 숫자가 나올 수 있는 주사위를 10번 던져서 1인 면이 1번, 2인 면이 2번, 3인 면이 1번, 4인 면이 2번, 5인 면이 3 번, 6인 면이 1번 나왔다는 뜻이다."
   ]
  },
  {
   "cell_type": "markdown",
   "id": "49bdd3d9",
   "metadata": {},
   "source": [
    "$$Mu(x;N,μ)=(N,x)\\prod_{k=1}^K u_k^xk$$"
   ]
  },
  {
   "cell_type": "markdown",
   "id": "a5498b8b",
   "metadata": {},
   "source": [
    "# 다항분포의 모멘트"
   ]
  },
  {
   "cell_type": "markdown",
   "id": "64a98644",
   "metadata": {},
   "source": [
    "기댓값"
   ]
  },
  {
   "cell_type": "markdown",
   "id": "b19ef1fd",
   "metadata": {},
   "source": [
    "$$E[xk]=Nμk$$"
   ]
  },
  {
   "cell_type": "markdown",
   "id": "036215b3",
   "metadata": {},
   "source": [
    "분산"
   ]
  },
  {
   "cell_type": "markdown",
   "id": "fd97c779",
   "metadata": {},
   "source": [
    "$$Var[xk]=Nμk(1−μk)$$"
   ]
  },
  {
   "cell_type": "markdown",
   "id": "73b0f611",
   "metadata": {},
   "source": [
    "# 사이파이를 이용한 다항분포의 시뮬레이션"
   ]
  },
  {
   "cell_type": "markdown",
   "id": "92e27936",
   "metadata": {},
   "source": [
    "사이파이는 다항분포를 위한 multinomial 클래스를 지원한다. 인수로는 시행 횟수 N과 모수 벡터 μ를 받는다. 이 시뮬레이션은 5와 6이 다른 수보다 잘 나오게 만든 조작된 주사위를 30번 던졌을 때 나올 수 있는 여러 경우를 살펴본 것이다."
   ]
  },
  {
   "cell_type": "code",
   "execution_count": 15,
   "id": "f360bc8a",
   "metadata": {},
   "outputs": [
    {
     "data": {
      "text/plain": [
       "array([[ 3,  4,  3,  3,  8,  9],\n",
       "       [ 3,  3,  5,  6,  6,  7],\n",
       "       [ 4,  3,  3,  5,  5, 10],\n",
       "       [ 1,  0,  5,  5, 12,  7],\n",
       "       [ 7,  4,  2,  3,  5,  9],\n",
       "       [ 3,  1,  6,  3,  8,  9],\n",
       "       [ 2,  4,  3,  3,  5, 13],\n",
       "       [ 3,  3,  3,  6,  8,  7],\n",
       "       [ 2,  3,  4,  1, 11,  9],\n",
       "       [ 4,  2,  1,  2, 10, 11]])"
      ]
     },
     "execution_count": 15,
     "metadata": {},
     "output_type": "execute_result"
    }
   ],
   "source": [
    "N = 30\n",
    "mu = [0.1, 0.1, 0.1, 0.1, 0.3, 0.3]\n",
    "rv = sp.stats.multinomial(N, mu)\n",
    "\n",
    "np.random.seed(0)\n",
    "X = rv.rvs(100)\n",
    "X[:10]"
   ]
  },
  {
   "cell_type": "markdown",
   "id": "ab587060",
   "metadata": {},
   "source": [
    "다음은 이 시뮬레이션 결과를 시본 패키지의 스웜 플롯(swarm plot) 명령과 바이올린 플롯(violin plot) 명령을 사용하여 시각화한 것이다. 스웜 플롯은 각 카테고리에 해당하는 실숫값 데이터 집합을 하나하나 점으로 나타낸 것이고 바이올린 플롯은 이 데이터의 분포를 커널밀도(kernel density)라는 부드러운 곡선으로 표현한 것이다."
   ]
  },
  {
   "cell_type": "code",
   "execution_count": 16,
   "id": "22dcdd96",
   "metadata": {},
   "outputs": [
    {
     "name": "stderr",
     "output_type": "stream",
     "text": [
      "D:\\Anaconda\\envs\\minsu\\lib\\site-packages\\seaborn\\categorical.py:1296: UserWarning: 47.0% of the points cannot be placed; you may want to decrease the size of the markers or use stripplot.\n",
      "  warnings.warn(msg, UserWarning)\n",
      "D:\\Anaconda\\envs\\minsu\\lib\\site-packages\\seaborn\\categorical.py:1296: UserWarning: 44.0% of the points cannot be placed; you may want to decrease the size of the markers or use stripplot.\n",
      "  warnings.warn(msg, UserWarning)\n",
      "D:\\Anaconda\\envs\\minsu\\lib\\site-packages\\seaborn\\categorical.py:1296: UserWarning: 43.0% of the points cannot be placed; you may want to decrease the size of the markers or use stripplot.\n",
      "  warnings.warn(msg, UserWarning)\n",
      "D:\\Anaconda\\envs\\minsu\\lib\\site-packages\\seaborn\\categorical.py:1296: UserWarning: 39.0% of the points cannot be placed; you may want to decrease the size of the markers or use stripplot.\n",
      "  warnings.warn(msg, UserWarning)\n",
      "D:\\Anaconda\\envs\\minsu\\lib\\site-packages\\seaborn\\categorical.py:1296: UserWarning: 22.0% of the points cannot be placed; you may want to decrease the size of the markers or use stripplot.\n",
      "  warnings.warn(msg, UserWarning)\n",
      "D:\\Anaconda\\envs\\minsu\\lib\\site-packages\\seaborn\\categorical.py:1296: UserWarning: 21.0% of the points cannot be placed; you may want to decrease the size of the markers or use stripplot.\n",
      "  warnings.warn(msg, UserWarning)\n"
     ]
    },
    {
     "data": {
      "image/png": "[encoded data removed]",
      "text/plain": [
       "<Figure size 432x288 with 1 Axes>"
      ]
     },
     "metadata": {
      "needs_background": "light"
     },
     "output_type": "display_data"
    }
   ],
   "source": [
    "df = pd.DataFrame(X).stack().reset_index()\n",
    "df.columns = [\"시도\", \"클래스\", \"표본값\"]\n",
    "\n",
    "sns.violinplot(x=\"클래스\", y=\"표본값\", data=df, inner=\"quartile\")\n",
    "sns.swarmplot(x=\"클래스\", y=\"표본값\", data=df, color=\".3\")\n",
    "plt.title(\"다항분포의 시뮬레이션 결과\")\n",
    "plt.show()"
   ]
  },
  {
   "cell_type": "markdown",
   "id": "717fd22b",
   "metadata": {},
   "source": [
    "맷플롯립 패키지의 박스 플롯(box plot) 명령으로 더 단순하게 시각화할 수도 있다. boxplot 명령은 박스-휘스커 플롯(box-whisker Plot) 혹은 간단히 **박스 플롯(box-plot)**이라 부르는 차트를 그려준다. 박스 플롯은 상자(box)와 상자 바깥의 선(whisker)으로 이루어진다."
   ]
  },
  {
   "cell_type": "markdown",
   "id": "c99b1ff3",
   "metadata": {},
   "source": [
    "상자는 실숫값 분포에서 1사분위수(Q1)와 3사분위수(Q3)를 뜻하고 이 3사분위수와 1사분수의 차이(Q3 - Q1)를 **IQR(inter-quartile range)**이라고 한다. 상자 내부의 가로선은 중앙값을 나타낸다. 박스 외부의 세로선은 1사분위 수보다 1.5IQR만큼 낮은 값과 3사분위 수보다 1.5IQR만큼 높은 값의 구간을 기준으로 그 구간의 내부에 있는 가장 큰 데이터와 가장 작은 데이터를 잇는 선분이다. 그 바깥의 점은 **아웃라이어(outlier)**라고 부르는데 점으로 표시한다."
   ]
  },
  {
   "cell_type": "code",
   "execution_count": 17,
   "id": "73afe610",
   "metadata": {},
   "outputs": [
    {
     "data": {
      "image/png": "[encoded data removed]",
      "text/plain": [
       "<Figure size 432x288 with 1 Axes>"
      ]
     },
     "metadata": {
      "needs_background": "light"
     },
     "output_type": "display_data"
    }
   ],
   "source": [
    "plt.boxplot(X)\n",
    "plt.title(\"다항분포의 시뮬레이션 결과\")\n",
    "plt.xlabel(\"클래스\")\n",
    "plt.ylabel(\"표본값\")\n",
    "plt.show()"
   ]
  },
  {
   "cell_type": "markdown",
   "id": "b7977523",
   "metadata": {},
   "source": [
    "다항분포의 표본 하나는 같은 모수를 가진 카테고리분포를 표본 여럿을 합쳐놓은 것이므로 다항분포의 표본이 이루는 분포의 모양은 카테고리분포와 비슷해진다."
   ]
  },
  {
   "cell_type": "code",
   "execution_count": null,
   "id": "de91a97f",
   "metadata": {},
   "outputs": [],
   "source": []
  }
 ],
 "metadata": {
  "kernelspec": {
   "display_name": "Python 3",
   "language": "python",
   "name": "python3"
  },
  "language_info": {
   "codemirror_mode": {
    "name": "ipython",
    "version": 3
   },
   "file_extension": ".py",
   "mimetype": "text/x-python",
   "name": "python",
   "nbconvert_exporter": "python",
   "pygments_lexer": "ipython3",
   "version": "3.6.13"
  }
 },
 "nbformat": 4,
 "nbformat_minor": 5
}
