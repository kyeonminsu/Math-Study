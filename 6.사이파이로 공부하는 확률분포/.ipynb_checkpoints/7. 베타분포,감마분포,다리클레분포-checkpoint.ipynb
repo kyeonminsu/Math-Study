{
 "cells": [
  {
   "cell_type": "code",
   "execution_count": 1,
   "id": "0f90ee73",
   "metadata": {},
   "outputs": [],
   "source": [
    "import scipy as sp\n",
    "import scipy.stats\n",
    "import numpy as np\n",
    "import seaborn as sns\n",
    "import matplotlib.pyplot as plt\n",
    "import pandas as pd\n",
    "import matplotlib as mpl\n",
    "plt.rc(\"font\", size=10, family='Malgun Gothic')\n",
    "plt.rc('axes', unicode_minus=False)"
   ]
  },
  {
   "cell_type": "markdown",
   "id": "f26c9e05",
   "metadata": {},
   "source": [
    "베타분포, 감마분포, 디리클레분포는 모숫값을 조정하여 분포의 모양을 우리가 원하는대로 쉽게 바꿀 수 있다. 모숫값은 분포 모양을 조절하는 조절값이라고 생각하면 된다. 이러한 특성때문에 이 분포들은 데이터가 이루는 분포를 표현하기보다는 베이지안 확률론의 관점에서 어떤 값에 대해 우리가 가지고 있는 확신 혹은 신뢰의 정도를 표현하는데 주로 사용된다."
   ]
  },
  {
   "cell_type": "markdown",
   "id": "c8b7bfe9",
   "metadata": {},
   "source": [
    "# 베타분포"
   ]
  },
  {
   "cell_type": "markdown",
   "id": "5fad02a8",
   "metadata": {},
   "source": [
    "**베타분포(Beta distribution)**는 a와 b라는 두 모수를 가지며 표본 공간은 0과 1사이의 실수다. 즉 0과 1 사이의 표본값만 가질 수 있다."
   ]
  },
  {
   "cell_type": "markdown",
   "id": "b0b06c61",
   "metadata": {},
   "source": [
    "$$Beta(x;a,b),0≤x≤1$$"
   ]
  },
  {
   "cell_type": "markdown",
   "id": "ae3728a7",
   "metadata": {},
   "source": [
    "베타분포의 확률밀도함수는 다음과 같다."
   ]
  },
  {
   "cell_type": "markdown",
   "id": "385bf16b",
   "metadata": {},
   "source": [
    "$$Beta(x;a,b)={\\gamma(a+b) \\over \\gamma(a)\\gamma(b)}x^{a-1}(1-x)^{b-1}$$"
   ]
  },
  {
   "cell_type": "markdown",
   "id": "b2787ed4",
   "metadata": {},
   "source": [
    "감마함수(Gamma function)라는 특수함수로 다음처럼 정의된다."
   ]
  },
  {
   "cell_type": "markdown",
   "id": "a91fc3a1",
   "metadata": {},
   "source": [
    "$$ \\gamma a =\\int_0^\\infty \\mathrm{x}^{a-1}\\,\\mathrm{e^{-x}}dx $$"
   ]
  },
  {
   "cell_type": "code",
   "execution_count": 4,
   "id": "4db22786",
   "metadata": {},
   "outputs": [
    {
     "data": {
      "image/png": "[encoded data removed]",
      "text/plain": [
       "<Figure size 432x288 with 4 Axes>"
      ]
     },
     "metadata": {
      "needs_background": "light"
     },
     "output_type": "display_data"
    }
   ],
   "source": [
    "xx = np.linspace(0, 1, 1000)\n",
    "plt.subplot(221)\n",
    "plt.fill_between(xx, sp.stats.beta(1.0001, 1.0001).pdf(xx))\n",
    "plt.ylim(0, 6)\n",
    "plt.title(\"(A) a=1, b=1\")\n",
    "plt.subplot(222)\n",
    "plt.fill_between(xx, sp.stats.beta(4, 2).pdf(xx))\n",
    "plt.ylim(0, 6)\n",
    "plt.title(\"(B) a=4, b=2, 최빈값={0}\".format((4-1)/(4+2-2)))\n",
    "plt.subplot(223)\n",
    "plt.fill_between(xx, sp.stats.beta(8, 4).pdf(xx))\n",
    "plt.ylim(0, 6)\n",
    "plt.title(\"(C) a=8, b=4, 최빈값={0}\".format((8-1)/(8+4-2)))\n",
    "plt.subplot(224)\n",
    "plt.fill_between(xx, sp.stats.beta(30, 12).pdf(xx))\n",
    "plt.ylim(0, 6)\n",
    "plt.title(\"(D) a=30, b=12, 최빈값={0}\".format((30-1)/(30+12-2)))\n",
    "plt.tight_layout()\n",
    "plt.show()"
   ]
  },
  {
   "cell_type": "markdown",
   "id": "572b1352",
   "metadata": {},
   "source": [
    "(A): 베르누이분포의 모수 μ를 추정할 수 없다. (정보가 없음)"
   ]
  },
  {
   "cell_type": "markdown",
   "id": "55c5f3c9",
   "metadata": {},
   "source": [
    "(B): 베르누이분포의 모수 μ값이 0.75일 가능성이 가장 크다. (정확도 낮음)"
   ]
  },
  {
   "cell_type": "markdown",
   "id": "d068b123",
   "metadata": {},
   "source": [
    "(C): 베르누이분포의 모수 μ값이 0.70일 가능성이 가장 크다. (정확도 중간)"
   ]
  },
  {
   "cell_type": "markdown",
   "id": "d7626cb0",
   "metadata": {},
   "source": [
    "(D): 베르누이분포의 모수 μ이 0.725일 가능성이 가장 크다. (정확도 높음)"
   ]
  },
  {
   "cell_type": "markdown",
   "id": "25329cec",
   "metadata": {},
   "source": [
    "이 그림으로부터 모수 a,b가 베타분포의 모양을 결정하는 형상 인자(shape factor)라는 것을 알 수 있다. 베타분포의 기댓값, 최빈값, 분산은 각각 다음과 같다.\n",
    "\n"
   ]
  },
  {
   "cell_type": "markdown",
   "id": "a8d71a10",
   "metadata": {},
   "source": [
    "기댓값"
   ]
  },
  {
   "cell_type": "markdown",
   "id": "bcaeedfc",
   "metadata": {},
   "source": [
    "$$E[x] = {a \\over a+b}$$"
   ]
  },
  {
   "cell_type": "markdown",
   "id": "f41a1c52",
   "metadata": {},
   "source": [
    "최빈값 : 확률분포가 가장 커지는 위치"
   ]
  },
  {
   "cell_type": "markdown",
   "id": "f4c48ab3",
   "metadata": {},
   "source": [
    "$$mode = {a-1 \\over a+b-2}$$"
   ]
  },
  {
   "cell_type": "markdown",
   "id": "670ef039",
   "metadata": {},
   "source": [
    "분산 : 확률분포의 폭"
   ]
  },
  {
   "cell_type": "markdown",
   "id": "8f167d03",
   "metadata": {},
   "source": [
    "$$Var[x]= {ab \\over (a+b)^2(a+b+1)}$$"
   ]
  },
  {
   "cell_type": "markdown",
   "id": "0d21ffd6",
   "metadata": {},
   "source": [
    "최빈값 수식을 보면 a=b일 때 x=0.5에서 가장 확률밀도가 커지는 것을 알 수 있다. 또한 분산 수식에서 분모가 3차식, 분자가 2차식이기 때문에 a,b의 값이 커질수록 분산 즉, 확률분포의 폭이 작아진다."
   ]
  },
  {
   "cell_type": "markdown",
   "id": "d4917397",
   "metadata": {},
   "source": [
    "# 감마분포"
   ]
  },
  {
   "cell_type": "markdown",
   "id": "2ed58032",
   "metadata": {},
   "source": [
    "**감마분포(Gamma distribution)**도 베타분포처럼 모수의 베이지안 추정에 사용된다. 다만 베타분포가 0부터 1 사잇값을 가지는 모수를 베이지안 방법으로 추정하는 데 사용되는 것과 달리 감마분포는 0부터 무한대의 값을 가지는 양수 값을 추정하는 데 사용된다."
   ]
  },
  {
   "cell_type": "markdown",
   "id": "4154ac38",
   "metadata": {},
   "source": [
    "감마분포의 확률 밀도 함수는 a와 b라는 두 모수를 가지며 수학적으로 다음과 같이 정의된다."
   ]
  },
  {
   "cell_type": "markdown",
   "id": "6744f458",
   "metadata": {},
   "source": [
    "$$Gam(x;a,b)={1 \\over \\gamma(a)}b^ax^{a-1}e^{-bx}$$"
   ]
  },
  {
   "cell_type": "markdown",
   "id": "532f51b5",
   "metadata": {},
   "source": [
    "감마분포의 확률 밀도 함수는 모수 a, b의 값에 따라 다음과 같은 형상을 가진다."
   ]
  },
  {
   "cell_type": "markdown",
   "id": "70293a9a",
   "metadata": {},
   "source": [
    "사이파이의 stats 서브패키지에서 제공하는 gamma 클래스는 모수 b=1로 고정되어 a 값만 설정할 수 있다. b를 바꾸려면 x값 스케일과 계수를 수동으로 설정하여야 한다."
   ]
  },
  {
   "cell_type": "code",
   "execution_count": 7,
   "id": "6c8d0bf8",
   "metadata": {},
   "outputs": [
    {
     "data": {
      "image/png": "[encoded data removed]",
      "text/plain": [
       "<Figure size 432x288 with 4 Axes>"
      ]
     },
     "metadata": {
      "needs_background": "light"
     },
     "output_type": "display_data"
    }
   ],
   "source": [
    "xx = np.linspace(0, 16, 100)\n",
    "plt.subplot(221)\n",
    "plt.fill_between(xx, sp.stats.gamma(8).pdf(xx))\n",
    "plt.ylim(0, 0.4)\n",
    "plt.title(\"(A) a=9, b=1, 최빈값=7\")\n",
    "plt.subplot(222)\n",
    "plt.fill_between(xx, sp.stats.gamma(6).pdf(xx))\n",
    "plt.ylim(0, 0.4)\n",
    "plt.title(\"(B) a=6, b=1, 최빈값=5\")\n",
    "plt.subplot(223)\n",
    "plt.fill_between(xx, sp.stats.gamma(3).pdf(xx))\n",
    "plt.ylim(0, 0.4)\n",
    "plt.title(\"(C) a=3, b=1, 최빈값=2\")\n",
    "plt.subplot(224)\n",
    "plt.fill_between(xx, sp.stats.gamma(2).pdf(xx))\n",
    "plt.ylim(0, 0.4)\n",
    "plt.title(\"(D) a=2, b=1, 최빈값=1\")\n",
    "plt.tight_layout()\n",
    "plt.show()"
   ]
  },
  {
   "cell_type": "markdown",
   "id": "f52cbe3e",
   "metadata": {},
   "source": [
    "(A): 추정하고자 하는 모숫값이 8일 가능성이 가장 크다. (정확도 아주 낮음)"
   ]
  },
  {
   "cell_type": "markdown",
   "id": "24cc3247",
   "metadata": {},
   "source": [
    "(B): 추정하고자 하는 모숫값이 5일 가능성이 가장 크다. (정확도 낮음)"
   ]
  },
  {
   "cell_type": "markdown",
   "id": "be8f3b6b",
   "metadata": {},
   "source": [
    "(C): 추정하고자 하는 모숫값이 2일 가능성이 가장 크다. (정확도 높음)"
   ]
  },
  {
   "cell_type": "markdown",
   "id": "94028ff1",
   "metadata": {},
   "source": [
    "(D): 추정하고자 하는 모숫값이 1일 가능성이 가장 크다. (정확도 아주 높음)"
   ]
  },
  {
   "cell_type": "markdown",
   "id": "8996b5a8",
   "metadata": {},
   "source": [
    "# 디리클레분포"
   ]
  },
  {
   "cell_type": "markdown",
   "id": "8426d113",
   "metadata": {},
   "source": [
    "**디리클레분포(Dirichlet distribution)**는 베타분포의 확장판이라고 할 수 있다. 베타분포는 0과 1사이의 값을 가지는 단일(univariate) 확률변수의 베이지안 모형에 사용되고 디리클레분포는 0과 1사이의 사이의 값을 가지는 다변수(multivariate) 확률변수의 베이지안 모형에 사용된다."
   ]
  },
  {
   "cell_type": "markdown",
   "id": "9ce6f60d",
   "metadata": {},
   "source": [
    "예를 들어 K=3인 디리클레분포를 따르는 확률변수는 다음과 같은 값들을 표본으로 가질 수 있다."
   ]
  },
  {
   "cell_type": "markdown",
   "id": "1300857f",
   "metadata": {},
   "source": [
    "(0.2,0.3,0.5)"
   ]
  },
  {
   "cell_type": "markdown",
   "id": "d13f2983",
   "metadata": {},
   "source": [
    "(0.5,0.5,0)"
   ]
  },
  {
   "cell_type": "markdown",
   "id": "771f4865",
   "metadata": {},
   "source": [
    "(1,0,0)"
   ]
  },
  {
   "cell_type": "markdown",
   "id": "6f1cf388",
   "metadata": {},
   "source": [
    "디리클레분포의 확률밀도함수는 다음과 같다."
   ]
  },
  {
   "cell_type": "markdown",
   "id": "154a0fb6",
   "metadata": {},
   "source": [
    "$$Dir(x;α)=Dir(x_1,x_2,⋯,x_K;α_1,α_2,⋯,α_K)$$"
   ]
  },
  {
   "cell_type": "markdown",
   "id": "5010aed1",
   "metadata": {},
   "source": [
    "$$={1 \\over B(a_1,a_2<...,a_k)}\\prod_{k=1}^n x_i^{a_i-1}$$"
   ]
  },
  {
   "cell_type": "markdown",
   "id": "ee95bac9",
   "metadata": {},
   "source": [
    "이 식에서 x=(x1,x2,…,xK)는 디리클레분포의 표본값 벡터이고 α=(α1,α2,…,αK)는 모수 벡터다. B(α1,α2,⋯,αK)는 베타함수라는 특수함수로 다음처럼 정의한다."
   ]
  },
  {
   "cell_type": "markdown",
   "id": "292b0fd2",
   "metadata": {},
   "source": [
    "$$B(α1,α2,⋯,αK) = {\\prod_{i=1}\\gamma(a_i) \\over  \\gamma(\\displaystyle\\sum_{i=1}^K a_i)}$$"
   ]
  },
  {
   "cell_type": "markdown",
   "id": "aba99517",
   "metadata": {},
   "source": [
    "디리클레분포의 확률값 x는 다음 제한조건을 따른다."
   ]
  },
  {
   "cell_type": "markdown",
   "id": "4eeb983b",
   "metadata": {},
   "source": [
    "$$0≤x_i≤1, \\displaystyle\\sum_{i=1}^K x_i=1$$"
   ]
  },
  {
   "cell_type": "markdown",
   "id": "a04d4810",
   "metadata": {},
   "source": [
    "디리클레분포의 기댓값, 최빈값, 분산은 다음과 같다."
   ]
  },
  {
   "cell_type": "markdown",
   "id": "671d9976",
   "metadata": {},
   "source": [
    "기댓값 "
   ]
  },
  {
   "cell_type": "markdown",
   "id": "a92e909d",
   "metadata": {},
   "source": [
    "$$E[x_k]={α_k \\over ∑α}$$"
   ]
  },
  {
   "cell_type": "markdown",
   "id": "3469aed4",
   "metadata": {},
   "source": [
    "최빈값"
   ]
  },
  {
   "cell_type": "markdown",
   "id": "ab33205d",
   "metadata": {},
   "source": [
    "$$mode={α_k−1\\over ∑α−K}$$"
   ]
  },
  {
   "cell_type": "markdown",
   "id": "5559b714",
   "metadata": {},
   "source": [
    "분산"
   ]
  },
  {
   "cell_type": "markdown",
   "id": "c884698b",
   "metadata": {},
   "source": [
    "$$Var[xk]={αk(∑α−α_k) \\over(∑α)^2(∑α+1)}$$"
   ]
  },
  {
   "cell_type": "markdown",
   "id": "1599e42b",
   "metadata": {},
   "source": [
    "기댓값 공식을 보면 모수인 (α1,α2,…,αK)는 (x1,x2,…,xK) 중 어느 수가 더 크게 나올 가능성이 높은지를 결정하는 형상 인자(shape factor)임을 알 수 있다. 모든 αi값이 동일하면 모든 xi의 분포가 같아진다."
   ]
  },
  {
   "cell_type": "markdown",
   "id": "beba9cd9",
   "metadata": {},
   "source": [
    "또한 분산 공식을 보면 (α1,α2,…,αK)의 절대값이 클수록 분산이 작아진다. 즉, 디리클리 분포의 표본값 x가 어떤 특정한 값 주변이 나올 가능성이 높아진다."
   ]
  },
  {
   "cell_type": "code",
   "execution_count": null,
   "id": "ef074b3f",
   "metadata": {},
   "outputs": [],
   "source": []
  }
 ],
 "metadata": {
  "kernelspec": {
   "display_name": "Python 3",
   "language": "python",
   "name": "python3"
  },
  "language_info": {
   "codemirror_mode": {
    "name": "ipython",
    "version": 3
   },
   "file_extension": ".py",
   "mimetype": "text/x-python",
   "name": "python",
   "nbconvert_exporter": "python",
   "pygments_lexer": "ipython3",
   "version": "3.6.13"
  }
 },
 "nbformat": 4,
 "nbformat_minor": 5
}
