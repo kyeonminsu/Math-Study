{
 "cells": [
  {
   "cell_type": "markdown",
   "id": "7008fc79",
   "metadata": {},
   "source": [
    "앞 절에서 검정 방법을 공부하고 통계량분포의 누적분포함수를 사용하여 유의확률을 계산하는 방법을 살펴보았다. 사이파이 패키지는 다음과 같은 다양한 검정 명령을 제공한다. 따라서 사이파이 패키지를 사용하면 여러분이 직접 통계량을 계산하거나 통계량분포의 누적분포함수로 유의확률을 계산할 필요가 없다. 또한 검정으로 내린 결론이 틀린 경우인 1종오류와 2종오류에 알아본다."
   ]
  },
  {
   "cell_type": "markdown",
   "id": "f015c084",
   "metadata": {},
   "source": [
    "$\\bullet$이항검정(Binomial Test)"
   ]
  },
  {
   "cell_type": "markdown",
   "id": "c48dd861",
   "metadata": {},
   "source": [
    "$\\bullet$카이제곱검정(Chi-squared Test)"
   ]
  },
  {
   "cell_type": "markdown",
   "id": "93fb81c1",
   "metadata": {},
   "source": [
    "$\\bullet$카이제곱 독립검정(Chi-squared Contingency Test)"
   ]
  },
  {
   "cell_type": "markdown",
   "id": "a7a8e70a",
   "metadata": {},
   "source": [
    "$\\bullet$단일표본 z검정(One-sample z-Test)"
   ]
  },
  {
   "cell_type": "markdown",
   "id": "7ab3f2d3",
   "metadata": {},
   "source": [
    "$\\bullet$단일표본 t검정(One-sample t-Test)"
   ]
  },
  {
   "cell_type": "markdown",
   "id": "b6cae974",
   "metadata": {},
   "source": [
    "$\\bullet$독립표본 t검정(Independent two-sample t-Test)"
   ]
  },
  {
   "cell_type": "markdown",
   "id": "7d377c4f",
   "metadata": {},
   "source": [
    "$\\bullet$대응표본 t검정(Paired two-sample t-Test)"
   ]
  },
  {
   "cell_type": "markdown",
   "id": "ac7c15d3",
   "metadata": {},
   "source": [
    "$\\bullet$등분산검정(Equal-variance Test)"
   ]
  },
  {
   "cell_type": "markdown",
   "id": "bc71b523",
   "metadata": {},
   "source": [
    "$\\bullet$정규성검정(Normality Test)"
   ]
  },
  {
   "cell_type": "code",
   "execution_count": 1,
   "id": "ee1a9ff7",
   "metadata": {},
   "outputs": [],
   "source": [
    "import scipy as sp\n",
    "import scipy.stats\n",
    "import numpy as np\n",
    "import seaborn as sns\n",
    "import matplotlib.pyplot as plt\n",
    "import pandas as pd\n",
    "import matplotlib as mpl\n",
    "plt.rc(\"font\", size=10, family='Malgun Gothic')\n",
    "plt.rc('axes', unicode_minus=False)"
   ]
  },
  {
   "cell_type": "markdown",
   "id": "25f6f58c",
   "metadata": {},
   "source": [
    "# 이항검정"
   ]
  },
  {
   "cell_type": "markdown",
   "id": "64888a6f",
   "metadata": {},
   "source": [
    "이항검정은 이항분포를 이용하여 베르누이 확률변수의 모수 μ에 대한 가설을 조사하는 검정 방법이다. 사이파이 stats 서브패키지의 binom_test 명령은 이항검정의 유의확률을 계산한다. 디폴트 귀무가설은 μ=0.5이다."
   ]
  },
  {
   "cell_type": "markdown",
   "id": "9afb5eea",
   "metadata": {},
   "source": [
    "scipy.stats.binom_test(x, n=None, p=0.5, alternative='two-sided')"
   ]
  },
  {
   "cell_type": "markdown",
   "id": "2e6879f5",
   "metadata": {},
   "source": [
    "$\\bullet$ x: 검정통계량. 1이 나온 횟수"
   ]
  },
  {
   "cell_type": "markdown",
   "id": "a6ace5a6",
   "metadata": {},
   "source": [
    "$\\bullet$ n: 총 시도 횟수"
   ]
  },
  {
   "cell_type": "markdown",
   "id": "20c20179",
   "metadata": {},
   "source": [
    "$\\bullet$ p: 귀무가설의 μ값"
   ]
  },
  {
   "cell_type": "markdown",
   "id": "cab6b00f",
   "metadata": {},
   "source": [
    "$\\bullet$ alternative: 양측검정인 경우에는 'two-sided', 단측검정인 경우에는 'less' 또는 'greater'"
   ]
  },
  {
   "cell_type": "markdown",
   "id": "13e27e15",
   "metadata": {},
   "source": [
    "# 예제"
   ]
  },
  {
   "cell_type": "markdown",
   "id": "b691cc48",
   "metadata": {},
   "source": [
    "실제 모수 $μ_0$=0.5인 베르누이 확률 변수의 시뮬레이션을 통해 이항검정을 실습해보자. 데이터 개수 N=10일 때 1이 나온 횟수가 7이다."
   ]
  },
  {
   "cell_type": "code",
   "execution_count": 8,
   "id": "a07fe226",
   "metadata": {},
   "outputs": [
    {
     "name": "stdout",
     "output_type": "stream",
     "text": [
      "[1 1 1 1 0 1 0 1 1 0]\n"
     ]
    },
    {
     "data": {
      "text/plain": [
       "7"
      ]
     },
     "execution_count": 8,
     "metadata": {},
     "output_type": "execute_result"
    }
   ],
   "source": [
    "N = 10\n",
    "mu_0 = 0.5\n",
    "np.random.seed(0)\n",
    "x = sp.stats.bernoulli(mu_0).rvs(N)\n",
    "print(x)\n",
    "n = np.count_nonzero(x)\n",
    "n"
   ]
  },
  {
   "cell_type": "markdown",
   "id": "75e2e02d",
   "metadata": {},
   "source": [
    "모수가 0.5인 베르누이 분포라면 가장 가능성이 높은 5가 나와야 하는데 여기에는 7이 나왔다. 그렇다면 이 확률변수의 모수는 0.5가 아니라 0.7일까? 모수가 0.5라는 귀무가설의 신빙성을 확인하기 위해 binom_test 이항검정 명령으로 유의확률을 구하면 약 34%이다."
   ]
  },
  {
   "cell_type": "code",
   "execution_count": 9,
   "id": "9b5d9fcb",
   "metadata": {},
   "outputs": [
    {
     "data": {
      "text/plain": [
       "0.3437499999999999"
      ]
     },
     "execution_count": 9,
     "metadata": {},
     "output_type": "execute_result"
    }
   ],
   "source": [
    "sp.stats.binom_test(n, N)"
   ]
  },
  {
   "cell_type": "markdown",
   "id": "0878d45b",
   "metadata": {},
   "source": [
    "유의확률이 높으므로 모수가 0.5라는 귀무가설을 기각할 수 없다."
   ]
  },
  {
   "cell_type": "markdown",
   "id": "5a145471",
   "metadata": {},
   "source": [
    "# 카이제곱검정"
   ]
  },
  {
   "cell_type": "markdown",
   "id": "420514a3",
   "metadata": {},
   "source": [
    "앞에서 베르누이분포의 모수에 대해 검정을 하려면 베르누이분포 표본의 합이라는 통계량이 이항분포를 따른다는 성질을 이용하면 된다고 배웠다. 그러면 카테고리분포의 모수에 대해 검정을 하려면 카테고리분포 표본의 합이라는 통계량이 다항분포를 따른다는 성질을 이용할 수 있을까?"
   ]
  },
  {
   "cell_type": "markdown",
   "id": "b7919ae4",
   "metadata": {},
   "source": [
    "결론을 말하자면 통계량으로 카테고리분포 표본의 합은 이용할 수 없다. 왜냐하면 이 통계량은 스칼라가 아닌 벡터값을 가지기 때문이다. 이 때는 **카이제곱검정(Chi-squared test)**이라는 방법을 사용한다."
   ]
  },
  {
   "cell_type": "markdown",
   "id": "1191b861",
   "metadata": {},
   "source": [
    "카이제곱검정은 범주형 확률분포의 모수 $μ=(μ_1,…,μ_K)$에 대한 가설을 조사하는 검정 방법으로 **적합도검정(goodness of fit test)**이라고도 부른다. 원래 범주형 값 k가 나와야 할 횟수의 기댓값 $m_k$와 실제 나온 횟수 $x_k$의 차이를 이용하여 다음처럼 검정통계량을 구한다.\n",
    "\n"
   ]
  },
  {
   "cell_type": "markdown",
   "id": "e1b0c9a1",
   "metadata": {},
   "source": [
    "$$\\displaystyle\\sum_{k=1}^k {(x_k-m_k)^2 \\over m_k}$$"
   ]
  },
  {
   "cell_type": "markdown",
   "id": "cccd0692",
   "metadata": {},
   "source": [
    "사이파이 stats 서브패키지의 chisquare 명령은 카이제곱검정의 검정통계량과 유의확률을 계산한다. f_exp이 주어지지 않는 경우의 디폴트 귀무가설은$ μ=({1\\over K},…,{1\\over K})$이다."
   ]
  },
  {
   "cell_type": "markdown",
   "id": "ebe4a7a6",
   "metadata": {},
   "source": [
    "scipy.stats.chisquare(f_obs, f_exp=None)"
   ]
  },
  {
   "cell_type": "markdown",
   "id": "57300f2e",
   "metadata": {},
   "source": [
    "$\\bullet$ f_obs : 데이터 행렬"
   ]
  },
  {
   "cell_type": "markdown",
   "id": "e7c4bdbd",
   "metadata": {},
   "source": [
    "$\\bullet$ f_exp : 기댓값 행렬"
   ]
  },
  {
   "cell_type": "markdown",
   "id": "a1ba62a3",
   "metadata": {},
   "source": [
    "예제"
   ]
  },
  {
   "cell_type": "markdown",
   "id": "2c21203a",
   "metadata": {},
   "source": [
    "데이터 개수 N=10, 귀무가설 모수 μ0=(0.25,0.25,0.25,0.25), 실제 데이터 (0,3,5,2)인 경우 대해 카이제곱검정 명령을 실시해보자."
   ]
  },
  {
   "cell_type": "code",
   "execution_count": 12,
   "id": "0e28d745",
   "metadata": {},
   "outputs": [
    {
     "name": "stdout",
     "output_type": "stream",
     "text": [
      "[2 2 2 2 1 2 1 3 3 1]\n"
     ]
    },
    {
     "data": {
      "text/plain": [
       "array([0, 3, 5, 2], dtype=int64)"
      ]
     },
     "execution_count": 12,
     "metadata": {},
     "output_type": "execute_result"
    }
   ],
   "source": [
    "N = 10\n",
    "K = 4\n",
    "mu_0 = np.ones(K)/K\n",
    "np.random.seed(0)\n",
    "x = np.random.choice(K, N, p=mu_0)\n",
    "print(x)\n",
    "n = np.bincount(x, minlength=K)\n",
    "n"
   ]
  },
  {
   "cell_type": "code",
   "execution_count": 13,
   "id": "0e75fe7f",
   "metadata": {},
   "outputs": [
    {
     "data": {
      "text/plain": [
       "Power_divergenceResult(statistic=5.199999999999999, pvalue=0.157724450396663)"
      ]
     },
     "execution_count": 13,
     "metadata": {},
     "output_type": "execute_result"
    }
   ],
   "source": [
    "sp.stats.chisquare(n)"
   ]
  },
  {
   "cell_type": "markdown",
   "id": "a4e6dd8a",
   "metadata": {},
   "source": [
    "유의확률이 17.8%로 높으므로 귀무가설을 기각할 수 없다. 따라서 $u_0$=(0.25,0.25,0.25,0.25)다."
   ]
  },
  {
   "cell_type": "markdown",
   "id": "49efbdef",
   "metadata": {},
   "source": [
    "# 카이제곱 독립검정"
   ]
  },
  {
   "cell_type": "markdown",
   "id": "9179ad39",
   "metadata": {},
   "source": [
    "카이제곱검정은 어떤 범주형 확률변수 X가 다른 범주형 확률변수 Y와 독립인지 상관관계를 가지는가를 검증하는데도 사용할 수 있다. 카이제곱검정을 독립을 확인하는데 사용하면 카이제곱 독립검정이라고 부른다."
   ]
  },
  {
   "cell_type": "markdown",
   "id": "7e5b34d1",
   "metadata": {},
   "source": [
    "# 단일표본 z검정"
   ]
  },
  {
   "cell_type": "markdown",
   "id": "174c14cd",
   "metadata": {},
   "source": [
    "**단일표본 z검정(One-sample z-test)**은 분산 $σ^2$의 값을 정확히 알고 있는 정규분포의 표본에 대해 기댓값을 조사하는 검정방법이다. 단일표본 z검정의 경우에는 많이 사용되지 않고 사이파이에 별도의 함수가 준비되어 있지 않으므로 norm 명령의 cdf 메서드를 사용하여 직접 구현해야 한다."
   ]
  },
  {
   "cell_type": "markdown",
   "id": "fef0049e",
   "metadata": {},
   "source": [
    "실제 모수 μ0=0, $σ^2=1$인 경우 대해 표본 데이터 N=10개를 시뮬레이션으로 구하여 귀무가설 μ0=0에 대한 단일표본 z검정 명령을 실시해보자."
   ]
  },
  {
   "cell_type": "code",
   "execution_count": 14,
   "id": "09bdd54a",
   "metadata": {},
   "outputs": [
    {
     "data": {
      "text/plain": [
       "array([ 1.76405235,  0.40015721,  0.97873798,  2.2408932 ,  1.86755799,\n",
       "       -0.97727788,  0.95008842, -0.15135721, -0.10321885,  0.4105985 ])"
      ]
     },
     "execution_count": 14,
     "metadata": {},
     "output_type": "execute_result"
    }
   ],
   "source": [
    "N = 10\n",
    "mu_0 = 0\n",
    "np.random.seed(0)\n",
    "x = sp.stats.norm(mu_0).rvs(N)\n",
    "x"
   ]
  },
  {
   "cell_type": "markdown",
   "id": "2f1c6932",
   "metadata": {},
   "source": [
    "단일표본 z검정 함수를 다음처럼 구현할 수 있다. 이 함수는 검정통계량과 유의확률을 튜플형태로 반환한다."
   ]
  },
  {
   "cell_type": "code",
   "execution_count": 15,
   "id": "3d329316",
   "metadata": {},
   "outputs": [
    {
     "data": {
      "text/plain": [
       "(2.3338341854824276, 0.019604406021683538)"
      ]
     },
     "execution_count": 15,
     "metadata": {},
     "output_type": "execute_result"
    }
   ],
   "source": [
    "def ztest_1samp(x, sigma2=1, mu=0):\n",
    "    z = (x.mean() - mu) / np.sqrt(sigma2/len(x))\n",
    "    return z, 2 * sp.stats.norm().sf(np.abs(z))\n",
    "\n",
    "ztest_1samp(x)"
   ]
  },
  {
   "cell_type": "markdown",
   "id": "768772af",
   "metadata": {},
   "source": [
    "만약 유의 수준이 5%면 유의확률이 1.96%이므로 귀무가설을 기각할 수 있다. 따라서 μ≠0이다. 이 경우는 검정 결과가 오류인 예다. 검정 결과가 오류로 나온 이유는 데이터 수가 10개로 부족하기 때문이다. 이러한 오류는 귀무가설이 진실임에도 불구하고 기각된 경우로 **1종오류(Type 1 Error)**라고 한다. 1종오류가 나오려면 귀무가설이 진실이지만 유의확률은 유의수준보다 작아야한다. 1종오류가 나올 확률은 유의수준과 같다"
   ]
  },
  {
   "cell_type": "markdown",
   "id": "5d0b5f68",
   "metadata": {},
   "source": [
    "데이터 개수 N=100, 실제 모수 μ0=0인 경우 대해 단일표본 z검정 명령을 실시해보자."
   ]
  },
  {
   "cell_type": "code",
   "execution_count": 16,
   "id": "a490112f",
   "metadata": {},
   "outputs": [
    {
     "data": {
      "text/plain": [
       "(0.5980801553448499, 0.5497864508624168)"
      ]
     },
     "execution_count": 16,
     "metadata": {},
     "output_type": "execute_result"
    }
   ],
   "source": [
    "N = 100\n",
    "mu_0 = 0\n",
    "np.random.seed(0)\n",
    "x = sp.stats.norm(mu_0).rvs(N)\n",
    "ztest_1samp(x)"
   ]
  },
  {
   "cell_type": "markdown",
   "id": "df24f45d",
   "metadata": {},
   "source": [
    "유의확률이 54.98%이므로 귀무가설을 기각할 수 없다. 따라서 μ=0이다."
   ]
  },
  {
   "cell_type": "markdown",
   "id": "039a038a",
   "metadata": {},
   "source": [
    "# 단일표본 t검정"
   ]
  },
  {
   "cell_type": "markdown",
   "id": "3695f627",
   "metadata": {},
   "source": [
    "**단일표본 t검정(One-sample t-test)**은 정규분포의 표본에 대해 기댓값을 조사하는 검정방법이다. 검정통계량으로 스튜던트 t분포를 가진 t통계량을 사용한다.\n",
    "\n"
   ]
  },
  {
   "cell_type": "markdown",
   "id": "cfc45a1e",
   "metadata": {},
   "source": [
    "$${{\\overline x - u_0 \\over s} \\over \\sqrt{N} }$$"
   ]
  },
  {
   "cell_type": "markdown",
   "id": "4a2839cf",
   "metadata": {},
   "source": [
    "이 식에서 ${\\overline x}$는 표본평균, s는 표본표준편차다."
   ]
  },
  {
   "cell_type": "markdown",
   "id": "e37fffeb",
   "metadata": {},
   "source": [
    "사이파이의 stats 서브 패키지의 ttest_1samp 명령을 사용한다. ttest_1samp 명령의 경우에는 디폴트 모수가 없으므로 기댓값을 나타내는 popmean 인수를 직접 지정해야 한다."
   ]
  },
  {
   "cell_type": "markdown",
   "id": "a0b3887e",
   "metadata": {},
   "source": [
    "scipy.stats.ttest_1samp(a, popmean)"
   ]
  },
  {
   "cell_type": "markdown",
   "id": "1e3f5b59",
   "metadata": {},
   "source": [
    "$\\bullet$ a: 표본 데이터 배열"
   ]
  },
  {
   "cell_type": "markdown",
   "id": "fa6567e4",
   "metadata": {},
   "source": [
    "$\\bullet$ popmean: 귀무가설의 기댓값"
   ]
  },
  {
   "cell_type": "markdown",
   "id": "dac6d74f",
   "metadata": {},
   "source": [
    "데이터 개수 N=10, 실제 모수 μ0=0인 경우 대해 단일표본 t검정 명령을 실시해보자."
   ]
  },
  {
   "cell_type": "code",
   "execution_count": 17,
   "id": "d2656bcb",
   "metadata": {},
   "outputs": [
    {
     "data": {
      "text/plain": [
       "Ttest_1sampResult(statistic=2.28943967238967, pvalue=0.04781846490857058)"
      ]
     },
     "execution_count": 17,
     "metadata": {},
     "output_type": "execute_result"
    }
   ],
   "source": [
    "N = 10\n",
    "mu_0 = 0\n",
    "np.random.seed(0)\n",
    "x = sp.stats.norm(mu_0).rvs(N)\n",
    "sp.stats.ttest_1samp(x, popmean=0)"
   ]
  },
  {
   "cell_type": "markdown",
   "id": "40abfa92",
   "metadata": {},
   "source": [
    "유의확률이 4.78%이므로 만약 유의 수준이 5% 이상 이라면 귀무가설을 기각할 수 있다. 따라서 μ≠0다. 이 경우도 유형 1 오류의 예라고 볼 수 있다. 실제 모수 μ0가 0인데도 시뮬레이션 결과에 대한 검정 결과가 오류로 나온 이유는 데이터 수가 10개로 부족하기 때문이다."
   ]
  },
  {
   "cell_type": "markdown",
   "id": "884f3385",
   "metadata": {},
   "source": [
    "이번에는 데이터의 개수 N이 100인 경우에 대해 단일표본 t검정 명령을 실시해보자."
   ]
  },
  {
   "cell_type": "code",
   "execution_count": 18,
   "id": "59ee528e",
   "metadata": {},
   "outputs": [
    {
     "data": {
      "text/plain": [
       "Ttest_1sampResult(statistic=0.5904283402851698, pvalue=0.5562489158694675)"
      ]
     },
     "execution_count": 18,
     "metadata": {},
     "output_type": "execute_result"
    }
   ],
   "source": [
    "N = 100\n",
    "mu_0 = 0\n",
    "np.random.seed(0)\n",
    "x = sp.stats.norm(mu_0).rvs(N)\n",
    "sp.stats.ttest_1samp(x, popmean=0)"
   ]
  },
  {
   "cell_type": "markdown",
   "id": "107cdf5c",
   "metadata": {},
   "source": [
    "# 독립표본 t검정"
   ]
  },
  {
   "cell_type": "markdown",
   "id": "64855da5",
   "metadata": {},
   "source": [
    "**독립표본 t검정(Independent-two-sample t-test)**은 두 개의 독립적인 정규분포에서 나온 N1, N2개의 데이터 셋을 사용하여 두 정규분포의 기댓값이 동일한지를 검사한다."
   ]
  },
  {
   "cell_type": "markdown",
   "id": "cf9ab768",
   "metadata": {},
   "source": [
    "검정통계량으로는 두 정규분포의 분산이 같은 경우에는"
   ]
  },
  {
   "cell_type": "markdown",
   "id": "a347cfee",
   "metadata": {},
   "source": [
    "$$t={\\overline x_1¯ \\overline x_2 \\over s ⋅ \\sqrt({1 \\over N_1}+{1 \\over N_2})}$$"
   ]
  },
  {
   "cell_type": "markdown",
   "id": "caa82157",
   "metadata": {},
   "source": [
    "을 사용한다. 여기에서 $\\overline x_1, \\overline x_2$는 각각의 표본평균이고 표본표준편차 s는 각각의 표본분산 $s_1^2, s_2^2$로부터 다음처럼 구한다."
   ]
  },
  {
   "cell_type": "markdown",
   "id": "c6f780db",
   "metadata": {},
   "source": [
    "# 대응표본 t검정"
   ]
  },
  {
   "cell_type": "markdown",
   "id": "3f51039c",
   "metadata": {},
   "source": [
    "대응표본 t검정(Paired-two-sample t-test)은 독립표본 t검정을 두 집단의 표본이 1대1 대응하는 경우에 대해 수정한 것이다. 즉, 독립표본 t검정과 마찬가지로 두 정규분포의 기댓값이 같은지 확인하기 위한 검정이다. 통계량은 대응하는 표본 값의 차이 $x_d=x_{i,i}−x_{i,2}$에서 다음처럼 계산한다."
   ]
  },
  {
   "cell_type": "code",
   "execution_count": null,
   "id": "a2136472",
   "metadata": {},
   "outputs": [],
   "source": []
  }
 ],
 "metadata": {
  "kernelspec": {
   "display_name": "Python 3",
   "language": "python",
   "name": "python3"
  },
  "language_info": {
   "codemirror_mode": {
    "name": "ipython",
    "version": 3
   },
   "file_extension": ".py",
   "mimetype": "text/x-python",
   "name": "python",
   "nbconvert_exporter": "python",
   "pygments_lexer": "ipython3",
   "version": "3.6.13"
  }
 },
 "nbformat": 4,
 "nbformat_minor": 5
}
