{
 "cells": [
  {
   "cell_type": "markdown",
   "id": "23a09a5b",
   "metadata": {},
   "source": [
    "‘분석하고자 하는 데이터가 어떤 확률변수로부터 실현된 표본이다’는 데이터 분석의 첫 번째 가정이다. 이 말은 우리가 정말 관심이 있는 것이 지금 손에 가지고 있는 데이터 즉, 하나의 실현체에 불과한 표본이 아니라 그 뒤에서 이 데이터를 만들어내는 확률변수의 분포라는 뜻이다. 확률론적인 관점에서 볼 때 데이터는 이 확률변수의 분포를 알아내기 위한 일련의 참고 자료일 뿐이다. 따라서 우리는 데이터 즉 표본으로부터 확률변수의 분포를 알아내야 한다."
   ]
  },
  {
   "cell_type": "markdown",
   "id": "1eba3083",
   "metadata": {},
   "source": [
    "# 확률분포의 결정"
   ]
  },
  {
   "cell_type": "markdown",
   "id": "2b6cf9d4",
   "metadata": {},
   "source": [
    "1.확률변수가 우리가 배운 베르누이분포, 이항분포, 정규분포 등의 기본 분포 중 어떤 확률분포를 따르는지 알아낸다."
   ]
  },
  {
   "cell_type": "markdown",
   "id": "02ccd6fa",
   "metadata": {},
   "source": [
    "2.데이터로부터 해당 확률분포의 모수의 값을 구한다."
   ]
  },
  {
   "cell_type": "markdown",
   "id": "4de4eee6",
   "metadata": {},
   "source": [
    "첫 번째 작업 즉, 확률변수가 어떤 확률분포를 따르는가는 데이터가 생성되는 원리를 알거나 데이터의 특성을 알면 추측할 수 있다. 히스토그램을 그려서 확률분포의 모양을 살펴보고 힌트를 얻을 수도 있다."
   ]
  },
  {
   "cell_type": "markdown",
   "id": "a217d263",
   "metadata": {},
   "source": [
    "$\\bullet$ 데이터는 0 또는 1 뿐이다. → 베르누이분포"
   ]
  },
  {
   "cell_type": "markdown",
   "id": "162ecc8d",
   "metadata": {},
   "source": [
    "$\\bullet$ 데이터는 카테고리 값이어야 한다. → 카테고리분포"
   ]
  },
  {
   "cell_type": "markdown",
   "id": "4f81696b",
   "metadata": {},
   "source": [
    "$\\bullet$ 데이터는 0과 1 사이의 실수 값이어야 한다. → 베타분포"
   ]
  },
  {
   "cell_type": "markdown",
   "id": "ed12a26d",
   "metadata": {},
   "source": [
    "$\\bullet$ 데이터는 항상 0 또는 양수이어야 한다. → 로그정규분포, 감마분포, F분포, 카이제곱분포, 지수분포, 하프코시분포 등"
   ]
  },
  {
   "cell_type": "markdown",
   "id": "c94e1d94",
   "metadata": {},
   "source": [
    "$\\bullet$ 데이터가 크기 제한이 없는 실수다. → 정규분포 또는 스튜던트 t분포, 코시분포, 라플라스분포 등"
   ]
  },
  {
   "cell_type": "markdown",
   "id": "669694d1",
   "metadata": {},
   "source": [
    "이 규칙에는 예외가 있을 수 있다. 예를 들어 항상 양수인 데이터인 경우에도 정규분포로 모형화가 가능하다면 정규분포를 사용할 수 있다 정규분포와 스튜던트 t분포와 같이 둘 중 어느 것인지 구분하기 힘든 경우에는 뒤에서 설명할 정규성 검정이나 KS검정을 사용한다."
   ]
  },
  {
   "cell_type": "markdown",
   "id": "8d6a539b",
   "metadata": {},
   "source": [
    "# 모수 추정 방법론"
   ]
  },
  {
   "cell_type": "markdown",
   "id": "b0ae2998",
   "metadata": {},
   "source": [
    "두번째 작업 즉, **모수의 값으로 가장 가능성이 높은 하나의 숫자를 찾아내는 작업을 모수 추정(parameter estimation)**이라고 한다. 모수 추정 방법에는 다음과 같은 방법들이 있다."
   ]
  },
  {
   "cell_type": "markdown",
   "id": "00cba89f",
   "metadata": {},
   "source": [
    "$\\bullet$ 모멘트 방법"
   ]
  },
  {
   "cell_type": "markdown",
   "id": "09b44d15",
   "metadata": {},
   "source": [
    "$\\bullet$ 최대가능도 추정법"
   ]
  },
  {
   "cell_type": "markdown",
   "id": "4f080208",
   "metadata": {},
   "source": [
    "$\\bullet$베이즈 추정법"
   ]
  },
  {
   "cell_type": "markdown",
   "id": "c7da4afe",
   "metadata": {},
   "source": [
    "# 모멘트 방법"
   ]
  },
  {
   "cell_type": "markdown",
   "id": "16d15e7d",
   "metadata": {},
   "source": [
    "모멘트 방법(method of moment)은 표본자료에 대한 표본모멘트가 확률분포의 이론적 모멘트와 같다고 가정하여 모수를 구한다."
   ]
  },
  {
   "cell_type": "markdown",
   "id": "fea4b36a",
   "metadata": {},
   "source": [
    "$$μ=E[X]≜\\overline x ={1 \\over N} \\displaystyle\\sum_{i=1}^N x_i$$"
   ]
  },
  {
   "cell_type": "markdown",
   "id": "8204c943",
   "metadata": {},
   "source": [
    "위 식에서 N은 데이터의 개수, xi는 표본 데이터다."
   ]
  },
  {
   "cell_type": "markdown",
   "id": "6b53fe02",
   "metadata": {},
   "source": [
    "2차 모멘트(분산)의 경우에는 다음과 같다."
   ]
  },
  {
   "cell_type": "markdown",
   "id": "b6ba7a0b",
   "metadata": {},
   "source": [
    "$$ σ^2 = E[(X-u)^2]≜ \\overline s^2 = {1 \\over N-1} \\displaystyle\\sum_{i=1}^N(x_i-\\overline x )^2$$"
   ]
  },
  {
   "cell_type": "markdown",
   "id": "683a85e6",
   "metadata": {},
   "source": [
    "# 예제: 베르누이분포의 모수 추정"
   ]
  },
  {
   "cell_type": "markdown",
   "id": "bd50201f",
   "metadata": {},
   "source": [
    "모멘트 방법으로 베르누이 확률변수의 모수 μ를 구하면 다음과 같다. 이 식에서 $N_1$은 1의 개수이다."
   ]
  },
  {
   "cell_type": "markdown",
   "id": "26b72e31",
   "metadata": {},
   "source": [
    "$$μ=E[X]≜\\overline x ={1 \\over N} \\displaystyle\\sum_{i=1}^N x_i = {N_1 \\over N}$$"
   ]
  },
  {
   "cell_type": "markdown",
   "id": "3851ee79",
   "metadata": {},
   "source": [
    "# 예제: 정규분포의 모수 추정"
   ]
  },
  {
   "cell_type": "markdown",
   "id": "5fa0444e",
   "metadata": {},
   "source": [
    "모멘트 방법으로 정규분포의 모수 μ, σ2를 구하면 다음과 같다."
   ]
  },
  {
   "cell_type": "markdown",
   "id": "85a51c93",
   "metadata": {},
   "source": [
    "$$μ=E[X]≜\\overline x ={1 \\over N} \\displaystyle\\sum_{i=1}^N x_i$$"
   ]
  },
  {
   "cell_type": "markdown",
   "id": "2ccdb25a",
   "metadata": {},
   "source": [
    "$$ σ^2 = E[(X-u)^2]≜ \\overline s^2 = {1 \\over N-1} \\displaystyle\\sum_{i=1}^N(x_i-\\overline x )^2$$"
   ]
  },
  {
   "cell_type": "markdown",
   "id": "b5044106",
   "metadata": {},
   "source": [
    "정규분포는 모수가 아예 모멘트로 정의되어 있기 때문에 모멘트 방법을 사용하면 아주 쉽게 모수를 추정할 수 있다."
   ]
  },
  {
   "cell_type": "markdown",
   "id": "29c1339f",
   "metadata": {},
   "source": [
    "# 예제: 베타 분포의 모수 추정"
   ]
  },
  {
   "cell_type": "markdown",
   "id": "e0043895",
   "metadata": {},
   "source": [
    "모멘트 방법으로 베타 분포의 모수 a, b를 구하면 다음과 같다. 이 경우에는 모수와 모멘트 간의 관계를 이용하여 비선형 연립 방정식을 풀어야 한다."
   ]
  },
  {
   "cell_type": "markdown",
   "id": "deaf8aa4",
   "metadata": {},
   "source": [
    "$$ E[X] ={a \\over a+b}≜ \\overline x$$"
   ]
  },
  {
   "cell_type": "markdown",
   "id": "1e7426ad",
   "metadata": {},
   "source": [
    "$$E[(X-u)^2] = {ab \\over (a+b)^2(a+b+1)}≜s^2$$"
   ]
  },
  {
   "cell_type": "markdown",
   "id": "67a8c435",
   "metadata": {},
   "source": [
    "이 비선형 연립방정식을 풀어 해를 구하면 다음과 같다."
   ]
  },
  {
   "cell_type": "markdown",
   "id": "9cd64d77",
   "metadata": {},
   "source": [
    "$$a={\\overline x} ({{\\overline x}(1−{\\overline x}) \\over s^2}−1)$$"
   ]
  },
  {
   "cell_type": "markdown",
   "id": "1c183f6b",
   "metadata": {},
   "source": [
    "$$b=(1−\\overline x)({{\\overline x}(1−{\\overline x}) \\over s^2}−1)$$"
   ]
  },
  {
   "cell_type": "markdown",
   "id": "51721ea8",
   "metadata": {},
   "source": [
    "예를 들어 다음과 같은 데이터 100개가 있다고 하자. 값이 항상 0과 1사이에 있으므로 베타분포를 따른다고 가정하다. 사실 이 데이터는 a=15,b=12인 베타분포에서 생성한 것이다."
   ]
  },
  {
   "cell_type": "code",
   "execution_count": 5,
   "id": "1debef8f",
   "metadata": {},
   "outputs": [],
   "source": [
    "import scipy as sp\n",
    "import scipy.stats\n",
    "import numpy as np\n",
    "import seaborn as sns\n",
    "import matplotlib.pyplot as plt\n",
    "import pandas as pd\n",
    "import matplotlib as mpl\n",
    "plt.rc(\"font\", size=10, family='Malgun Gothic')\n",
    "plt.rc('axes', unicode_minus=False)"
   ]
  },
  {
   "cell_type": "code",
   "execution_count": 6,
   "id": "700bf082",
   "metadata": {},
   "outputs": [
    {
     "name": "stderr",
     "output_type": "stream",
     "text": [
      "D:\\Anaconda\\envs\\minsu\\lib\\site-packages\\seaborn\\distributions.py:2557: FutureWarning: `distplot` is a deprecated function and will be removed in a future version. Please adapt your code to use either `displot` (a figure-level function with similar flexibility) or `histplot` (an axes-level function for histograms).\n",
      "  warnings.warn(msg, FutureWarning)\n"
     ]
    },
    {
     "data": {
      "image/png": "[encoded data removed]",
      "text/plain": [
       "<Figure size 432x288 with 1 Axes>"
      ]
     },
     "metadata": {
      "needs_background": "light"
     },
     "output_type": "display_data"
    }
   ],
   "source": [
    "np.random.seed(0)\n",
    "x = sp.stats.beta(15, 12).rvs(10000)\n",
    "\n",
    "sns.distplot(x, kde=False, norm_hist=True)\n",
    "plt.title(\"베타 분포를 따르는 표본의 히스토그램\")\n",
    "plt.show()"
   ]
  },
  {
   "cell_type": "markdown",
   "id": "840f54e5",
   "metadata": {},
   "source": [
    "모멘트 방법으로 모수를 계산하면 원래의 모수와 비슷한 값을 구할 수 있다."
   ]
  },
  {
   "cell_type": "code",
   "execution_count": 7,
   "id": "93f84d67",
   "metadata": {},
   "outputs": [
    {
     "name": "stdout",
     "output_type": "stream",
     "text": [
      "(15.346682046700685, 12.2121537049535)\n"
     ]
    }
   ],
   "source": [
    "def estimate_beta(x):\n",
    "    x_bar = x.mean()\n",
    "    s2 = x.var()\n",
    "    a = x_bar * (x_bar * (1 - x_bar) / s2 - 1)\n",
    "    b = (1 - x_bar) * (x_bar * (1 - x_bar) / s2 - 1)\n",
    "    return a, b\n",
    "\n",
    "\n",
    "params = estimate_beta(x)\n",
    "print(params)"
   ]
  },
  {
   "cell_type": "markdown",
   "id": "1f9c72c7",
   "metadata": {},
   "source": [
    "추정된 모수값으로 확률밀도분포를 그리면 히스토그램과 일치하는 것을 볼 수 있다."
   ]
  },
  {
   "cell_type": "code",
   "execution_count": 8,
   "id": "e782b682",
   "metadata": {},
   "outputs": [
    {
     "data": {
      "image/png": "[encoded data removed]",
      "text/plain": [
       "<Figure size 432x288 with 1 Axes>"
      ]
     },
     "metadata": {
      "needs_background": "light"
     },
     "output_type": "display_data"
    }
   ],
   "source": [
    "xx = np.linspace(0, 1, 1000)\n",
    "sns.distplot(x, kde=False, norm_hist=True)\n",
    "plt.plot(xx, sp.stats.beta(params[0], params[1]).pdf(xx))\n",
    "plt.xlim(0, 1)\n",
    "plt.title(\"베타 분포를 따르는 표본의 히스토그램과 추정된 확률밀도함수\")\n",
    "plt.show()"
   ]
  },
  {
   "cell_type": "markdown",
   "id": "19adbb87",
   "metadata": {},
   "source": [
    "연속확률분포의 히스토그램을 그릴 수 있는 시본의 distplot() 함수에는 사실 모수 추정기능이 포함되어 있다. fit인수로 사이파이의 확률변수 명령을 넣으면 이 명령을 사용하여 모수를 추정한 뒤에 해당 확률밀도함수 그래프를 히스토그램과 함께 보여준다."
   ]
  },
  {
   "cell_type": "code",
   "execution_count": 9,
   "id": "99e93662",
   "metadata": {},
   "outputs": [
    {
     "name": "stderr",
     "output_type": "stream",
     "text": [
      "D:\\Anaconda\\envs\\minsu\\lib\\site-packages\\seaborn\\distributions.py:2557: FutureWarning: `distplot` is a deprecated function and will be removed in a future version. Please adapt your code to use either `displot` (a figure-level function with similar flexibility) or `histplot` (an axes-level function for histograms).\n",
      "  warnings.warn(msg, FutureWarning)\n"
     ]
    },
    {
     "data": {
      "image/png": "[encoded data removed]",
      "text/plain": [
       "<Figure size 432x288 with 1 Axes>"
      ]
     },
     "metadata": {
      "needs_background": "light"
     },
     "output_type": "display_data"
    }
   ],
   "source": [
    "sns.distplot(x, kde=False, norm_hist=True, fit=sp.stats.beta)\n",
    "plt.xlim(0, 1)\n",
    "plt.title(\"베타 분포를 따르는 표본의 히스토그램과 추정된 확률밀도함수\")\n",
    "plt.show()"
   ]
  },
  {
   "cell_type": "code",
   "execution_count": null,
   "id": "f7584a15",
   "metadata": {},
   "outputs": [],
   "source": []
  }
 ],
 "metadata": {
  "kernelspec": {
   "display_name": "Python 3",
   "language": "python",
   "name": "python3"
  },
  "language_info": {
   "codemirror_mode": {
    "name": "ipython",
    "version": 3
   },
   "file_extension": ".py",
   "mimetype": "text/x-python",
   "name": "python",
   "nbconvert_exporter": "python",
   "pygments_lexer": "ipython3",
   "version": "3.6.13"
  }
 },
 "nbformat": 4,
 "nbformat_minor": 5
}
