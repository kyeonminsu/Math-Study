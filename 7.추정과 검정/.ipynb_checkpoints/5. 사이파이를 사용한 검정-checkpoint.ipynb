{
 "cells": [
  {
   "cell_type": "markdown",
   "id": "7008fc79",
   "metadata": {},
   "source": [
    "앞 절에서 검정 방법을 공부하고 통계량분포의 누적분포함수를 사용하여 유의확률을 계산하는 방법을 살펴보았다. 사이파이 패키지는 다음과 같은 다양한 검정 명령을 제공한다. 따라서 사이파이 패키지를 사용하면 여러분이 직접 통계량을 계산하거나 통계량분포의 누적분포함수로 유의확률을 계산할 필요가 없다. 또한 검정으로 내린 결론이 틀린 경우인 1종오류와 2종오류에 알아본다."
   ]
  },
  {
   "cell_type": "markdown",
   "id": "f015c084",
   "metadata": {},
   "source": [
    "$\\bullet$이항검정(Binomial Test)"
   ]
  },
  {
   "cell_type": "markdown",
   "id": "c48dd861",
   "metadata": {},
   "source": [
    "$\\bullet$카이제곱검정(Chi-squared Test)"
   ]
  },
  {
   "cell_type": "markdown",
   "id": "93fb81c1",
   "metadata": {},
   "source": [
    "$\\bullet$카이제곱 독립검정(Chi-squared Contingency Test)"
   ]
  },
  {
   "cell_type": "markdown",
   "id": "a7a8e70a",
   "metadata": {},
   "source": [
    "$\\bullet$단일표본 z검정(One-sample z-Test)"
   ]
  },
  {
   "cell_type": "markdown",
   "id": "7ab3f2d3",
   "metadata": {},
   "source": [
    "$\\bullet$단일표본 t검정(One-sample t-Test)"
   ]
  },
  {
   "cell_type": "markdown",
   "id": "b6cae974",
   "metadata": {},
   "source": [
    "$\\bullet$독립표본 t검정(Independent two-sample t-Test)"
   ]
  },
  {
   "cell_type": "markdown",
   "id": "7d377c4f",
   "metadata": {},
   "source": [
    "$\\bullet$대응표본 t검정(Paired two-sample t-Test)"
   ]
  },
  {
   "cell_type": "markdown",
   "id": "ac7c15d3",
   "metadata": {},
   "source": [
    "$\\bullet$등분산검정(Equal-variance Test)"
   ]
  },
  {
   "cell_type": "markdown",
   "id": "bc71b523",
   "metadata": {},
   "source": [
    "$\\bullet$정규성검정(Normality Test)"
   ]
  },
  {
   "cell_type": "code",
   "execution_count": null,
   "id": "832598c5",
   "metadata": {},
   "outputs": [],
   "source": []
  }
 ],
 "metadata": {
  "kernelspec": {
   "display_name": "Python 3",
   "language": "python",
   "name": "python3"
  },
  "language_info": {
   "codemirror_mode": {
    "name": "ipython",
    "version": 3
   },
   "file_extension": ".py",
   "mimetype": "text/x-python",
   "name": "python",
   "nbconvert_exporter": "python",
   "pygments_lexer": "ipython3",
   "version": "3.6.13"
  }
 },
 "nbformat": 4,
 "nbformat_minor": 5
}
