{
 "cells": [
  {
   "cell_type": "markdown",
   "id": "313ef062",
   "metadata": {},
   "source": [
    "베이즈 추정법(Bayesian estimation)은 모숫값이 가질 수 있는 모든 가능성의 분포를 계산하는 작업이다."
   ]
  },
  {
   "cell_type": "markdown",
   "id": "a14cc036",
   "metadata": {},
   "source": [
    "어떤 확률분포함수의 모수를 μ라고 하자. 최대가능도 추정법에서는 모수를 미지의 상수로 보았지만 베이즈 추정법에서는 모수를 확률변수로 본다. 확률변수는 확률밀도함수를 가진다. 즉, 어떤 값이 가능성이 높고 어떤 값이 가능성이 낮은지를 펴보겠다는 뜻이다."
   ]
  },
  {
   "cell_type": "markdown",
   "id": "9ee3e55f",
   "metadata": {},
   "source": [
    "베이즈 추정법을 사용하는 이유는 추정된 모숫값 숫자 하나만으로는 추정의 신뢰도와 신뢰구간을 구할 수 없기 때문이다. 예를 들어 인터넷 쇼핑몰에 있는 두 개의 경쟁상품에 사용자 의견이 다음과 같이 붙어 있다고 하자."
   ]
  },
  {
   "cell_type": "markdown",
   "id": "975212cf",
   "metadata": {},
   "source": [
    "$\\bullet$상품 A: 전체 평가의견 3개, 좋아요 2개, 싫어요 1개"
   ]
  },
  {
   "cell_type": "markdown",
   "id": "4a4eae63",
   "metadata": {},
   "source": [
    "$\\bullet$상품 B: 전체 평가의견 100개, 좋아요 60개, 싫어요 40개"
   ]
  },
  {
   "cell_type": "markdown",
   "id": "abba54e9",
   "metadata": {},
   "source": [
    "내가 이 상품을 사용했을 때 평가의견이 ‘좋아요’가 나올지 ‘싫어요’가 나올지는 베르누이분포 확률변수로 모형화할 수 있다. 최대가능도 추정법에 따르면 상품 A와 상품 B에서 ‘좋아요’가 나온 비율을 사용하여 베르누이 모수를 구하면 다음과 같이 상품 A의 모수가 높다."
   ]
  },
  {
   "cell_type": "markdown",
   "id": "58d7e3fa",
   "metadata": {},
   "source": [
    "$\\bullet$상품 A의 모수: ${2 \\over 3}$=0.67"
   ]
  },
  {
   "cell_type": "markdown",
   "id": "04ec4cfc",
   "metadata": {},
   "source": [
    "$\\bullet$상품 B의 모수: ${60\\over100}$=0.60"
   ]
  },
  {
   "cell_type": "markdown",
   "id": "dbcf81d8",
   "metadata": {},
   "source": [
    "상품 B의 평가의견은 100개고 상품 A의 평가의견은 3개밖에 되지 않는데 상품 A의 모수가 더 높다고 더 높은 상품이라고 확신할 수 있는가? 베이즈 추정법에서는 단순히 모수의 값을 하나의 숫자로 구하는 것이 아니므로 이러한 잘못된 결론을 내리지 않도록 도와준다."
   ]
  },
  {
   "cell_type": "markdown",
   "id": "1cf63445",
   "metadata": {},
   "source": [
    "# 베이즈 추정법의 기본 원리"
   ]
  },
  {
   "cell_type": "markdown",
   "id": "99fb80d6",
   "metadata": {},
   "source": [
    "수학적으로 베이즈 추정법은 주어진 데이터 ${x_1,…,x_N}$를 기반으로 모수 μ의 조건부 확률분포 $p(μ|x_1,…,x_N)$를 계산하는 작업이다. 조건부 확률분포를 구하므로 베이즈 정리를 사용한다."
   ]
  },
  {
   "cell_type": "markdown",
   "id": "0b138f32",
   "metadata": {},
   "source": [
    "$$p(μ∣x_1,…,x_N)={p(x_1,…,x_N∣μ)⋅p(μ)\\over p(x_1,…,x_N)}∝p(x_1,…,x_N∣μ)⋅p(μ)$$"
   ]
  },
  {
   "cell_type": "markdown",
   "id": "5c64349a",
   "metadata": {},
   "source": [
    "$\\bullet$p(μ) 는 모수의 사전(Prior)분포다. 사전 분포는 베이지안 추정 작업을 하기 전에 이미 알고 있던 모수 μ의 분포를 뜻한다. 모수의 분포에 대해 아무런 지식이 없는 경우에는 균일(uniform) 분포 Beta(1,1)나 0을 중심으로 가지는 정규분포 $N(0,σ_0^2)$ 등의 **무정보분포(non-informative distribution)**를 사용할 수 있다."
   ]
  },
  {
   "cell_type": "markdown",
   "id": "7b9f36d6",
   "metadata": {},
   "source": [
    "$\\bullet p(μ∣x_1,…,x_N)$ 는 모수의 사후(Posterior)분포다. 수학적으로는 데이터 $x_1,…,x_N$가 주어진 상태에서의 μ에 대한 조건부 확률 분포다. 우리가 베이즈 추정법 작업을 통해 구하고자 하는 것이 바로 이 사후 분포다."
   ]
  },
  {
   "cell_type": "markdown",
   "id": "9dc7ca29",
   "metadata": {},
   "source": [
    "$\\bullet$ $p(x_1,…,x_N∣μ$ 는 가능도(likelihood)분포다. 모수 μ가 특정한 값으로 주어졌을 때 주어진 데이터 {x_1,…,x_N}가 나올 수 있는 확률값을 나타낸다."
   ]
  },
  {
   "cell_type": "markdown",
   "id": "6eb86608",
   "metadata": {},
   "source": [
    "이때 계산된 모수의 분포는 두 가지 방법으로 표현한다."
   ]
  },
  {
   "cell_type": "markdown",
   "id": "b05b572d",
   "metadata": {},
   "source": [
    "1.모수적(parametric) 방법"
   ]
  },
  {
   "cell_type": "markdown",
   "id": "a7e447d1",
   "metadata": {},
   "source": [
    "다른 확률분포를 사용하여 추정된 모수의 분포를 나타낸다. **모수 분포를 표현하는 확률분포함수의 모수를 하이퍼모수(hyper-parameter)**라고 부른다. 모수적 방법을 사용한 베이즈 추정법은 결국 하이퍼모숫값을 계산하는 작업이다."
   ]
  },
  {
   "cell_type": "markdown",
   "id": "3a53225f",
   "metadata": {},
   "source": [
    "2.비모수적(non-parametric) 방법"
   ]
  },
  {
   "cell_type": "markdown",
   "id": "18ef0664",
   "metadata": {},
   "source": [
    "모수의 분포와 동일한 분포를 가지는 실제 표본 집합을 생성하여 히스토그램이나 최빈값 등으로 분포를 표현한다. MCMC(Markov chain Monte Carlo)와 같은 몬테카를로(Monte Carlo) 방법이 비모수적 방법이다."
   ]
  },
  {
   "cell_type": "markdown",
   "id": "4bf7d11d",
   "metadata": {},
   "source": [
    "# 베르누이분포의 모수 추정"
   ]
  },
  {
   "cell_type": "markdown",
   "id": "1e896a78",
   "metadata": {},
   "source": [
    "가장 단순한 이산확률변수인 베르누이분포의 모수 μ를 베이즈 추정법으로 추정해보자."
   ]
  },
  {
   "cell_type": "markdown",
   "id": "a51da216",
   "metadata": {},
   "source": [
    "베르누이 분포의 모수는 0부터 1사이의 값을 가지므로 사전 분포는 하이퍼모수 a=b=1인 베타분포라고 가정하자."
   ]
  },
  {
   "cell_type": "markdown",
   "id": "cacd28b0",
   "metadata": {},
   "source": [
    "$$p(μ)∝μ^{a−1}(1−μ)^{b−1} (a=1,b=1)$$"
   ]
  },
  {
   "cell_type": "markdown",
   "id": "7fdbe165",
   "metadata": {},
   "source": [
    "데이터는 모두 독립적인 베르누이 분포의 곱이므로 가능도 함수는 다음과 같다."
   ]
  },
  {
   "cell_type": "markdown",
   "id": "2154b8dd",
   "metadata": {},
   "source": [
    "$$p(x_1,…,x_N∣μ)=\\prod_{i=1}^N u^{xi}(1-u)^{1-x_i}$$"
   ]
  },
  {
   "cell_type": "markdown",
   "id": "628fe3c0",
   "metadata": {},
   "source": [
    "베이즈 정리를 사용하면 사후분포가 다음처럼 갱신된 하이퍼모수 a′, b′를 가지는 또다른 베타분포가 된다."
   ]
  },
  {
   "cell_type": "markdown",
   "id": "4905b54e",
   "metadata": {},
   "source": [
    "$$p(μ∣x_1,…,x_N)∝p(x_1,…,x_N∣μ)p(μ)$$"
   ]
  },
  {
   "cell_type": "markdown",
   "id": "19ad060f",
   "metadata": {},
   "source": [
    "$$=\\prod_{i=1}^N μ^{xi}(1−μ)^{1−xi}⋅μ^{a−1}(1−μ)^{b−1}$$"
   ]
  },
  {
   "cell_type": "markdown",
   "id": "ec6569c8",
   "metadata": {},
   "source": [
    "$$=u^{\\sum_{i=1}^{N} x_i+a+1}(1-u)^{\\sum_{i=1}^{N} (1-x_i)+b-1}$$"
   ]
  },
  {
   "cell_type": "markdown",
   "id": "203bbaf7",
   "metadata": {},
   "source": [
    "$$=u^{N_1+a+1}(1-u)^{N_0+b-1}$$"
   ]
  },
  {
   "cell_type": "markdown",
   "id": "ea633177",
   "metadata": {},
   "source": [
    "$$=u^{a'-1}(1-u)^{b'-1}$$"
   ]
  },
  {
   "cell_type": "markdown",
   "id": "d4a088fe",
   "metadata": {},
   "source": [
    "이렇게 사전분포와 사후분포가 모숫값만 다르고 함수 형태가 같은 확률밀도함수로 표현될 수 있도록 해주는 사전분포를 **켤레 사전확률분포(conjugate prior)**라고 한다."
   ]
  },
  {
   "cell_type": "markdown",
   "id": "f16de7b5",
   "metadata": {},
   "source": [
    "갱신된 하이퍼모숫값은 다음과 같다."
   ]
  },
  {
   "cell_type": "markdown",
   "id": "324083b7",
   "metadata": {},
   "source": [
    "$$a′=N1+a$$\n",
    "$$b′=N0+b$$"
   ]
  },
  {
   "cell_type": "markdown",
   "id": "44f09eef",
   "metadata": {},
   "source": [
    "동전을 10번 던져서 앞면이 6번 나왔다. 이 때 사전분포가 하이퍼모수 a=b=1인 베타분포라면 사후분포는 다음과 같은 하이퍼모수를 가지는 베타분포가 된다."
   ]
  },
  {
   "cell_type": "markdown",
   "id": "ae3c8f15",
   "metadata": {},
   "source": [
    "$$a'=6+1=7$$\n",
    "$$b'=4+1=5$$"
   ]
  },
  {
   "cell_type": "markdown",
   "id": "b7f54c4c",
   "metadata": {},
   "source": [
    "참고로 최대가능도 추정법으로 구한 베르누이 모수의 값은 0.6이다."
   ]
  },
  {
   "cell_type": "code",
   "execution_count": 8,
   "id": "036e60d7",
   "metadata": {},
   "outputs": [],
   "source": [
    "import scipy as sp\n",
    "import scipy.stats\n",
    "import numpy as np\n",
    "import seaborn as sns\n",
    "import matplotlib.pyplot as plt\n",
    "import pandas as pd\n",
    "import matplotlib as mpl\n",
    "plt.rc(\"font\", size=10, family='Malgun Gothic')\n",
    "plt.rc('axes', unicode_minus=False)"
   ]
  },
  {
   "cell_type": "code",
   "execution_count": 9,
   "id": "0dcb5f93",
   "metadata": {},
   "outputs": [
    {
     "data": {
      "image/png": "[encoded data removed]",
      "text/plain": [
       "<Figure size 432x288 with 1 Axes>"
      ]
     },
     "metadata": {
      "needs_background": "light"
     },
     "output_type": "display_data"
    }
   ],
   "source": [
    "xx = np.linspace(0, 1, 1000)\n",
    "a0, b0 = 1, 1\n",
    "plt.plot(xx, sp.stats.beta(a0, b0).pdf(xx), c=\"r\", ls=\"--\", label=\"사전분포\")\n",
    "a1, b1 = 6 + 1, 4 + 1\n",
    "plt.plot(xx, sp.stats.beta(a1, b1).pdf(xx), c=\"g\", ls=\"-\", label=\"사후분포\")\n",
    "plt.legend()\n",
    "plt.title(\"베이즈 추정법으로 계산한 베르누이분포 모수의 분포\")\n",
    "plt.show()"
   ]
  },
  {
   "cell_type": "markdown",
   "id": "12f0fd16",
   "metadata": {},
   "source": [
    "\n",
    "베이즈 추정법의 장점은 순차적(sequential) 계산이 가능하다는 점이다. 예를 들어 매 50개의 데이터를 수집하는 경우를 생각하자. 베이즈 추정법법을 사용하면 첫날 50개의 데이터로 모수를 추정한 뒤 다음날에는 추가적인 데이터 50개를 사용하여 모숫값을 더 정확하게 수정할 수 있다. 이 과정에서 계산량은 증가하지 않는다. 그다음 날도 마찬가지다.\n"
   ]
  },
  {
   "cell_type": "markdown",
   "id": "75b5e878",
   "metadata": {},
   "source": [
    "하지만 최대가능도 추정법을 사용하면 첫날에는 데이터 50개를 이용하여 모수를 추정하지만 둘째 날에는 100개의 데이터를 사용하여 모수를 추정해야다. 그다음 날에는 150개의 데이터를 사용하여 계산을 해야 한다. 데이터가 더 수집되면 점점 추정에 사용되는 데이터의 수가 증가하고 그에 따라 계산량도 증가한다."
   ]
  },
  {
   "cell_type": "markdown",
   "id": "30182dab",
   "metadata": {},
   "source": [
    "다음 그림에서는 실제 모숫값이 0.65인 베르누이분포에 대해 베이즈 추정법을 한 결과를 보이고 있다. 처음에는 데이터 50개로 모수를 추정했으며 다음에는 데이터 50개를 추가했다. 이러한 방식으로 데이터 개수가 200개까지 증가할 때 추정 결과가 어떻게 달라지는지를 보인다."
   ]
  },
  {
   "cell_type": "code",
   "execution_count": 10,
   "id": "cd9ff8f6",
   "metadata": {},
   "outputs": [
    {
     "name": "stdout",
     "output_type": "stream",
     "text": [
      "초기 추정: 모드 = 모름\n",
      "0차 추정: 모드 = 0.64\n",
      "1차 추정: 모드 = 0.69\n",
      "2차 추정: 모드 = 0.65\n"
     ]
    },
    {
     "data": {
      "image/png": "[encoded data removed]",
      "text/plain": [
       "<Figure size 432x288 with 1 Axes>"
      ]
     },
     "metadata": {
      "needs_background": "light"
     },
     "output_type": "display_data"
    }
   ],
   "source": [
    "mu0 = 0.65\n",
    "a, b = 1, 1\n",
    "print(\"초기 추정: 모드 = 모름\")\n",
    "\n",
    "xx = np.linspace(0, 1, 1000)\n",
    "plt.plot(xx, sp.stats.beta(a, b).pdf(xx), ls=\":\", label=\"초기 추정\")\n",
    "\n",
    "np.random.seed(0)\n",
    "\n",
    "for i in range(3):\n",
    "    x = sp.stats.bernoulli(mu0).rvs(50)\n",
    "    N0, N1 = np.bincount(x, minlength=2)\n",
    "    a, b = a + N1, b + N0\n",
    "    plt.plot(xx, sp.stats.beta(a, b).pdf(xx), ls=\"-.\", label=\"{}차 추정\".format(i))\n",
    "    print(\"{}차 추정: 모드 = {:4.2f}\".format(i, (a - 1)/(a + b - 2)))\n",
    "\n",
    "\n",
    "plt.vlines(x=0.65, ymin=0, ymax=12)\n",
    "plt.ylim(0, 12)\n",
    "plt.legend()\n",
    "plt.title(\"베르누이분포의 모수를 베이즈 추정법으로 추정한 결과\")\n",
    "plt.show()"
   ]
  },
  {
   "cell_type": "markdown",
   "id": "fe7da5cb",
   "metadata": {},
   "source": [
    "# 카테고리분포의 모수 추정 예제"
   ]
  },
  {
   "cell_type": "code",
   "execution_count": 11,
   "id": "84757a4d",
   "metadata": {},
   "outputs": [],
   "source": [
    "def plot_dirichlet(alpha, n):\n",
    "\n",
    "    def project(x):\n",
    "        n1 = np.array([1, 0, 0])\n",
    "        n2 = np.array([0, 1, 0])\n",
    "        n3 = np.array([0, 0, 1])\n",
    "        n12 = (n1 + n2)/2\n",
    "        m1 = np.array([1, -1, 0])\n",
    "        m2 = n3 - n12\n",
    "        m1 = m1/np.linalg.norm(m1)\n",
    "        m2 = m2/np.linalg.norm(m2)\n",
    "        return np.dstack([(x-n12).dot(m1), (x-n12).dot(m2)])[0]\n",
    "\n",
    "    def project_reverse(x):\n",
    "        n1 = np.array([1, 0, 0])\n",
    "        n2 = np.array([0, 1, 0])\n",
    "        n3 = np.array([0, 0, 1])\n",
    "        n12 = (n1 + n2)/2\n",
    "        m1 = np.array([1, -1, 0])\n",
    "        m2 = n3 - n12\n",
    "        m1 = m1/np.linalg.norm(m1)\n",
    "        m2 = m2/np.linalg.norm(m2)\n",
    "        return x[:, 0][:, np.newaxis] * m1 + x[:, 1][:, np.newaxis] * m2 + n12\n",
    "\n",
    "    eps = np.finfo(float).eps * 10\n",
    "    X = project([[1-eps, 0, 0], [0, 1-eps, 0], [0, 0, 1-eps]])\n",
    "\n",
    "    import matplotlib.tri as mtri\n",
    "\n",
    "    triang = mtri.Triangulation(X[:, 0], X[:, 1], [[0, 1, 2]])\n",
    "    refiner = mtri.UniformTriRefiner(triang)\n",
    "    triang2 = refiner.refine_triangulation(subdiv=6)\n",
    "    XYZ = project_reverse(\n",
    "        np.dstack([triang2.x, triang2.y, 1-triang2.x-triang2.y])[0])\n",
    "\n",
    "    pdf = sp.stats.dirichlet(alpha).pdf(XYZ.T)\n",
    "    plt.tricontourf(triang2, pdf, cmap=plt.cm.bone_r)\n",
    "    plt.axis(\"equal\")\n",
    "    plt.title(\"정규분포 확률변수의 모수를 베이즈 추정법으로 추정한 결과: {} 추정\".format(n))\n",
    "    plt.show()\n",
    "\n",
    "mu0 = np.array([0.3, 0.5, 0.2])\n",
    "\n",
    "np.random.seed(0)"
   ]
  },
  {
   "cell_type": "code",
   "execution_count": 12,
   "id": "8a31d098",
   "metadata": {},
   "outputs": [
    {
     "data": {
      "image/png": "[encoded data removed]",
      "text/plain": [
       "<Figure size 432x288 with 1 Axes>"
      ]
     },
     "metadata": {
      "needs_background": "light"
     },
     "output_type": "display_data"
    }
   ],
   "source": [
    "a0 = np.ones(3)\n",
    "plot_dirichlet(a0, \"초기\")\n"
   ]
  },
  {
   "cell_type": "code",
   "execution_count": 13,
   "id": "babf77c7",
   "metadata": {},
   "outputs": [
    {
     "name": "stdout",
     "output_type": "stream",
     "text": [
      "종류별 붓꽃의 수 =[10 32  8]\n",
      "1차 추정 하이퍼모수: [0.2  0.64 0.16]\n"
     ]
    },
    {
     "data": {
      "image/png": "[encoded data removed]",
      "text/plain": [
       "<Figure size 432x288 with 1 Axes>"
      ]
     },
     "metadata": {
      "needs_background": "light"
     },
     "output_type": "display_data"
    }
   ],
   "source": [
    "x1 = np.random.choice(3, 50, p=mu0)\n",
    "N1 = np.bincount(x1, minlength=3)\n",
    "a1 = a0 + N1\n",
    "\n",
    "print(\"종류별 붓꽃의 수 ={}\".format(N1))\n",
    "print(\"1차 추정 하이퍼모수:\", (a1 - 1)/(a1.sum() - 3))\n",
    "\n",
    "plot_dirichlet(a1, \"1차\")"
   ]
  },
  {
   "cell_type": "code",
   "execution_count": 14,
   "id": "426f9fc4",
   "metadata": {},
   "outputs": [
    {
     "name": "stdout",
     "output_type": "stream",
     "text": [
      "종류별 붓꽃의 수 =[24 19  7]\n",
      "2차 추정 하이퍼모수: [0.34 0.51 0.15]\n"
     ]
    },
    {
     "data": {
      "image/png": "[encoded data removed]",
      "text/plain": [
       "<Figure size 432x288 with 1 Axes>"
      ]
     },
     "metadata": {
      "needs_background": "light"
     },
     "output_type": "display_data"
    }
   ],
   "source": [
    "x2 = np.random.choice(3, 50, p=mu0)\n",
    "N2 = np.bincount(x2, minlength=3)\n",
    "a2 = a1 + N2\n",
    "\n",
    "print(\"종류별 붓꽃의 수 ={}\".format(N2))\n",
    "print(\"2차 추정 하이퍼모수:\", (a2 - 1)/(a2.sum() - 3))\n",
    "\n",
    "plot_dirichlet(a2, \"2차\")"
   ]
  },
  {
   "cell_type": "markdown",
   "id": "ee0a3d0d",
   "metadata": {},
   "source": [
    "# 정규분포의 기댓값 모수 추정 예제"
   ]
  },
  {
   "cell_type": "code",
   "execution_count": 15,
   "id": "3a3122e7",
   "metadata": {},
   "outputs": [
    {
     "name": "stdout",
     "output_type": "stream",
     "text": [
      "0차 추정: 1.98\n",
      "1차 추정: 2.07\n",
      "2차 추정: 2.05\n",
      "3차 추정: 2.03\n"
     ]
    },
    {
     "data": {
      "image/png": "[encoded data removed]",
      "text/plain": [
       "<Figure size 432x288 with 1 Axes>"
      ]
     },
     "metadata": {
      "needs_background": "light"
     },
     "output_type": "display_data"
    }
   ],
   "source": [
    "mu, sigma2 = 2, 4\n",
    "mu0, sigma20 = 0, 1\n",
    "xx = np.linspace(1.8, 2.2, 1000)\n",
    "np.random.seed(1)\n",
    "N = 100\n",
    "ls = [\":\", \"-.\", \"--\", \"-\"]\n",
    "for i in range(4):\n",
    "    x = sp.stats.norm(mu).rvs(N)\n",
    "    mu0 = sigma2/(N*sigma20 + sigma2) * mu0 + \\\n",
    "        (N*sigma20)/(N*sigma20 + sigma2)*x.mean()\n",
    "    sigma20 = 1/(1/sigma20 + N/sigma2)\n",
    "    plt.plot(xx, sp.stats.norm(mu0, sigma20).pdf(xx), ls=ls[i], label=\"{}차 추정\".format(i))\n",
    "    print(\"{}차 추정: {:4.2f}\".format(i, mu0))\n",
    "plt.legend()\n",
    "plt.title(\"정규분포의 기댓값을 베이즈 추정법으로 추정한 결과\")\n",
    "plt.show()"
   ]
  },
  {
   "cell_type": "code",
   "execution_count": null,
   "id": "8a67fd84",
   "metadata": {},
   "outputs": [],
   "source": []
  }
 ],
 "metadata": {
  "kernelspec": {
   "display_name": "Python 3",
   "language": "python",
   "name": "python3"
  },
  "language_info": {
   "codemirror_mode": {
    "name": "ipython",
    "version": 3
   },
   "file_extension": ".py",
   "mimetype": "text/x-python",
   "name": "python",
   "nbconvert_exporter": "python",
   "pygments_lexer": "ipython3",
   "version": "3.6.13"
  }
 },
 "nbformat": 4,
 "nbformat_minor": 5
}
