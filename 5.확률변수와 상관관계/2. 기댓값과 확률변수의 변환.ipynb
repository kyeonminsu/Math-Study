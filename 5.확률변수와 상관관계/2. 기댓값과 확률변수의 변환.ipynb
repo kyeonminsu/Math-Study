{
 "cells": [
  {
   "cell_type": "markdown",
   "id": "a0c741da",
   "metadata": {},
   "source": [
    "표본평균, 표본분산 등은 현실세계의 데이터 분포의 모양을 서술하는 특성값이다. 이제부터는 이론적인 확률분포함수의 모양을 서술하는 특성값을 살펴본다. 우선 기댓값부터 공부한다. 기댓값은 표본평균처럼 분포의 위치를 알려주는 특성값이지만 확률분포의 가중합이나 가중적분으로 정의한다."
   ]
  },
  {
   "cell_type": "markdown",
   "id": "f213dfdb",
   "metadata": {},
   "source": [
    "# 확률변수의 기댓값"
   ]
  },
  {
   "cell_type": "markdown",
   "id": "d71dd5c2",
   "metadata": {},
   "source": [
    "확률변수의 확률밀도함수를 알면 확률변수의 이론적 평균값을 구할 수 있다. 이러한 이론적 평균을 확률변수의 **기댓값(expectation)**이라고 한다. 단순히 평균(mean)이라고 말하기도 한다."
   ]
  },
  {
   "cell_type": "markdown",
   "id": "ebe7cb4e",
   "metadata": {},
   "source": [
    "확률변수 X의 기댓값을 구하는 연산자(operator)는 영어 Expectation의 첫 글자를 사용하여 E[X]로 표기한다. 기댓값은 그리스 문자 μX로 표기한다. 확률변수를 혼동할 염려가 없으면 확률변수 이름은 생략하고 그냥 μ라고 써도 된다."
   ]
  },
  {
   "cell_type": "markdown",
   "id": "4b280db6",
   "metadata": {},
   "source": [
    "이산확률변수의 기댓값은 표본공간의 원소 xi의 가중평균이다. 이때 가중치는 xi가 나올 수 있는 확률 즉 확률질량함수 p(xi)이다."
   ]
  },
  {
   "cell_type": "markdown",
   "id": "c099789f",
   "metadata": {},
   "source": [
    "$$ux=E[X]= \\displaystyle\\sum_{x_i \\in \\omega } {(x_ip(x_i)}$$"
   ]
  },
  {
   "cell_type": "markdown",
   "id": "6682724b",
   "metadata": {},
   "source": [
    "연속확률변수의 기댓값은 확률밀도함수 p(x)를 가중치로 하여 모든 가능한 표본 x를 적분한 값이다."
   ]
  },
  {
   "cell_type": "markdown",
   "id": "9806f2fb",
   "metadata": {},
   "source": [
    "$$\\int_0^\\infty \\mathrm{xp(x)}\\,\\mathrm{d}x$$"
   ]
  },
  {
   "cell_type": "markdown",
   "id": "f931b133",
   "metadata": {},
   "source": [
    "기댓값은 여러 가능한 x값을 확률(또는 확률밀도)값에 따라 가중합을 한 것이므로 가장 확률(또는 확률밀도)이 높은 x값 근처의 값이 된다. 즉, 확률(또는 확률밀도)가 모여 있는 곳의 위치를 나타낸다."
   ]
  },
  {
   "cell_type": "code",
   "execution_count": 3,
   "id": "b711491c",
   "metadata": {},
   "outputs": [],
   "source": [
    "import numpy as np\n",
    "import seaborn as sns\n",
    "import matplotlib.pyplot as plt\n",
    "plt.rc(\"font\", size=10, family='Malgun Gothic')\n",
    "plt.rc('axes', unicode_minus=False)"
   ]
  },
  {
   "cell_type": "markdown",
   "id": "1f711e1f",
   "metadata": {},
   "source": [
    "회전하는 원반을 이용하여 복권 번호를 결정하는 문제에서 확률밀도함수 p(x)와 여기에서 x가 곱해진 함수 xp(x)의 모양은 다음과 같다. 기댓값은 이 함수 xp(x)를 적분하여 구한 삼각형처럼 생긴 함수의 면적이다."
   ]
  },
  {
   "cell_type": "markdown",
   "id": "6dafce10",
   "metadata": {},
   "source": [
    "E[X]=xp(x)의 면적=${1 \\over 2}$⋅360⋅1=180"
   ]
  },
  {
   "cell_type": "code",
   "execution_count": 5,
   "id": "90cce55e",
   "metadata": {},
   "outputs": [
    {
     "data": {
      "image/png": "[encoded data removed]",
      "text/plain": [
       "<Figure size 432x288 with 2 Axes>"
      ]
     },
     "metadata": {
      "needs_background": "light"
     },
     "output_type": "display_data"
    }
   ],
   "source": [
    "x = np.linspace(-100, 500, 1000)\n",
    "p = np.zeros_like(x)\n",
    "p[(0 < x) & (x <= 360)] = 1 / 360\n",
    "xp = x * p\n",
    "\n",
    "plt.subplot(121)\n",
    "plt.plot(x, p)\n",
    "plt.xticks([0, 180, 360])\n",
    "plt.title(\"$p(x)$\")\n",
    "plt.xlabel(\"$x$ (도)\")\n",
    "\n",
    "plt.subplot(122)\n",
    "plt.plot(x, xp)\n",
    "plt.xticks([0, 180, 360])\n",
    "plt.title(\"$xp(x)$\")\n",
    "plt.xlabel(\"$x$ (도)\")\n",
    "\n",
    "plt.show()"
   ]
  },
  {
   "cell_type": "markdown",
   "id": "f96d6d60",
   "metadata": {},
   "source": [
    "만약 0도에서 180도 사이에 화살이 2배 더 잘 박히도록 원반이 조작되었다면 확률밀도함수 p(x)와 여기에서 x가 곱해진 함수 xp(x) 모양은 다음과 같다. 기댓값은 이 함수 xp(x)를 적분하여 구한 함수의 면적이다."
   ]
  },
  {
   "cell_type": "code",
   "execution_count": 6,
   "id": "96b3d53e",
   "metadata": {},
   "outputs": [
    {
     "data": {
      "image/png": "[encoded data removed]",
      "text/plain": [
       "<Figure size 432x288 with 2 Axes>"
      ]
     },
     "metadata": {
      "needs_background": "light"
     },
     "output_type": "display_data"
    }
   ],
   "source": [
    "x = np.linspace(-100, 500, 1000)\n",
    "p = np.zeros_like(x)\n",
    "p[(0 < x) & (x <= 180)] = 2 / (3 * 360)\n",
    "p[(180 < x) & (x <= 360)] = 1 / (3 * 360)\n",
    "xp = x * p\n",
    "\n",
    "plt.subplot(121)\n",
    "plt.plot(x, p)\n",
    "plt.xticks([0, 180, 360])\n",
    "plt.title(\"$p(x)$\")\n",
    "plt.xlabel(\"$x$ (도)\")\n",
    "\n",
    "plt.subplot(122)\n",
    "plt.plot(x, xp)\n",
    "plt.xticks([0, 180, 360])\n",
    "plt.title(\"$xp(x)$\")\n",
    "plt.xlabel(\"$x$ (도)\")\\\n",
    "\n",
    "plt.show()"
   ]
  },
  {
   "cell_type": "markdown",
   "id": "75eb3e89",
   "metadata": {},
   "source": [
    "# 확률변수의 변환"
   ]
  },
  {
   "cell_type": "markdown",
   "id": "b5e3008d",
   "metadata": {},
   "source": [
    "우리가 얻은 데이터의 값을 어떤 함수 f에 넣어서 변화시킨다고 가정하자. 그러면 새로운 데이터 집합이 생긴다."
   ]
  },
  {
   "cell_type": "markdown",
   "id": "015db13b",
   "metadata": {},
   "source": [
    "$${x1,x2,…,xN}→{f(x1),f(x2),…,f(xN)}$$"
   ]
  },
  {
   "cell_type": "markdown",
   "id": "51f7d7a3",
   "metadata": {},
   "source": [
    "기존의 확률변수를 사용하여 새로운 확률변수를 만드는 것을 확률변수의 변환(transform)**이라고 한다. 함수 f를 사용해 확률변수를 변환할 때는 다음처럼 표기한다."
   ]
  },
  {
   "cell_type": "markdown",
   "id": "81e30d02",
   "metadata": {},
   "source": [
    "$$Y=f(X)$$"
   ]
  },
  {
   "cell_type": "markdown",
   "id": "4c3cb1ac",
   "metadata": {},
   "source": [
    "# 기댓값의 성질"
   ]
  },
  {
   "cell_type": "markdown",
   "id": "d341da09",
   "metadata": {},
   "source": [
    "기댓값은 다음과 같은 성질을 가진다는 것을 수학적으로 증명할 수 있다. 변환된 확률변수의 기댓값을 계산할 때는 기댓값의 성질을 이용한다."
   ]
  },
  {
   "cell_type": "markdown",
   "id": "ee2442f4",
   "metadata": {},
   "source": [
    "확률변수가 아닌 상수 c에 대해"
   ]
  },
  {
   "cell_type": "markdown",
   "id": "3e4faf76",
   "metadata": {},
   "source": [
    "$$E[c]=c$$"
   ]
  },
  {
   "cell_type": "markdown",
   "id": "4470d990",
   "metadata": {},
   "source": [
    "선형성"
   ]
  },
  {
   "cell_type": "markdown",
   "id": "4a8083c1",
   "metadata": {},
   "source": [
    "$$E[cX]=cE[X]$$"
   ]
  },
  {
   "cell_type": "markdown",
   "id": "1b29aaab",
   "metadata": {},
   "source": [
    "$$E[X+Y]=E[X]+E[Y]$$"
   ]
  },
  {
   "cell_type": "markdown",
   "id": "67ba1231",
   "metadata": {},
   "source": [
    "$$E[c1X+c2Y]=c1E[X]+c2E[Y]$$"
   ]
  },
  {
   "cell_type": "markdown",
   "id": "9e626349",
   "metadata": {},
   "source": [
    "# 통계량"
   ]
  },
  {
   "cell_type": "markdown",
   "id": "3ef817e5",
   "metadata": {},
   "source": [
    "확률변수 X로부터 데이터 집합 {x1,x2,…,xN}을 얻었다고 하자. 이 **데이터 집합의 모든 값을 정해진 어떤 공식에 넣어서 하나의 숫자를 구한 것을 통계량(statistics)**이라고 한다. 예를 들어 표본의 합, 표본평균, 표본중앙값, 표본분산 등은 모두 통계량이다. 통계량도 확률변수의 변환에 포함된다."
   ]
  },
  {
   "cell_type": "markdown",
   "id": "2945116e",
   "metadata": {},
   "source": [
    "# 기댓값과 표본평균의 관계"
   ]
  },
  {
   "cell_type": "markdown",
   "id": "b6f6e9c6",
   "metadata": {},
   "source": [
    "표본평균도 확률변수이므로 기댓값이 존재한다."
   ]
  },
  {
   "cell_type": "markdown",
   "id": "c0f3d559",
   "metadata": {},
   "source": [
    "표본평균은 확률변수의 기댓값 근처의 값이 된다."
   ]
  },
  {
   "cell_type": "markdown",
   "id": "cc98aa4f",
   "metadata": {},
   "source": [
    "# 중앙값"
   ]
  },
  {
   "cell_type": "markdown",
   "id": "3bfd1977",
   "metadata": {},
   "source": [
    "확률변수의 중앙값(median)은 중앙값보다 큰 값이 나올 확률과 작은 값이 나올 확률이 0.5로 같은 값을 뜻한다. 따라서 다음과 같이 누적확률분포 F(x)에서 중앙값을 계산할 수 있다.\n",
    "\n"
   ]
  },
  {
   "cell_type": "markdown",
   "id": "30c5b218",
   "metadata": {},
   "source": [
    "$$0.5=F(중앙값)$$"
   ]
  },
  {
   "cell_type": "markdown",
   "id": "61acceec",
   "metadata": {},
   "source": [
    "# 최빈값"
   ]
  },
  {
   "cell_type": "markdown",
   "id": "9f6cbe17",
   "metadata": {},
   "source": [
    "**이산확률분포에서는 가장 확률 값이 큰 수를 최빈값(most frequent value)**이라고 한다. 하지만 연속확률분포인 경우에는 어느 값에 대해서나 특정한 값이 나올 확률은 0(zero)이므로 연속확률분포의 최빈값(mode)은 확률밀도함수 p(x)의 값이 가장 큰 확률변수의 값으로 정의한다. 즉 확률밀도함수의 최댓값의 위치다."
   ]
  },
  {
   "cell_type": "markdown",
   "id": "ce45236b",
   "metadata": {},
   "source": [
    "$$최빈값=argmax_x p(x)$$"
   ]
  },
  {
   "cell_type": "code",
   "execution_count": null,
   "id": "dced9292",
   "metadata": {},
   "outputs": [],
   "source": []
  }
 ],
 "metadata": {
  "kernelspec": {
   "display_name": "Python 3",
   "language": "python",
   "name": "python3"
  },
  "language_info": {
   "codemirror_mode": {
    "name": "ipython",
    "version": 3
   },
   "file_extension": ".py",
   "mimetype": "text/x-python",
   "name": "python",
   "nbconvert_exporter": "python",
   "pygments_lexer": "ipython3",
   "version": "3.6.13"
  }
 },
 "nbformat": 4,
 "nbformat_minor": 5
}
