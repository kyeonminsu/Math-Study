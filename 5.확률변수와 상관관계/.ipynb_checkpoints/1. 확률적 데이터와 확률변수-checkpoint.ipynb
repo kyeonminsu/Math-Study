{
 "cells": [
  {
   "cell_type": "markdown",
   "id": "d47ed7b8",
   "metadata": {},
   "source": [
    "# 확률적 데이터"
   ]
  },
  {
   "cell_type": "markdown",
   "id": "0f5cf880",
   "metadata": {},
   "source": [
    "실험, 측정, 조사 등을 통해 어떤 데이터값을 반복적으로 얻는 경우를 생각하자. 생년월일처럼 언제 누가 얻더라도 항상 같은 값이 나오는 데이터를 **결정론적 데이터(deterministic data)**라고 하고 혈압처럼 정확히 예측할 수 없는 값이 나오는 데이터를 **확률적 데이터(random data, probabilistic data, stochastic data)**라고 한다. 우리가 다루는 대부분의 데이터는 확률적 데이터다."
   ]
  },
  {
   "cell_type": "markdown",
   "id": "04a0d24c",
   "metadata": {},
   "source": [
    "데이터가 확률적이 되는 이유"
   ]
  },
  {
   "cell_type": "markdown",
   "id": "0269ae7e",
   "metadata": {},
   "source": [
    "1. 여러 조건이나 상황에 따라 데이터값이 영향을 받기 때문일 수도 있다."
   ]
  },
  {
   "cell_type": "markdown",
   "id": "d1a9e7ea",
   "metadata": {},
   "source": [
    "2. 측정 시에 발생하는 오차 때문일 수도 있다."
   ]
  },
  {
   "cell_type": "markdown",
   "id": "14c8e5d7",
   "metadata": {},
   "source": [
    "# 분포"
   ]
  },
  {
   "cell_type": "markdown",
   "id": "3cfb38ef",
   "metadata": {},
   "source": [
    "그런데 대부분의 확률적 데이터값을 살펴보면 어떤 값은 자주 등장하고 어떤 값은 드물게 나오거나 나오지 않는 경우가 많다. 확률적 데이터에서 어떠한 값이 자주 나오고 어떠한 값이 드물게 나오는가를 나타내는 정보를 **분포(distribution)**라고 한다."
   ]
  },
  {
   "cell_type": "markdown",
   "id": "6a1cf6ad",
   "metadata": {},
   "source": [
    "분포는 범주형 데이터의 경우 카운트 플롯(count plot), 실수형 데이터의 경우 **히스토그램(histogram)**을 사용하여 시각적으로 표현할 수 있다. 예를 들어 다음과 같은 21개 데이터가 있다고 하자."
   ]
  },
  {
   "cell_type": "code",
   "execution_count": 1,
   "id": "ea6ca2e0",
   "metadata": {},
   "outputs": [
    {
     "data": {
      "text/plain": [
       "array([ 1.76405235,  0.40015721,  0.97873798,  2.2408932 ,  1.86755799,\n",
       "       -0.97727788,  0.95008842, -0.15135721, -0.10321885,  0.4105985 ,\n",
       "        0.14404357,  1.45427351,  0.76103773,  0.12167502,  0.44386323,\n",
       "        0.33367433,  1.49407907, -0.20515826,  0.3130677 , -0.85409574,\n",
       "       -2.55298982])"
      ]
     },
     "execution_count": 1,
     "metadata": {},
     "output_type": "execute_result"
    }
   ],
   "source": [
    "import numpy as np\n",
    "import seaborn as sns\n",
    "import matplotlib.pyplot as plt\n",
    "plt.rc(\"font\", size=10, family='Malgun Gothic')\n",
    "plt.rc('axes', unicode_minus=False)\n",
    "\n",
    "np.random.seed(0)\n",
    "x = np.random.normal(size=21)\n",
    "x"
   ]
  },
  {
   "cell_type": "markdown",
   "id": "a4c8dbe4",
   "metadata": {},
   "source": [
    "이 데이터를 -4부터 4까지 0.5 크기의 구간을 가진 히스토그램으로 나타내면 다음과 같다. 시본 패키지의 distplot 명령을 사용한다."
   ]
  },
  {
   "cell_type": "code",
   "execution_count": 2,
   "id": "b49e596b",
   "metadata": {},
   "outputs": [
    {
     "name": "stderr",
     "output_type": "stream",
     "text": [
      "D:\\Anaconda\\envs\\minsu\\lib\\site-packages\\seaborn\\distributions.py:2557: FutureWarning: `distplot` is a deprecated function and will be removed in a future version. Please adapt your code to use either `displot` (a figure-level function with similar flexibility) or `histplot` (an axes-level function for histograms).\n",
      "  warnings.warn(msg, FutureWarning)\n",
      "D:\\Anaconda\\envs\\minsu\\lib\\site-packages\\seaborn\\distributions.py:2056: FutureWarning: The `axis` variable is no longer used and will be removed. Instead, assign variables directly to `x` or `y`.\n",
      "  warnings.warn(msg, FutureWarning)\n"
     ]
    },
    {
     "data": {
      "image/png": "[encoded data removed]",
      "text/plain": [
       "<Figure size 432x288 with 1 Axes>"
      ]
     },
     "metadata": {
      "needs_background": "light"
     },
     "output_type": "display_data"
    }
   ],
   "source": [
    "bins = np.linspace(-4, 4, 17)\n",
    "sns.distplot(x, rug=True, kde=False, bins=bins)\n",
    "plt.title(\"히스토그램으로 나타낸 데이터 분포\")\n",
    "plt.xlabel(\"x\")\n",
    "plt.show()"
   ]
  },
  {
   "cell_type": "markdown",
   "id": "594c2e4a",
   "metadata": {},
   "source": [
    "# 기술통계"
   ]
  },
  {
   "cell_type": "markdown",
   "id": "c7f98157",
   "metadata": {},
   "source": [
    "분포를 표현하는 또다른 방법은 분포의 특징을 나타내는 여러가지 숫자를 계산하여 그 숫자로서 분포를 나타내는 것이다. 이러한 값들을 **기술통계(descriptive statistics)**라고 한다. 대표적인 기술통계는 다음과 같다."
   ]
  },
  {
   "cell_type": "markdown",
   "id": "d78e70af",
   "metadata": {},
   "source": [
    "1.표본평균, 표본중앙값, 표본최빈값"
   ]
  },
  {
   "cell_type": "markdown",
   "id": "4b87a152",
   "metadata": {},
   "source": [
    "2.표본분산, 표본표준편차"
   ]
  },
  {
   "cell_type": "markdown",
   "id": "793c788f",
   "metadata": {},
   "source": [
    "3.표본왜도, 표본첨도"
   ]
  },
  {
   "cell_type": "markdown",
   "id": "7fe8f318",
   "metadata": {},
   "source": [
    "# 표본평균"
   ]
  },
  {
   "cell_type": "markdown",
   "id": "d95bce37",
   "metadata": {},
   "source": [
    "일반적으로 부르는 평균(mean, average)의 정확한 명칭은 **표본평균(sample mean, sample average)**이다. 표본평균은 데이터 분포의 대략적인 위치를 나타낸다. 표본평균의 기호로는 알파벳 m 또는 데이터를 나타내는 변수 기호 위에 bar를 붙인 $\\overline{x}$ 기호를 사용한다."
   ]
  },
  {
   "cell_type": "markdown",
   "id": "3ebbce72",
   "metadata": {},
   "source": [
    "$$m=\\overline{x}={1 \\over N} \\displaystyle\\sum_{i=1}^N x_i$$"
   ]
  },
  {
   "cell_type": "markdown",
   "id": "087ab33e",
   "metadata": {},
   "source": [
    "이 식에서 N는 자료의 개수, i는 자료의 순서(index)를 뜻한다."
   ]
  },
  {
   "cell_type": "markdown",
   "id": "cd1b0cd8",
   "metadata": {},
   "source": [
    "# 표본중앙값"
   ]
  },
  {
   "cell_type": "markdown",
   "id": "91d60fea",
   "metadata": {},
   "source": [
    "**표본중앙값(sample median)**은 전체 자료를 크기별로 정렬했을 때 가장 중앙에 위치하는 값을 말한다."
   ]
  },
  {
   "cell_type": "markdown",
   "id": "e2dc737e",
   "metadata": {},
   "source": [
    "1. N 이 홀수이면 : 중앙값은 (N+1)/2번째 표본의 값"
   ]
  },
  {
   "cell_type": "markdown",
   "id": "4ecb6c3e",
   "metadata": {},
   "source": [
    "2.  N 이 짝수이면 : 중앙값은 N/2번째 표본의 값과 N/2+1번째 표본의 값의 평균"
   ]
  },
  {
   "cell_type": "markdown",
   "id": "2f16cf58",
   "metadata": {},
   "source": [
    "# 표본최빈값"
   ]
  },
  {
   "cell_type": "markdown",
   "id": "87e08752",
   "metadata": {},
   "source": [
    "**표본최빈값(most frequent value, sample mode)**은 데이터값 중 가장 빈번하게 나오는 값을 말한다."
   ]
  },
  {
   "cell_type": "markdown",
   "id": "fe4aa365",
   "metadata": {},
   "source": [
    "# 파이썬을 사용한 대푯값 계산"
   ]
  },
  {
   "cell_type": "markdown",
   "id": "867ff24e",
   "metadata": {},
   "source": [
    "파이썬에서는 다음과 같은 NumPy 함수를 사용하여 각종 대푯값을 계산할 수 있다. 범주형 데이터는 실수로 바꾼 다음에 대푯값을 계산한다."
   ]
  },
  {
   "cell_type": "markdown",
   "id": "99fc8e8f",
   "metadata": {},
   "source": [
    "mean(): 표본평균 계산"
   ]
  },
  {
   "cell_type": "markdown",
   "id": "30e6443c",
   "metadata": {},
   "source": [
    "median(): 표본중앙값 계산"
   ]
  },
  {
   "cell_type": "markdown",
   "id": "5214bc84",
   "metadata": {},
   "source": [
    "argmax(): 이산데이터의 최댓값 계산"
   ]
  },
  {
   "cell_type": "markdown",
   "id": "cad5402d",
   "metadata": {},
   "source": [
    "histogram(): 데이터를 구간으로 나누어 각 구간에 들어가는 데이터 개수 계산."
   ]
  },
  {
   "cell_type": "code",
   "execution_count": 4,
   "id": "70afd425",
   "metadata": {},
   "outputs": [
    {
     "name": "stdout",
     "output_type": "stream",
     "text": [
      "표본평균 = 0.4206524782418389, 표본중앙값 = 0.4001572083672233\n"
     ]
    }
   ],
   "source": [
    "print(\"표본평균 = {}, 표본중앙값 = {}\".format(np.mean(x), np.median(x)))"
   ]
  },
  {
   "cell_type": "markdown",
   "id": "ba866589",
   "metadata": {},
   "source": [
    "하지만 연속데이터에 대한 최빈값은 의미 없는 숫자가 나오므로 구간으로 나누어 최빈구간을 구해야 한다."
   ]
  },
  {
   "cell_type": "code",
   "execution_count": 5,
   "id": "6e1777c6",
   "metadata": {},
   "outputs": [
    {
     "name": "stdout",
     "output_type": "stream",
     "text": [
      "최빈구간 = 0.0~0.5\n"
     ]
    }
   ],
   "source": [
    "ns, _ = np.histogram(x, bins=bins)\n",
    "m_bin = np.argmax(ns)\n",
    "print(\"최빈구간 = {}~{}\".format(bins[m_bin], bins[m_bin + 1]))"
   ]
  },
  {
   "cell_type": "markdown",
   "id": "bad931f1",
   "metadata": {},
   "source": [
    "# 단봉분포와 다봉분포"
   ]
  },
  {
   "cell_type": "markdown",
   "id": "65d9101e",
   "metadata": {},
   "source": [
    "분포의 모양에서 봉우리가 하나면 단봉(uni-modal)분포, 봉우리가 여럿이면 다봉(multi-modal)분포라고 한다."
   ]
  },
  {
   "cell_type": "markdown",
   "id": "81911620",
   "metadata": {},
   "source": [
    "# 대칭분포"
   ]
  },
  {
   "cell_type": "markdown",
   "id": "ded1eac8",
   "metadata": {},
   "source": [
    "표본평균, 표본중앙값, 표본최빈값은 분포의 모양에 따라 다음과 같은 특성을 보인다."
   ]
  },
  {
   "cell_type": "markdown",
   "id": "a62ac06d",
   "metadata": {},
   "source": [
    "1. 분포가 표본평균을 기준으로 대칭인 대칭(symmetric)분포이면 표본중앙값은 표본평균과 같다."
   ]
  },
  {
   "cell_type": "markdown",
   "id": "7acd6d93",
   "metadata": {},
   "source": [
    "2. 분포가 대칭분포이면서 하나의 최고값만을 가지는 단봉분포이면 표본최빈값은 표본평균과 같다."
   ]
  },
  {
   "cell_type": "markdown",
   "id": "0ddc4137",
   "metadata": {},
   "source": [
    "3. 대칭분포를 비대칭으로 만드는 데이터가 더해지면 표본평균이 가장 크게 영향을 받고 표본최빈값이 가장 적게 영향을 받는다."
   ]
  },
  {
   "cell_type": "code",
   "execution_count": 6,
   "id": "6b0a3aa1",
   "metadata": {},
   "outputs": [
    {
     "name": "stderr",
     "output_type": "stream",
     "text": [
      "D:\\Anaconda\\envs\\minsu\\lib\\site-packages\\seaborn\\distributions.py:2557: FutureWarning: `distplot` is a deprecated function and will be removed in a future version. Please adapt your code to use either `displot` (a figure-level function with similar flexibility) or `histplot` (an axes-level function for histograms).\n",
      "  warnings.warn(msg, FutureWarning)\n"
     ]
    },
    {
     "data": {
      "image/png": "[encoded data removed]",
      "text/plain": [
       "<Figure size 432x288 with 1 Axes>"
      ]
     },
     "metadata": {
      "needs_background": "light"
     },
     "output_type": "display_data"
    }
   ],
   "source": [
    "np.random.seed(1)\n",
    "x = np.random.normal(size=1000)\n",
    "x = np.hstack([x, 5 * np.ones(50)])\n",
    "bins = np.linspace(-6, 6, 12 * 4 + 1)\n",
    "ns, _ = np.histogram(x, bins=bins)\n",
    "\n",
    "sample_mean = np.mean(x)\n",
    "sample_median = np.median(x)\n",
    "mode_index = np.argmax(ns)\n",
    "sample_mode = 0.5 * (bins[mode_index] + bins[mode_index + 1])\n",
    "\n",
    "sns.distplot(x, bins=bins)\n",
    "plt.axvline(sample_mean, c='k', ls=\":\", label=\"표본평균\")\n",
    "plt.axvline(sample_median, c='k', ls=\"--\", label=\"표본중앙값\")\n",
    "plt.axvline(sample_mode, c='k', ls=\"-\", label=\"표본최빈값\")\n",
    "plt.title(\"표본평균, 표본중앙값, 표본최빈값의 차이\")\n",
    "plt.xlabel(\"x\")\n",
    "plt.legend()\n",
    "plt.show()"
   ]
  },
  {
   "cell_type": "markdown",
   "id": "feb28ad3",
   "metadata": {},
   "source": [
    "# 분산과 표준편차"
   ]
  },
  {
   "cell_type": "markdown",
   "id": "398d0232",
   "metadata": {},
   "source": [
    "데이터가 얼마나 변동(variation)하고 있는지를 알아야 하는데 이러한 정보를 알려주는 특징값이 표본분산(sample variance) 또는 **표본표준편차(sample standard deviation)**이다. 평균이나 기댓값이 분포의 위치를 대표하는 것이라면 분산은 분포의 **폭(width)**을 대표하는 값이다. 표준편차는 분산에 대한 양의 제곱근(square root)값이다."
   ]
  },
  {
   "cell_type": "markdown",
   "id": "a58f0c65",
   "metadata": {},
   "source": [
    "$$표준편차 = \\sqrt{분산}$$"
   ]
  },
  {
   "cell_type": "markdown",
   "id": "b72a1d9b",
   "metadata": {},
   "source": [
    "$$s^2={1 \\over N} \\displaystyle\\sum_{i=1}^N {(x_i - \\overline{x})^2}$$"
   ]
  },
  {
   "cell_type": "markdown",
   "id": "b1efff88",
   "metadata": {},
   "source": [
    "# 파이썬을 사용한 표본분산 및 표본표준편차의 계산"
   ]
  },
  {
   "cell_type": "markdown",
   "id": "90c2228a",
   "metadata": {},
   "source": [
    "파이썬에서 표본분산과 표본표준편차를 구할 때는 다음 함수를 사용한다. ddof 인수를 이용하면 비편향 표본분산과 표본표준편차를 구할 수 있다."
   ]
  },
  {
   "cell_type": "markdown",
   "id": "a671f591",
   "metadata": {},
   "source": [
    "var(), std()"
   ]
  },
  {
   "cell_type": "code",
   "execution_count": 11,
   "id": "24ab45ee",
   "metadata": {},
   "outputs": [
    {
     "data": {
      "text/plain": [
       "(2.032795146183378, 1.4257612514665203)"
      ]
     },
     "execution_count": 11,
     "metadata": {},
     "output_type": "execute_result"
    }
   ],
   "source": [
    "np.var(x), np.std(x) # 편향 표본분산, 표본표준편차"
   ]
  },
  {
   "cell_type": "code",
   "execution_count": 12,
   "id": "86150a62",
   "metadata": {},
   "outputs": [
    {
     "data": {
      "text/plain": [
       "(2.0347329871234954, 1.4264406707338007)"
      ]
     },
     "execution_count": 12,
     "metadata": {},
     "output_type": "execute_result"
    }
   ],
   "source": [
    "np.var(x, ddof=1), np.std(x, ddof=1)  # 비편향 표본분산, 표본표준편차"
   ]
  },
  {
   "cell_type": "code",
   "execution_count": null,
   "id": "73c74505",
   "metadata": {},
   "outputs": [],
   "source": []
  }
 ],
 "metadata": {
  "kernelspec": {
   "display_name": "Python 3",
   "language": "python",
   "name": "python3"
  },
  "language_info": {
   "codemirror_mode": {
    "name": "ipython",
    "version": 3
   },
   "file_extension": ".py",
   "mimetype": "text/x-python",
   "name": "python",
   "nbconvert_exporter": "python",
   "pygments_lexer": "ipython3",
   "version": "3.6.13"
  }
 },
 "nbformat": 4,
 "nbformat_minor": 5
}
