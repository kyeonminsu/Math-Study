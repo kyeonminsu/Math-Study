{
 "cells": [
  {
   "cell_type": "markdown",
   "id": "b7d1bf30",
   "metadata": {},
   "source": [
    "다변수 확률변수 간의 상관 관계를 숫자로 나타낸 것이 공분산(covariance)과 상관계수(correlation coefficient)다."
   ]
  },
  {
   "cell_type": "markdown",
   "id": "e96a3248",
   "metadata": {},
   "source": [
    "# 표본공분산"
   ]
  },
  {
   "cell_type": "markdown",
   "id": "5fa0e25f",
   "metadata": {},
   "source": [
    "표본공분산(sample covariance)은 다음처럼 정의한다. 여기에서 $x_i$와 $y_i$는 각각 i번째의 x 자료와 y자료의 값을 가리키고, $\\overline{x}$와 $\\overline{y}$는 x 자료와 y자료의 표본평균을 가리킨다."
   ]
  },
  {
   "cell_type": "markdown",
   "id": "12a35519",
   "metadata": {},
   "source": [
    "$$s_{xy} = {1 \\over N}\\displaystyle\\sum_{i=1}^{N} (x_i-$\\overline{x})(y_i-\\overline{y})$$"
   ]
  },
  {
   "cell_type": "markdown",
   "id": "5a568e20",
   "metadata": {},
   "source": [
    "표본분산과 마찬가지로 표본공분산도 자료가 평균값으로부터 얼마나 떨어져 있는지를 나타낸 것이다. 공분산은 평균값 위치와 표본 위치를 연결하는 사각형의 면적을 사용한다. 다만 공분산의 경우에는 자료의 위치에 따라 이 값의 부호가 달라진다. 데이터가 1사분면이나 3사분면에 있는 경우에는 양수가 되고 데이터가 2사분면이나 4사분면에 있는 경우에는 음수가 된다. 따라서 공분산의 부호는 X, Y 데이터가 같은 부호를 가지는지 다른 부호를 가지는지에 대한 지표라고 할 수 있다."
   ]
  },
  {
   "cell_type": "markdown",
   "id": "57cd59b3",
   "metadata": {},
   "source": [
    "# 표본상관계수"
   ]
  },
  {
   "cell_type": "markdown",
   "id": "ff246599",
   "metadata": {},
   "source": [
    "표본공분산은 평균을 중심으로 각 자료들이 어떻게 분포되어 있는지 크기와 방향성을 같이 보여준다. 그런데 분포의 크기는 공분산이 아닌 분산만으로도 알 수 있기 때문에 대부분의 경우 자료 분포의 방향성만 분리하여 보는 것이 유용하다. 이 때 필요한 것이 **표본상관계수(sample correlation coefficient)**다."
   ]
  },
  {
   "cell_type": "markdown",
   "id": "f3ede701",
   "metadata": {},
   "source": [
    "표본상관계수는 다음과 같이 공분산을 각각의 표본표준편차값으로 나누어 정규화(normalize)하여 정의한다."
   ]
  },
  {
   "cell_type": "markdown",
   "id": "6f215b2a",
   "metadata": {},
   "source": [
    "$$r_xy = {s_{xy} \\over \\sqrt{s_x^2, s_y^2}}$$"
   ]
  },
  {
   "cell_type": "markdown",
   "id": "12e95506",
   "metadata": {},
   "source": [
    "이와 다르게 정의한 상관계수도 있기 때문에 다른 종류의 상관계수와 비교하여 말하는 경우에는 피어슨(Pearson) 상관계수라고 하기도 한다."
   ]
  },
  {
   "cell_type": "code",
   "execution_count": 6,
   "id": "0e126add",
   "metadata": {},
   "outputs": [],
   "source": [
    "import numpy as np\n",
    "import seaborn as sns\n",
    "import matplotlib.pyplot as plt\n",
    "import pandas as pd\n",
    "import matplotlib as mpl\n",
    "import scipy as sp\n",
    "plt.rc(\"font\", size=10, family='Malgun Gothic')\n",
    "plt.rc('axes', unicode_minus=False)"
   ]
  },
  {
   "cell_type": "markdown",
   "id": "8706fcd6",
   "metadata": {},
   "source": [
    "다음 코드는 붓꽃의 꽃받침의 길이와 꽃잎의 길이 사이의 상관계수를 계산하는 코드다. 상관계수가 약 0.87임을 알 수 있다."
   ]
  },
  {
   "cell_type": "code",
   "execution_count": 7,
   "id": "909bff02",
   "metadata": {},
   "outputs": [
    {
     "data": {
      "text/plain": [
       "0.8717537758865832"
      ]
     },
     "execution_count": 7,
     "metadata": {},
     "output_type": "execute_result"
    }
   ],
   "source": [
    "from sklearn.datasets import load_iris\n",
    "X = load_iris().data\n",
    "x1 = X[:, 0]  # 꽃받침의 길이\n",
    "x2 = X[:, 1]  # 꽃받침의 폭\n",
    "x3 = X[:, 2]  # 꽃잎의 길이\n",
    "x4 = X[:, 3]  # 꽃잎의 폭\n",
    "sp.stats.pearsonr(x1, x3)[0]"
   ]
  },
  {
   "cell_type": "markdown",
   "id": "a3755c14",
   "metadata": {},
   "source": [
    "# 확률변수의 공분산과 상관계수"
   ]
  },
  {
   "cell_type": "markdown",
   "id": "26fd1cb4",
   "metadata": {},
   "source": [
    "두 확률변수 X와 Y의 공분산은 기댓값 연산자를 사용하여 다음과 같이 정의된다."
   ]
  },
  {
   "cell_type": "markdown",
   "id": "f6e00088",
   "metadata": {},
   "source": [
    "$$Cov[X,Y]=E[(X−E[X])(Y−E[Y])]$$"
   ]
  },
  {
   "cell_type": "markdown",
   "id": "0803c275",
   "metadata": {},
   "source": [
    "마찬가지로 두 확률변수 X와 Y의 상관 계수도 다음과 같이 정의한다."
   ]
  },
  {
   "cell_type": "markdown",
   "id": "6f20d9d0",
   "metadata": {},
   "source": [
    "$$p[X,Y]={Cov[X,Y] \\over \\sqrt(Var[X]⋅Var[Y])}$$"
   ]
  },
  {
   "cell_type": "markdown",
   "id": "6e39db6a",
   "metadata": {},
   "source": [
    "확률변수의 상관계수는 다음과 같은 성질을 가진다."
   ]
  },
  {
   "cell_type": "markdown",
   "id": "8959707f",
   "metadata": {},
   "source": [
    "$$−1≤ρ≤1$$"
   ]
  },
  {
   "cell_type": "markdown",
   "id": "69d6221a",
   "metadata": {},
   "source": [
    "또한 ρ가 -1, 0, 1인 경우를 각각 다음과 같이 부른다."
   ]
  },
  {
   "cell_type": "markdown",
   "id": "66bcc93b",
   "metadata": {},
   "source": [
    "$\\bullet$ ρ=1 : 완전선형 상관관계"
   ]
  },
  {
   "cell_type": "markdown",
   "id": "26a7560a",
   "metadata": {},
   "source": [
    "$\\bullet$ ρ=0 : 무상관 (독립과는 다름)"
   ]
  },
  {
   "cell_type": "markdown",
   "id": "2019ea76",
   "metadata": {},
   "source": [
    "$\\bullet$ ρ=−1  : 완전선형 반상관관계"
   ]
  },
  {
   "cell_type": "markdown",
   "id": "5ed68f28",
   "metadata": {},
   "source": [
    "이 상관계수의 부호와 크기가 의미하는 바는 다음 스캐터 플롯에서 알 수 있다. 이 스캐터 플롯은 특정한 상관계수를 가지는 데이터를 시뮬레이션을 통해 그린 것이다. 스캐터 플롯의 위에 쓰여진 숫자는 시뮬레이션에 사용된 상관계수를 나타낸다. 스캐터 플롯의 데이터가 양의 기울기를 가지는 직선 혹은 타원 모양을 가지면 상관계수는 양수이고 음의 기울기를 가지는 직선 혹은 타원 모양이 되면 상관계수가 음이 된다. 또한 직선 모양이 뚜렷할수록 상관계수의 절대값이 커지고 원에 가까워질 수록 절대값이 작아진다."
   ]
  },
  {
   "cell_type": "code",
   "execution_count": 12,
   "id": "3d0d247d",
   "metadata": {},
   "outputs": [
    {
     "data": {
      "image/png": "[encoded data removed]",
      "text/plain": [
       "<Figure size 504x144 with 7 Axes>"
      ]
     },
     "metadata": {},
     "output_type": "display_data"
    }
   ],
   "source": [
    "np.random.seed(0)\n",
    "corrs = [1, 0.7, 0.3, 0, -0.3, -0.7, -1]\n",
    "plt.figure(figsize=(len(corrs), 2))\n",
    "for i, r in enumerate(corrs):\n",
    "    x, y = np.random.multivariate_normal([0, 0], [[1, r], [r, 1]], 1000).T\n",
    "    plt.subplot(1, len(corrs), i + 1)\n",
    "    plt.plot(x, y, 'ro', ms=1)\n",
    "    plt.axis('equal')\n",
    "    plt.xticks([])\n",
    "    plt.yticks([])\n",
    "    plt.title(r\"$\\rho$={}\".format(r))\n",
    "\n",
    "plt.suptitle(\"상관계수와 스캐터 플롯의 모양\", y=1.1)\n",
    "plt.tight_layout()\n",
    "plt.show()"
   ]
  },
  {
   "cell_type": "code",
   "execution_count": 13,
   "id": "c2af877e",
   "metadata": {},
   "outputs": [
    {
     "data": {
      "image/png": "[encoded data removed]",
      "text/plain": [
       "<Figure size 504x144 with 7 Axes>"
      ]
     },
     "metadata": {},
     "output_type": "display_data"
    }
   ],
   "source": [
    "np.random.seed(1)\n",
    "slope = [1, 0.7, 0.3, 0, -0.3, -0.7, -1]\n",
    "plt.figure(figsize=(len(slope), 2))\n",
    "for i, s in enumerate(slope):\n",
    "    plt.subplot(1, len(slope), i + 1)\n",
    "    x, y = np.random.multivariate_normal([0, 0], [[1, 1], [1, 1]], 100).T\n",
    "    y2 = s * y\n",
    "    plt.plot(x, y2, 'ro', ms=1)\n",
    "    plt.axis('equal')\n",
    "    plt.xticks([])\n",
    "    plt.yticks([])\n",
    "    if s > 0:\n",
    "        plt.title(r\"$\\rho$=1\")\n",
    "    if s < 0:\n",
    "        plt.title(r\"$\\rho$=-1\")\n",
    "\n",
    "plt.suptitle(\"상관계수와 스케터플롯의 기울기\", y=1.1)\n",
    "plt.tight_layout()\n",
    "plt.show()\n"
   ]
  },
  {
   "cell_type": "markdown",
   "id": "72e71093",
   "metadata": {},
   "source": [
    "# 비선형 상관관계"
   ]
  },
  {
   "cell_type": "markdown",
   "id": "a693424a",
   "metadata": {},
   "source": [
    "두 확률변수가 상관관계가 있으면 두 확률변수의 값 중 하나를 알았을 때 다른 확률변수의 값에 대한 정보를 알 수 있다. 반드시 정확한 값을 알 수 있어야 하는 것은 아니다. 따라서 다음과 같은 경우도 상관관계가 있는 데이터라고 할 수 있다. 선형이 아닌 상관관계를 비선형 상관관계라고 한다. 피어슨 상관계수는 두 확률변수의 관계가 선형적일 때만 상관관계를 제대로 계산할 수 있다.\n",
    "\n",
    "다음 네가지 데이터는 모두 x의 값으로부터 y값을 알 수 있기 때문에 상관관계를 가지고 있다. 하지만 피어슨 상관계수는 모두 0으로 계산된다."
   ]
  },
  {
   "cell_type": "code",
   "execution_count": 14,
   "id": "c78edf58",
   "metadata": {},
   "outputs": [
    {
     "name": "stderr",
     "output_type": "stream",
     "text": [
      "D:\\Anaconda\\envs\\minsu\\lib\\site-packages\\ipykernel_launcher.py:25: DeprecationWarning: This function is deprecated. Please call randint(0, 1 + 1) instead\n"
     ]
    },
    {
     "data": {
      "image/png": "[encoded data removed]",
      "text/plain": [
       "<Figure size 432x288 with 4 Axes>"
      ]
     },
     "metadata": {
      "needs_background": "light"
     },
     "output_type": "display_data"
    }
   ],
   "source": [
    "n = 500\n",
    "np.random.seed(1)\n",
    "plt.subplot(221)\n",
    "x1 = np.random.uniform(-1, 1, n)\n",
    "y1 = 2*x1**2 + np.random.uniform(-0.1, 0.1, n)\n",
    "plt.scatter(x1, y1)\n",
    "r1 = sp.stats.pearsonr(x1, y1)[0]\n",
    "plt.title(r\"비선형 상관관계 1: r={:3.1f}\".format(r1))\n",
    "plt.subplot(222)\n",
    "x2 = np.random.uniform(-1, 1, n)\n",
    "y2 = 4*(x2**2-0.5)**2 + 0.1 * np.random.uniform(-1, 1, n)\n",
    "plt.scatter(x2, y2)\n",
    "r2 = sp.stats.pearsonr(x2, y2)[0]\n",
    "plt.title(r\"비선형 상관관계 2: r={:3.1f}\".format(r2))\n",
    "plt.subplot(223)\n",
    "x3 = np.random.uniform(-1, 1, n)\n",
    "y3 = np.cos(x3 * np.pi) + np.random.uniform(0, 1/8, n)\n",
    "x3 = np.sin(x3 * np.pi) + np.random.uniform(0, 1/8, n)\n",
    "plt.scatter(x3, y3)\n",
    "r3 = sp.stats.pearsonr(x3, y3)[0]\n",
    "plt.title(r\"비선형 상관관계 3: r={:3.1f}\".format(r3))\n",
    "plt.subplot(224)\n",
    "x4 = np.random.uniform(-1, 1, n)\n",
    "y4 = (x4**2 + np.random.uniform(0, 0.1, n)) * \\\n",
    "    np.array([-1, 1])[np.random.random_integers(0, 1, size=n)]\n",
    "plt.scatter(x4, y4)\n",
    "r4 = sp.stats.pearsonr(x4, y4)[0]\n",
    "plt.title(r\"비선형 상관관계 4: r={:3.1f}\".format(r4))\n",
    "plt.tight_layout()\n",
    "plt.show()"
   ]
  },
  {
   "cell_type": "code",
   "execution_count": null,
   "id": "58e96a9d",
   "metadata": {},
   "outputs": [],
   "source": []
  }
 ],
 "metadata": {
  "kernelspec": {
   "display_name": "Python 3",
   "language": "python",
   "name": "python3"
  },
  "language_info": {
   "codemirror_mode": {
    "name": "ipython",
    "version": 3
   },
   "file_extension": ".py",
   "mimetype": "text/x-python",
   "name": "python",
   "nbconvert_exporter": "python",
   "pygments_lexer": "ipython3",
   "version": "3.6.13"
  }
 },
 "nbformat": 4,
 "nbformat_minor": 5
}
