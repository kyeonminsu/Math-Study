{
 "cells": [
  {
   "cell_type": "markdown",
   "id": "fd02a52d",
   "metadata": {},
   "source": [
    "# 분산과 표준편차"
   ]
  },
  {
   "cell_type": "markdown",
   "id": "a577642f",
   "metadata": {},
   "source": [
    "확률분포함수의 모양을 설명하는 두 번째 특성인 분산을 공부한다. 분산은 확률분포함수에서 확률이 모여있는지 퍼져있는지를 나타내는 값이다. 기댓값이 확률변수에서 어떤 값이 나올지를 예측한 것이라면 분산은 그 예측의 정확도 혹은 신뢰성을 표현한 것이라고 볼 수 있다."
   ]
  },
  {
   "cell_type": "markdown",
   "id": "3ebb7aa2",
   "metadata": {},
   "source": [
    "# 확률분포의 분산"
   ]
  },
  {
   "cell_type": "markdown",
   "id": "e4e9295e",
   "metadata": {},
   "source": [
    "확률밀도함수 p(x)의 수식을 알고 있다면 이론적인 분산을 구할 수 있다. 분산을 구하는 연산은 영어 Variance의 앞글자를 따서 Var[⋅]로 표기하고 이 연산으로 계산된 분산값은 $σ^2$으로 표기한다."
   ]
  },
  {
   "cell_type": "markdown",
   "id": "0cd0fc59",
   "metadata": {},
   "source": [
    "$$σ^2=Var[X]=E[(X−μ)^2]$$"
   ]
  },
  {
   "cell_type": "markdown",
   "id": "24032ead",
   "metadata": {},
   "source": [
    "이산확률변수의 분산은 평균으로부터 표본 데이터까지 거리의 제곱을 확률질량함수 p(x)로 가중하여 더한 값이다."
   ]
  },
  {
   "cell_type": "markdown",
   "id": "a89a23ea",
   "metadata": {},
   "source": [
    "$$σ^2=\\displaystyle\\sum_{x_i∈Ω}(xi−μ)^2 p(xi)$$"
   ]
  },
  {
   "cell_type": "markdown",
   "id": "487b6d39",
   "metadata": {},
   "source": [
    "연속확률변수의 분산은 평균으로부터 표본 데이터까지 거리의 제곱을 확률밀도함수 p(x)로 가중하여 적분한 값이다."
   ]
  },
  {
   "cell_type": "markdown",
   "id": "175e82ad",
   "metadata": {},
   "source": [
    "$$σ^2=∫(x−μ)2p(x)dx$$"
   ]
  },
  {
   "cell_type": "markdown",
   "id": "4f24feba",
   "metadata": {},
   "source": [
    "# 분산의 성질"
   ]
  },
  {
   "cell_type": "markdown",
   "id": "16f83d82",
   "metadata": {},
   "source": [
    "분산은 항상 0 또는 양수이다."
   ]
  },
  {
   "cell_type": "markdown",
   "id": "08929c2f",
   "metadata": {},
   "source": [
    "$$Var[X]≥0$$"
   ]
  },
  {
   "cell_type": "markdown",
   "id": "fa8ea422",
   "metadata": {},
   "source": [
    "확률변수가 아닌 상수 값 c에 대해 다음 식이 성립한다."
   ]
  },
  {
   "cell_type": "markdown",
   "id": "efbc3b87",
   "metadata": {},
   "source": [
    "$$Var[c]=0$$"
   ]
  },
  {
   "cell_type": "markdown",
   "id": "6792ea56",
   "metadata": {},
   "source": [
    "$$Var[cX]=c^2Var[X]$$"
   ]
  },
  {
   "cell_type": "markdown",
   "id": "b3695eb3",
   "metadata": {},
   "source": [
    "또한 기댓값의 성질을 이용하여 다음 성질을 증명할 수 있다"
   ]
  },
  {
   "cell_type": "markdown",
   "id": "59aa5f57",
   "metadata": {},
   "source": [
    "$$Var[X]=E[X^2]−(E[X])2=E[X^2]−μ^2$$"
   ]
  },
  {
   "cell_type": "markdown",
   "id": "092b2653",
   "metadata": {},
   "source": [
    "$$E[X2]=μ^2+Var[X]$$"
   ]
  },
  {
   "cell_type": "markdown",
   "id": "88883a3e",
   "metadata": {},
   "source": [
    "(증명)"
   ]
  },
  {
   "cell_type": "markdown",
   "id": "deaf2c41",
   "metadata": {},
   "source": [
    "$$Var[X]=E[(X−μ)^2]$$"
   ]
  },
  {
   "cell_type": "markdown",
   "id": "238cf6c5",
   "metadata": {},
   "source": [
    "$$=E[X^2−2μX+μ^2]$$"
   ]
  },
  {
   "cell_type": "markdown",
   "id": "23cb3c97",
   "metadata": {},
   "source": [
    "$$=E[X^2]−2μE[X]+μ^2$$"
   ]
  },
  {
   "cell_type": "markdown",
   "id": "e70240d9",
   "metadata": {},
   "source": [
    "$$=E[X^2]−2μ2+μ^2$$"
   ]
  },
  {
   "cell_type": "markdown",
   "id": "9fbfeee7",
   "metadata": {},
   "source": [
    "$$=E[X^2]−μ^2$$"
   ]
  },
  {
   "cell_type": "markdown",
   "id": "3fcd634e",
   "metadata": {},
   "source": [
    "# 두 확률변수의 합의 분산"
   ]
  },
  {
   "cell_type": "markdown",
   "id": "06cd9470",
   "metadata": {},
   "source": [
    "두 확률변수 X, Y의 합의 분산은 각 확률변수의 분산의 합과 다음과 같은 관계가 있다."
   ]
  },
  {
   "cell_type": "markdown",
   "id": "d8b5cc23",
   "metadata": {},
   "source": [
    "$$Var[X+Y]=Var[X]+Var[Y]+2E[(X−μX)(Y−μY)]$$"
   ]
  },
  {
   "cell_type": "markdown",
   "id": "cc532668",
   "metadata": {},
   "source": [
    "마지막 항은 양수도 될 수 있고 음수도 될 수 있다."
   ]
  },
  {
   "cell_type": "markdown",
   "id": "bf39a1fd",
   "metadata": {},
   "source": [
    "이 식의 증명은 다음과 같다. 우선 확률변수 X+Y의 기댓값은 기댓값의 성질로부터 각 확률변수의 기댓값의 합과 같다."
   ]
  },
  {
   "cell_type": "markdown",
   "id": "5aea1534",
   "metadata": {},
   "source": [
    "$$E[X+Y]=μX+μY$$"
   ]
  },
  {
   "cell_type": "markdown",
   "id": "8661c69f",
   "metadata": {},
   "source": [
    "분산의 정의와 기댓값의 성질로부터 다음이 성립한다."
   ]
  },
  {
   "cell_type": "markdown",
   "id": "8b4129e6",
   "metadata": {},
   "source": [
    "$$Var[X+Y]=E[(X+Y−(μX+μY))^2]$$"
   ]
  },
  {
   "cell_type": "markdown",
   "id": "d2381e7e",
   "metadata": {},
   "source": [
    "$$=E[((X−μX)+(Y−μY))^2]$$"
   ]
  },
  {
   "cell_type": "markdown",
   "id": "5f2d2575",
   "metadata": {},
   "source": [
    "$$=E[(X−μX)^2+(Y−μY)2+2(X−μX)(Y−μY)]$$"
   ]
  },
  {
   "cell_type": "markdown",
   "id": "49ebeaf7",
   "metadata": {},
   "source": [
    "$$=E[(X−μX)^2]+E[(Y−μY)2]+2E[(X−μX)(Y−μY)]$$"
   ]
  },
  {
   "cell_type": "markdown",
   "id": "48860c48",
   "metadata": {},
   "source": [
    "$$=Var[X]+Var[Y]+2E[(X−μX)(Y−μY)]$$"
   ]
  },
  {
   "cell_type": "markdown",
   "id": "07328b59",
   "metadata": {},
   "source": [
    "# 확률변수의 독립"
   ]
  },
  {
   "cell_type": "markdown",
   "id": "a83ced39",
   "metadata": {},
   "source": [
    "**두 확률변수가 서로 독립(independent)**이라는 것은 두 확률변수가 가질 수 있는 모든 사건의 조합에 대해 결합사건의 확률이 각 사건의 확률의 곱과 같다는 뜻이다. 쉽게 생각하면 두 확률변수가 서로에게 영향을 미치지 않는다라는 의미로 생각해도 된다. 예를 들어 주사위를 두 번 던져 각각 나오는 값을 나타내는 확률변수 X1과 X2는 서로 독립이다."
   ]
  },
  {
   "cell_type": "markdown",
   "id": "4a15c092",
   "metadata": {},
   "source": [
    "독립의 반대, 즉 **두 확률변수에서 하나의 확률변수의 값이 특정한 값이면 다른 확률변수의 확률분포가 영향을 받아 변하게 되면 종속(dependent)**이라고 한다. 쉽게 생각하면 두 확률변수가 서로에게 영향을 미치는 경우이다. 예를 들어 주사위를 두 번 던져 나오는 값의 합은 각각의 주사위에서 나온 값에 종속적이다."
   ]
  },
  {
   "cell_type": "markdown",
   "id": "a9494e08",
   "metadata": {},
   "source": [
    "두 확률변수 X, Y가 서로 독립이면 다음 식이 성립한다."
   ]
  },
  {
   "cell_type": "markdown",
   "id": "a3e4f61b",
   "metadata": {},
   "source": [
    "$$E[(X−μX)(Y−μY)]=0$$"
   ]
  },
  {
   "cell_type": "markdown",
   "id": "10d01f07",
   "metadata": {},
   "source": [
    "왜 이 등식이 성립하는가는 추후 설명하기로 한다. 이 등식을 이용하면 서로 독립인 두 확률변수의 합의 분산은 각 확률변수의 분산의 합과 같다는 것을 보일 수 있다."
   ]
  },
  {
   "cell_type": "markdown",
   "id": "d2b77f12",
   "metadata": {},
   "source": [
    "$$Var[X+Y]=Var[X]+Var[Y]$$"
   ]
  },
  {
   "cell_type": "code",
   "execution_count": null,
   "id": "a6407bef",
   "metadata": {},
   "outputs": [],
   "source": []
  }
 ],
 "metadata": {
  "kernelspec": {
   "display_name": "Python 3",
   "language": "python",
   "name": "python3"
  },
  "language_info": {
   "codemirror_mode": {
    "name": "ipython",
    "version": 3
   },
   "file_extension": ".py",
   "mimetype": "text/x-python",
   "name": "python",
   "nbconvert_exporter": "python",
   "pygments_lexer": "ipython3",
   "version": "3.6.13"
  }
 },
 "nbformat": 4,
 "nbformat_minor": 5
}
