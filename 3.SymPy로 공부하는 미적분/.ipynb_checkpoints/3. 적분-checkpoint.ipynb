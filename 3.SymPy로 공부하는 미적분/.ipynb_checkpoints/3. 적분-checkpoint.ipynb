{
 "cells": [
  {
   "cell_type": "markdown",
   "id": "96bc1f08",
   "metadata": {},
   "source": [
    "# 적분"
   ]
  },
  {
   "cell_type": "markdown",
   "id": "d9dedd65",
   "metadata": {},
   "source": [
    "적분(integral)은 미분과 반대되는 개념이다. 적분에는 부정적분(indefinite integral)과 정적분(definite integral)이 있다."
   ]
  },
  {
   "cell_type": "markdown",
   "id": "d343b8c5",
   "metadata": {},
   "source": [
    "# 부정적분"
   ]
  },
  {
   "cell_type": "markdown",
   "id": "db5ac0cf",
   "metadata": {},
   "source": [
    "**부정적분(indefinite integral)은 정확하게 미분과 반대되는 개념, 즉 반-미분(anti-derivative)**이다. 함수 f(x)가 어떤 함수를 미분하여 나온 결과인 도함수라고 가정하고 이 도함수 f(x)에 대한 미분되기 전의 원래의 함수를 찾는 과정(integration), 또는 그 결과(integral)를 말한다."
   ]
  },
  {
   "cell_type": "markdown",
   "id": "b98a545c",
   "metadata": {},
   "source": [
    "부정적분으로 찾은 원래의 함수를 표기할 때는 도함수를 대문자화(capitalization)하여 표기할 때도 있지만 다음처럼 ∫ 기호(integral이라고 읽는다.)로 나타내는 것이 일반적이다. 여기에서 도함수가 f(x)이므로 미분하기 전의 함수를 F(x) 또는 ∫f(x)dx로 쓴다. dx는 x라는 변수로 적분했다는 것을 나타내는 기호로 편미분에 대응하는 적분을 표기할 때 필요하다."
   ]
  },
  {
   "cell_type": "markdown",
   "id": "eefdc906",
   "metadata": {},
   "source": [
    "${dF(x)\\over dx}=f(x)↔F(x)=∫f(x)dx+C$"
   ]
  },
  {
   "cell_type": "markdown",
   "id": "2dee1a26",
   "metadata": {},
   "source": [
    "C는 상수항을 뜻한다. 상수항은 미분하면 0이 되므로 부정적분은 무한 개의 해가 있다. C는 너무 당연하므로 생략하고 쓰는 경우도 있다."
   ]
  },
  {
   "cell_type": "code",
   "execution_count": null,
   "id": "44cd8486",
   "metadata": {},
   "outputs": [],
   "source": []
  }
 ],
 "metadata": {
  "kernelspec": {
   "display_name": "Python 3",
   "language": "python",
   "name": "python3"
  },
  "language_info": {
   "codemirror_mode": {
    "name": "ipython",
    "version": 3
   },
   "file_extension": ".py",
   "mimetype": "text/x-python",
   "name": "python",
   "nbconvert_exporter": "python",
   "pygments_lexer": "ipython3",
   "version": "3.6.13"
  }
 },
 "nbformat": 4,
 "nbformat_minor": 5
}
