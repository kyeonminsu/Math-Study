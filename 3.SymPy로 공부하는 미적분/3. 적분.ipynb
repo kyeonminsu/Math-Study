{
 "cells": [
  {
   "cell_type": "markdown",
   "id": "96bc1f08",
   "metadata": {},
   "source": [
    "# 적분"
   ]
  },
  {
   "cell_type": "markdown",
   "id": "d9dedd65",
   "metadata": {},
   "source": [
    "적분(integral)은 미분과 반대되는 개념이다. 적분에는 부정적분(indefinite integral)과 정적분(definite integral)이 있다."
   ]
  },
  {
   "cell_type": "markdown",
   "id": "d343b8c5",
   "metadata": {},
   "source": [
    "# 부정적분"
   ]
  },
  {
   "cell_type": "markdown",
   "id": "db5ac0cf",
   "metadata": {},
   "source": [
    "**부정적분(indefinite integral)은 정확하게 미분과 반대되는 개념, 즉 반-미분(anti-derivative)**이다. 함수 f(x)가 어떤 함수를 미분하여 나온 결과인 도함수라고 가정하고 이 도함수 f(x)에 대한 미분되기 전의 원래의 함수를 찾는 과정(integration), 또는 그 결과(integral)를 말한다."
   ]
  },
  {
   "cell_type": "markdown",
   "id": "b98a545c",
   "metadata": {},
   "source": [
    "부정적분으로 찾은 원래의 함수를 표기할 때는 도함수를 대문자화(capitalization)하여 표기할 때도 있지만 다음처럼 ∫ 기호(integral이라고 읽는다.)로 나타내는 것이 일반적이다. 여기에서 도함수가 f(x)이므로 미분하기 전의 함수를 F(x) 또는 ∫f(x)dx로 쓴다. dx는 x라는 변수로 적분했다는 것을 나타내는 기호로 편미분에 대응하는 적분을 표기할 때 필요하다."
   ]
  },
  {
   "cell_type": "markdown",
   "id": "eefdc906",
   "metadata": {},
   "source": [
    "${dF(x)\\over dx}=f(x)↔F(x)=∫f(x)dx+C$"
   ]
  },
  {
   "cell_type": "markdown",
   "id": "2dee1a26",
   "metadata": {},
   "source": [
    "C는 상수항을 뜻한다. 상수항은 미분하면 0이 되므로 부정적분은 무한 개의 해가 있다. C는 너무 당연하므로 생략하고 쓰는 경우도 있다."
   ]
  },
  {
   "cell_type": "markdown",
   "id": "fef11d7a",
   "metadata": {},
   "source": [
    "# 정적분"
   ]
  },
  {
   "cell_type": "markdown",
   "id": "a86d626a",
   "metadata": {},
   "source": [
    "정적분(definite integral)은 독립변수 x가 어떤 구간 [a,b] 사이일 때 그 구간에서 함수 f(x)의 값과 수평선(x 축)이 이루는 면적을 구하는 행위(integration) 혹은 그 값(integral)을 말한다. "
   ]
  },
  {
   "cell_type": "code",
   "execution_count": 3,
   "id": "87880879",
   "metadata": {},
   "outputs": [
    {
     "data": {
      "image/png": "[encoded data removed]",
      "text/plain": [
       "<Figure size 432x288 with 1 Axes>"
      ]
     },
     "metadata": {
      "needs_background": "light"
     },
     "output_type": "display_data"
    }
   ],
   "source": [
    "from matplotlib.patches import Polygon\n",
    "import numpy as np\n",
    "import matplotlib.pyplot as plt\n",
    "plt.rc(\"font\", size=10, family='Malgun Gothic')\n",
    "plt.rc('axes', unicode_minus=False)\n",
    "\n",
    "def f(x):\n",
    "    return x ** 3 - 3 * x ** 2 + x + 6\n",
    "\n",
    "\n",
    "a, b = 0, 2\n",
    "x = np.linspace(a - 0.5, b + 0.5, 50)\n",
    "y = f(x)\n",
    "\n",
    "ax = plt.subplot(111)\n",
    "plt.title(\"정적분의 예\")\n",
    "plt.plot(x, y, 'r', linewidth=2)\n",
    "plt.ylim(bottom=0)\n",
    "ix = np.linspace(a, b)\n",
    "iy = f(ix)\n",
    "verts = [(a, 0)] + list(zip(ix, iy)) + [(b, 0)]\n",
    "poly = Polygon(verts, facecolor='0.9', edgecolor='0.5')\n",
    "ax.add_patch(poly)\n",
    "plt.text(0.5 * (a + b), 0.2 * (f(a) + f(b)), r\"$\\int_a^b f(x)dx$\",\n",
    "         horizontalalignment='center', fontsize=20)\n",
    "plt.figtext(0.9, 0.05, '$x$')\n",
    "plt.figtext(0.1, 0.9, '$y$')\n",
    "ax.spines['right'].set_visible(False)\n",
    "ax.spines['top'].set_visible(False)\n",
    "ax.xaxis.set_ticks_position('bottom')\n",
    "ax.set_xticks((a, b))\n",
    "ax.set_xticklabels(('$a$', '$b$'))\n",
    "ax.set_yticks([])\n",
    "ax.set_xlim(-2, 4)\n",
    "ax.set_ylim(0, 8)\n",
    "plt.show()"
   ]
  },
  {
   "cell_type": "markdown",
   "id": "5c59d381",
   "metadata": {},
   "source": [
    "정적분은 심파이 등으로 부정적분을 한 뒤 미적분학의 기본 정리를 사용하여 푸는 방법과 원래 함수의 면적 부분을 실제로 잘게 쪼개어 면적을 근사하게 구하는 수치적분(numerical integration) 이렇게 두가지 방법으로 구할 수 있다."
   ]
  },
  {
   "cell_type": "code",
   "execution_count": 5,
   "id": "aa8410de",
   "metadata": {},
   "outputs": [
    {
     "data": {
      "text/latex": [
       "$\\displaystyle x^{3} - 3 x^{2} + x + 6$"
      ],
      "text/plain": [
       "x**3 - 3*x**2 + x + 6"
      ]
     },
     "execution_count": 5,
     "metadata": {},
     "output_type": "execute_result"
    }
   ],
   "source": [
    "import sympy\n",
    "\n",
    "x, y = sympy.symbols('x y')\n",
    "f = x ** 3 - 3 * x ** 2 + x + 6\n",
    "f"
   ]
  },
  {
   "cell_type": "code",
   "execution_count": 6,
   "id": "f7e40056",
   "metadata": {},
   "outputs": [
    {
     "data": {
      "text/latex": [
       "$\\displaystyle \\frac{x^{4}}{4} - x^{3} + \\frac{x^{2}}{2} + 6 x$"
      ],
      "text/plain": [
       "x**4/4 - x**3 + x**2/2 + 6*x"
      ]
     },
     "execution_count": 6,
     "metadata": {},
     "output_type": "execute_result"
    }
   ],
   "source": [
    "# 부정 적분\n",
    "F = sympy.integrate(f)\n",
    "F"
   ]
  },
  {
   "cell_type": "markdown",
   "id": "6c723138",
   "metadata": {},
   "source": [
    "구해진 미분하기 전의 함수에 정적분 구간을 넣어 값을 계산한다. 심볼릭 함수의 변수에 실제 숫자를 넣어서 함수의 값을 계산하려면 subs(), evalf() 메서드를 사용한다."
   ]
  },
  {
   "cell_type": "code",
   "execution_count": 7,
   "id": "4382f453",
   "metadata": {},
   "outputs": [
    {
     "data": {
      "text/latex": [
       "$\\displaystyle 10.0$"
      ],
      "text/plain": [
       "10.0000000000000"
      ]
     },
     "execution_count": 7,
     "metadata": {},
     "output_type": "execute_result"
    }
   ],
   "source": [
    "(F.subs(x, 2) - F.subs(x, 0)).evalf()"
   ]
  },
  {
   "cell_type": "markdown",
   "id": "a818bd21",
   "metadata": {},
   "source": [
    "# 수치적분"
   ]
  },
  {
   "cell_type": "markdown",
   "id": "64c54a77",
   "metadata": {},
   "source": [
    "**수치적분(numerical integration)**은 함수를 아주 작은 구간으로 나누어 실제 면적을 계산함으로써 정적분의 값을 구하는 방법이다. Scipy의 integrate 서브패키지의 quad 명령으로 수치적분을 할 수 있다."
   ]
  },
  {
   "cell_type": "code",
   "execution_count": 12,
   "id": "6925d444",
   "metadata": {},
   "outputs": [
    {
     "data": {
      "text/plain": [
       "(10.0, 1.1102230246251565e-13)"
      ]
     },
     "execution_count": 12,
     "metadata": {},
     "output_type": "execute_result"
    }
   ],
   "source": [
    "from scipy.integrate import quad\n",
    "\n",
    "def f(x):\n",
    "    return x ** 3 - 3 * x ** 2 + x + 6\n",
    "\n",
    "quad(f, 0, 2)  # 정적분 (수치적분)"
   ]
  },
  {
   "cell_type": "markdown",
   "id": "c73949ab",
   "metadata": {},
   "source": [
    "# 다변수 정적분"
   ]
  },
  {
   "cell_type": "markdown",
   "id": "ce5d286f",
   "metadata": {},
   "source": [
    "입력 변수가 2개인 2차원 함수 f(x,y)의 경우에는 정적분을 다양한 방법으로 정의할 수 있다.\n",
    "\n",
    "두 변수로 모두 적분하는 것은 2차원 평면에서 주어진 사각형 영역 아래의 부피를 구하는 것과 같다."
   ]
  },
  {
   "cell_type": "code",
   "execution_count": 13,
   "id": "4542412f",
   "metadata": {},
   "outputs": [
    {
     "data": {
      "image/png": "[encoded data removed]",
      "text/plain": [
       "<Figure size 432x288 with 1 Axes>"
      ]
     },
     "metadata": {
      "needs_background": "light"
     },
     "output_type": "display_data"
    }
   ],
   "source": [
    "fig = plt.figure()\n",
    "ax = fig.add_subplot(111, projection='3d')\n",
    "_x = np.arange(12) / 2 + 2\n",
    "_y = np.arange(12) / 2\n",
    "X, Y = np.meshgrid(_x, _y)\n",
    "x, y = X.ravel(), Y.ravel()\n",
    "z = x * x - 10 * x + y + 50\n",
    "z0 = np.zeros_like(z)\n",
    "ax.bar3d(x, y, z0, 0.48, 0.48, z)\n",
    "ax.set_xlim(0, 10)\n",
    "ax.set_ylim(-2, 10)\n",
    "ax.set_zlim(0, 50)\n",
    "ax.set_xlabel(\"x\")\n",
    "ax.set_ylabel(\"y\")\n",
    "plt.title(\"f(x, y)\")\n",
    "plt.show()"
   ]
  },
  {
   "cell_type": "code",
   "execution_count": null,
   "id": "5d7770f6",
   "metadata": {},
   "outputs": [],
   "source": []
  }
 ],
 "metadata": {
  "kernelspec": {
   "display_name": "Python 3",
   "language": "python",
   "name": "python3"
  },
  "language_info": {
   "codemirror_mode": {
    "name": "ipython",
    "version": 3
   },
   "file_extension": ".py",
   "mimetype": "text/x-python",
   "name": "python",
   "nbconvert_exporter": "python",
   "pygments_lexer": "ipython3",
   "version": "3.6.13"
  }
 },
 "nbformat": 4,
 "nbformat_minor": 5
}
