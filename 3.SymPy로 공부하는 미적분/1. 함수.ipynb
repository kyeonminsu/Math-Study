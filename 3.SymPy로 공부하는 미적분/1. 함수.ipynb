{
 "cells": [
  {
   "cell_type": "markdown",
   "id": "25a982ab",
   "metadata": {},
   "source": [
    "# 함수"
   ]
  },
  {
   "cell_type": "markdown",
   "id": "3065e45f",
   "metadata": {},
   "source": [
    "함수(function)는 입력 값을 출력 값으로 바꾸어 출력하는 관계(relationship)를 말한다."
   ]
  },
  {
   "cell_type": "markdown",
   "id": "4625c898",
   "metadata": {},
   "source": [
    "함수에서 입력변수가 가질 수 있는 값의 집합을 정의역(domain), 출력변수가 가질 수 있는 값의 집합을 공역(range)이라고 한다. \n",
    "정의역은 실수 전체인 경우가 많다. 하지만 함수에 따라서는 일부 숫자만 정의역으로 가질 수도 있다."
   ]
  },
  {
   "cell_type": "markdown",
   "id": "fe5485cf",
   "metadata": {},
   "source": [
    "1.앰프의 조절 나사(knob)를 돌린 각도 x와 소리의 크기(volume) y"
   ]
  },
  {
   "cell_type": "markdown",
   "id": "c0521fd2",
   "metadata": {},
   "source": [
    "2.등산을 할 때 출발점에서 간 거리 x와 그 위치의 해발 고도 y"
   ]
  },
  {
   "cell_type": "code",
   "execution_count": 1,
   "id": "9bf52d7e",
   "metadata": {},
   "outputs": [],
   "source": [
    "# 함수 정의\n",
    "f = {\n",
    "    1: 2,\n",
    "    2: 4,\n",
    "    3: 6,\n",
    "    4: 8,\n",
    "    5: 10,\n",
    "}"
   ]
  },
  {
   "cell_type": "code",
   "execution_count": 2,
   "id": "2f851c0d",
   "metadata": {},
   "outputs": [
    {
     "data": {
      "text/plain": [
       "2"
      ]
     },
     "execution_count": 2,
     "metadata": {},
     "output_type": "execute_result"
    }
   ],
   "source": [
    "f[1]"
   ]
  },
  {
   "cell_type": "markdown",
   "id": "b772c400",
   "metadata": {},
   "source": [
    "# 변수"
   ]
  },
  {
   "cell_type": "markdown",
   "id": "adbfe976",
   "metadata": {},
   "source": [
    "변수(variable)란 어떤 숫자를 대표하는 기호이다. 함수에서 입력 값이나 출력 값을 기호 즉 변수로 나타내기도 한다. 입력 값을 대표하는 변수를 입력변수(input variable)라 하고 출력 값을 대표하는 변수를 출력변수(output variable)라고 한다. "
   ]
  },
  {
   "cell_type": "code",
   "execution_count": 3,
   "id": "501e0d1c",
   "metadata": {},
   "outputs": [
    {
     "name": "stdout",
     "output_type": "stream",
     "text": [
      "f(10) = 20\n"
     ]
    }
   ],
   "source": [
    "# 함수 정의\n",
    "def f(x):\n",
    "    return 2 * x\n",
    "\n",
    "# 함수 사용\n",
    "x = 10\n",
    "y = f(x)\n",
    "\n",
    "print(\"f({}) = {}\".format(x, y))"
   ]
  },
  {
   "cell_type": "code",
   "execution_count": 4,
   "id": "5079fab3",
   "metadata": {},
   "outputs": [
    {
     "data": {
      "text/plain": [
       "20"
      ]
     },
     "execution_count": 4,
     "metadata": {},
     "output_type": "execute_result"
    }
   ],
   "source": [
    "f(10)"
   ]
  },
  {
   "cell_type": "markdown",
   "id": "78a3dd39",
   "metadata": {},
   "source": [
    "# 연속과 불연속"
   ]
  },
  {
   "cell_type": "markdown",
   "id": "a7cd2f61",
   "metadata": {},
   "source": [
    "함수의 값이 중간에 갑자기 변하는 것을 **불연속(discontinuous)**이라고 하고 그렇지 않으면 **연속(continuous)**이라고 한다. 다음에 설명할 부호함수, 단위계단함수, 지시함수는 데이터 분석에서 자주 등장하는 불연속함수다."
   ]
  },
  {
   "cell_type": "markdown",
   "id": "18b08eec",
   "metadata": {},
   "source": [
    "# 부호 함수"
   ]
  },
  {
   "cell_type": "markdown",
   "id": "17b13e00",
   "metadata": {},
   "source": [
    "부호함수(sign function)는 입력이 양수이면 1, 음수이면 -1, 0이면 0을 출력하는 x=0에서 불연속인 함수이다. 넘파이에서는 sign() 명령으로 구현되어 있다."
   ]
  },
  {
   "cell_type": "code",
   "execution_count": 5,
   "id": "6b499e2b",
   "metadata": {},
   "outputs": [
    {
     "data": {
      "text/plain": [
       "(-1.0, 0, 1.0)"
      ]
     },
     "execution_count": 5,
     "metadata": {},
     "output_type": "execute_result"
    }
   ],
   "source": [
    "import numpy as np\n",
    "\n",
    "np.sign(-0.0001), np.sign(0), np.sign(0.0001)"
   ]
  },
  {
   "cell_type": "markdown",
   "id": "6efdb0bb",
   "metadata": {},
   "source": [
    "# 단위계단함수"
   ]
  },
  {
   "cell_type": "markdown",
   "id": "45e86b4a",
   "metadata": {},
   "source": [
    "단위계단함수(Heaviside step function)도 x=0에서 불연속인 함수이다."
   ]
  },
  {
   "cell_type": "code",
   "execution_count": 6,
   "id": "b3a15e93",
   "metadata": {},
   "outputs": [
    {
     "data": {
      "text/plain": [
       "(0.0, 1.0, 1.0)"
      ]
     },
     "execution_count": 6,
     "metadata": {},
     "output_type": "execute_result"
    }
   ],
   "source": [
    "def heaviside_step(x):\n",
    "    if isinstance(x, np.ndarray):\n",
    "        return np.where(x >= 0, 1, 0)\n",
    "    else:\n",
    "        return 1.0 if x >= 0 else 0.0 \n",
    "\n",
    "heaviside_step(-0.0001), heaviside_step(0), heaviside_step(0.0001) "
   ]
  },
  {
   "cell_type": "markdown",
   "id": "ec336db9",
   "metadata": {},
   "source": [
    "# 역함수"
   ]
  },
  {
   "cell_type": "markdown",
   "id": "92c7dcaf",
   "metadata": {},
   "source": [
    "어떤 함수의 입력/출력 관계와 정반대의 입출력 관계를 갖는 함수를 **역함수(inverse function)**라고 한다."
   ]
  },
  {
   "cell_type": "markdown",
   "id": "f101ac89",
   "metadata": {},
   "source": [
    "# 함수의 그래프"
   ]
  },
  {
   "cell_type": "markdown",
   "id": "5ffa1c59",
   "metadata": {},
   "source": [
    "함수의 형상을 시각적으로 파악하기 위해 그래프(graph) 또는 **플롯(plot)**를 사용하기도 한다."
   ]
  },
  {
   "cell_type": "markdown",
   "id": "bdd23d2e",
   "metadata": {},
   "source": [
    "$f(x) = x^3 - 3x^2+x$"
   ]
  },
  {
   "cell_type": "code",
   "execution_count": 7,
   "id": "a30a361c",
   "metadata": {},
   "outputs": [],
   "source": [
    "import matplotlib.pyplot as plt"
   ]
  },
  {
   "cell_type": "code",
   "execution_count": 8,
   "id": "e1d688b0",
   "metadata": {},
   "outputs": [
    {
     "data": {
      "text/plain": [
       "array([-1. , -0.5,  0. ,  0.5,  1. ,  1.5,  2. ,  2.5,  3. ])"
      ]
     },
     "execution_count": 8,
     "metadata": {},
     "output_type": "execute_result"
    }
   ],
   "source": [
    "def f(x):\n",
    "    return x**3 - 3 * x**2 + x\n",
    "x = np.linspace(-1, 3, 9)\n",
    "x"
   ]
  },
  {
   "cell_type": "code",
   "execution_count": 9,
   "id": "c507747e",
   "metadata": {},
   "outputs": [
    {
     "data": {
      "text/plain": [
       "array([-5.   , -1.375,  0.   , -0.125, -1.   , -1.875, -2.   , -0.625,\n",
       "        3.   ])"
      ]
     },
     "execution_count": 9,
     "metadata": {},
     "output_type": "execute_result"
    }
   ],
   "source": [
    "y = f(x)\n",
    "y"
   ]
  },
  {
   "cell_type": "code",
   "execution_count": 11,
   "id": "82343a22",
   "metadata": {},
   "outputs": [
    {
     "name": "stderr",
     "output_type": "stream",
     "text": [
      "D:\\Anaconda\\envs\\minsu\\lib\\site-packages\\matplotlib\\backends\\backend_agg.py:238: RuntimeWarning: Glyph 8722 missing from current font.\n",
      "  font.set_text(s, 0.0, flags=flags)\n",
      "D:\\Anaconda\\envs\\minsu\\lib\\site-packages\\matplotlib\\backends\\backend_agg.py:201: RuntimeWarning: Glyph 8722 missing from current font.\n",
      "  font.set_text(s, 0, flags=flags)\n"
     ]
    },
    {
     "data": {
      "image/png": "[encoded data removed]",
      "text/plain": [
       "<Figure size 432x288 with 1 Axes>"
      ]
     },
     "metadata": {
      "needs_background": "light"
     },
     "output_type": "display_data"
    }
   ],
   "source": [
    "plt.rc(\"font\", size=10, family='Malgun Gothic') \n",
    "plt.plot(x, y, 'ro-')\n",
    "plt.xlim(-2, 4)\n",
    "plt.title(\"함수 $f(x) = x^3 - 3x^2 + x$의 그래프\")\n",
    "plt.xlabel(\"x\")\n",
    "plt.ylabel(\"y\")\n",
    "plt.xticks(np.arange(-1, 4))\n",
    "plt.yticks(np.arange(-5, 4))\n",
    "plt.show()"
   ]
  },
  {
   "cell_type": "code",
   "execution_count": 12,
   "id": "14358a7a",
   "metadata": {},
   "outputs": [
    {
     "name": "stderr",
     "output_type": "stream",
     "text": [
      "D:\\Anaconda\\envs\\minsu\\lib\\site-packages\\matplotlib\\backends\\backend_agg.py:238: RuntimeWarning: Glyph 8722 missing from current font.\n",
      "  font.set_text(s, 0.0, flags=flags)\n",
      "D:\\Anaconda\\envs\\minsu\\lib\\site-packages\\matplotlib\\backends\\backend_agg.py:201: RuntimeWarning: Glyph 8722 missing from current font.\n",
      "  font.set_text(s, 0, flags=flags)\n"
     ]
    },
    {
     "data": {
      "image/png": "[encoded data removed]",
      "text/plain": [
       "<Figure size 432x288 with 1 Axes>"
      ]
     },
     "metadata": {
      "needs_background": "light"
     },
     "output_type": "display_data"
    }
   ],
   "source": [
    "x = np.linspace(-1, 3, 400)\n",
    "y = f(x)\n",
    "plt.plot(x, y)\n",
    "\n",
    "plt.xlim(-2, 4)\n",
    "plt.title(\"함수 $f(x) = x^3 - 3x^2 + x$의 그래프\")\n",
    "plt.xlabel(\"x\")\n",
    "plt.ylabel(\"y\")\n",
    "plt.xticks(np.arange(-1, 4))\n",
    "plt.yticks(np.arange(-5, 4))\n",
    "\n",
    "plt.show()"
   ]
  },
  {
   "cell_type": "markdown",
   "id": "e29a5b15",
   "metadata": {},
   "source": [
    "# 역함수의 그래프"
   ]
  },
  {
   "cell_type": "markdown",
   "id": "72a4d33e",
   "metadata": {},
   "source": [
    "역함수의 그래프는 원래의 함수에서 x축과 y축이 바뀐 것이므로 y=x가 나타내는 직선(원점을 통과하는 기울기 1인 직선)을 대칭축으로 대칭인 함수의 그래프와 같다."
   ]
  },
  {
   "cell_type": "code",
   "execution_count": 13,
   "id": "4b40264a",
   "metadata": {},
   "outputs": [
    {
     "name": "stderr",
     "output_type": "stream",
     "text": [
      "D:\\Anaconda\\envs\\minsu\\lib\\site-packages\\matplotlib\\backends\\backend_agg.py:238: RuntimeWarning: Glyph 8722 missing from current font.\n",
      "  font.set_text(s, 0.0, flags=flags)\n",
      "D:\\Anaconda\\envs\\minsu\\lib\\site-packages\\matplotlib\\backends\\backend_agg.py:201: RuntimeWarning: Glyph 8722 missing from current font.\n",
      "  font.set_text(s, 0, flags=flags)\n"
     ]
    },
    {
     "data": {
      "image/png": "[encoded data removed]",
      "text/plain": [
       "<Figure size 432x288 with 1 Axes>"
      ]
     },
     "metadata": {
      "needs_background": "light"
     },
     "output_type": "display_data"
    }
   ],
   "source": [
    "def f1(x):\n",
    "    return x ** 2\n",
    "\n",
    "\n",
    "def f1inv(x):\n",
    "    return np.sqrt(x)\n",
    "\n",
    "\n",
    "x = np.linspace(0, 3, 300)\n",
    "plt.plot(x, f1(x), \"r-\", label=\"함수 $f(x) = x^2$\")\n",
    "plt.plot(x, f1inv(x), \"b-.\", label=\"역함수 $f^{-1}(x) = \\sqrt{x}$\")\n",
    "plt.plot(x, x, \"g--\")\n",
    "plt.axis(\"equal\")\n",
    "plt.xlim(0, 2)\n",
    "plt.ylim(0, 2)\n",
    "plt.legend()\n",
    "plt.title(\"역함수의 그래프\")\n",
    "plt.show()"
   ]
  },
  {
   "cell_type": "markdown",
   "id": "b49a8f39",
   "metadata": {},
   "source": [
    "# ReLU(Rectified Linear Unit)"
   ]
  },
  {
   "cell_type": "code",
   "execution_count": 14,
   "id": "2b7958dc",
   "metadata": {},
   "outputs": [
    {
     "name": "stderr",
     "output_type": "stream",
     "text": [
      "D:\\Anaconda\\envs\\minsu\\lib\\site-packages\\matplotlib\\backends\\backend_agg.py:238: RuntimeWarning: Glyph 8722 missing from current font.\n",
      "  font.set_text(s, 0.0, flags=flags)\n",
      "D:\\Anaconda\\envs\\minsu\\lib\\site-packages\\matplotlib\\backends\\backend_agg.py:201: RuntimeWarning: Glyph 8722 missing from current font.\n",
      "  font.set_text(s, 0, flags=flags)\n"
     ]
    },
    {
     "data": {
      "image/png": "[encoded data removed]",
      "text/plain": [
       "<Figure size 432x288 with 1 Axes>"
      ]
     },
     "metadata": {
      "needs_background": "light"
     },
     "output_type": "display_data"
    }
   ],
   "source": [
    "xx = np.linspace(-10, 10, 100)\n",
    "plt.plot(xx, np.maximum(xx, 0))\n",
    "plt.title(\"max(x,0) 또는 ReLU\")\n",
    "plt.xlabel(\"$x$\")\n",
    "plt.ylabel(\"$ReLU(x)$\")\n",
    "plt.show()"
   ]
  },
  {
   "cell_type": "code",
   "execution_count": null,
   "id": "f0112c94",
   "metadata": {},
   "outputs": [],
   "source": [
    "\n"
   ]
  }
 ],
 "metadata": {
  "kernelspec": {
   "display_name": "Python 3",
   "language": "python",
   "name": "python3"
  },
  "language_info": {
   "codemirror_mode": {
    "name": "ipython",
    "version": 3
   },
   "file_extension": ".py",
   "mimetype": "text/x-python",
   "name": "python",
   "nbconvert_exporter": "python",
   "pygments_lexer": "ipython3",
   "version": "3.6.13"
  }
 },
 "nbformat": 4,
 "nbformat_minor": 5
}
