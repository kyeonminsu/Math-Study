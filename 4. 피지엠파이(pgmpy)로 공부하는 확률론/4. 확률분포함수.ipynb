{
 "cells": [
  {
   "cell_type": "code",
   "execution_count": 3,
   "id": "93162c88",
   "metadata": {},
   "outputs": [],
   "source": [
    "import matplotlib.pyplot as plt\n",
    "import numpy as np\n",
    "plt.rc(\"font\", size=10, family='Malgun Gothic')\n",
    "plt.rc('axes', unicode_minus=False)"
   ]
  },
  {
   "cell_type": "markdown",
   "id": "2aaeb9cd",
   "metadata": {},
   "source": [
    "# 확률분포"
   ]
  },
  {
   "cell_type": "markdown",
   "id": "a9a068fa",
   "metadata": {},
   "source": [
    "확률은 사건(event)이라는 표본의 집합에 대해 숫자를 할당하는 함수다. 어떤 사건에 어느 정도의 확률이 할당되었는지 묘사한 정보를 **확률분포(probability distribution)**라고 한다. 확률분포를 묘사하려면 모든 사건들을 일일히 제시하고 거기에 할당된 숫자를 보여주어야 한다. 표본의 개수가 유한하다면 가능할 수 있지만 만약 표본의 개수가 무한하다면 현실적으로 모든 사건을 하나 하나 기술하는 것은 불가능하다. 이 절에서는 확률분포함수(probability distribution function)라는 것을 이용하여 이 문제를 해결하는 방법을 설명한다. 확률분포함수로는 다음과 같은 세 종류가 있다."
   ]
  },
  {
   "cell_type": "markdown",
   "id": "68c58185",
   "metadata": {},
   "source": [
    "확률질량함수 , 누적분포함수, 확률밀도함수"
   ]
  },
  {
   "cell_type": "markdown",
   "id": "ca925fe7",
   "metadata": {},
   "source": [
    "# 단순사건과 확률질량함수"
   ]
  },
  {
   "cell_type": "markdown",
   "id": "67d9f6bd",
   "metadata": {},
   "source": [
    "콜로고로프의 정리를 사용하면 어떤 사건의 확률값을 이용하여 다른 사건의 확률값을 계산할 수 있다. 예를 들어 표본이 하나인 사건을 **단순사건(elementary event, atomic event)**이라고 한다. 단순사건끼리는 서로 교집합을 가지지 않으므로 유한 개의 사건만 있는 경우, 모든 단순사건의 확률값을 알면 콜모고로프의 세 번째 공리에 의해 다른 모든 사건의 확률값을 계산할 수 있다. 단 모든 단순사건의 확률의 합은 1이어야 한다."
   ]
  },
  {
   "cell_type": "markdown",
   "id": "b12c5729",
   "metadata": {},
   "source": [
    "$P({♠})=0.1,P({♡})=0.2,P({♢})=0.3,P({♣})=0.4$"
   ]
  },
  {
   "cell_type": "markdown",
   "id": "c3b3e067",
   "metadata": {},
   "source": [
    "$P({♡,♢})=0.2+0.3=0.5$"
   ]
  },
  {
   "cell_type": "markdown",
   "id": "774028a3",
   "metadata": {},
   "source": [
    "이렇게 유한 개의 사건이 존재하는 경우 각 단순사건에 대한 확률만 정의하는 함수를 **확률질량함수(probability mass function)**라고 한다. 확률질량함수는 소문자 p로 표시한다. 확률과 확률질량함수는 다른 개념이라는 점을 주의한다."
   ]
  },
  {
   "cell_type": "markdown",
   "id": "08112bee",
   "metadata": {},
   "source": [
    "다음 확률질량함수는 주사위 눈금 6이 다른 숫자보다 비정상적으로 많이 나오게 만든 조작된 주사위(unfair dice)를 묘사한다."
   ]
  },
  {
   "cell_type": "code",
   "execution_count": 4,
   "id": "ff936380",
   "metadata": {},
   "outputs": [
    {
     "data": {
      "image/png": "[encoded data removed]",
      "text/plain": [
       "<Figure size 432x288 with 1 Axes>"
      ]
     },
     "metadata": {
      "needs_background": "light"
     },
     "output_type": "display_data"
    }
   ],
   "source": [
    "x = np.arange(1, 7)\n",
    "y = np.array([0.1, 0.1, 0.1, 0.1, 0.1, 0.5])\n",
    "plt.stem(x, y)\n",
    "plt.title(\"조작된 주사위의 확률질량함수\")\n",
    "plt.xlabel(\"숫자면\")\n",
    "plt.ylabel(\"확률\")\n",
    "plt.xlim(0, 7)\n",
    "plt.ylim(-0.01, 0.6)\n",
    "plt.xticks(np.arange(6) + 1)\n",
    "plt.show()"
   ]
  },
  {
   "cell_type": "markdown",
   "id": "e8b52636",
   "metadata": {},
   "source": [
    "# 표본 수가 무한한 경우"
   ]
  },
  {
   "cell_type": "markdown",
   "id": "8d6ec370",
   "metadata": {},
   "source": [
    "표본 수가 무한하고 모든 표본에 대해 표본 하나만을 가진 사건의 확률이 동일하다면, 표본 하나에 대한 사건의 확률은 언제나 0이다."
   ]
  },
  {
   "cell_type": "markdown",
   "id": "bca1f2df",
   "metadata": {},
   "source": [
    "# 구간"
   ]
  },
  {
   "cell_type": "markdown",
   "id": "995e30e6",
   "metadata": {},
   "source": [
    "표본공간이 실수의 집합이라면 대부분의 사건(부분집합)은 시작점과 끝점이라는 두 숫자로 이루어진 구간(interval)으로 표현된다."
   ]
  },
  {
   "cell_type": "markdown",
   "id": "a84731fa",
   "metadata": {},
   "source": [
    "$A={a<x≤b}$"
   ]
  },
  {
   "cell_type": "markdown",
   "id": "eaf0c0e7",
   "metadata": {},
   "source": [
    "# 누적분포함수"
   ]
  },
  {
   "cell_type": "markdown",
   "id": "8bd2df8f",
   "metadata": {},
   "source": [
    "그러나 사건(event) 즉, 구간(interval) 하나를 정의하기 위해 숫자가 하나가 아닌 두 개가 필요하다는 점은 아무래도 불편하다. 숫자 하나만으로 사건 즉, 구간을 정의할 수 있는 방법은 없을까? 이를 해결하기 위한 아이디어는 시작점을 모두 똑같이 음의 무한대(−∞)로 통일한 특수한 구간 Sx을 사용하는 것이다."
   ]
  },
  {
   "cell_type": "markdown",
   "id": "3e67d886",
   "metadata": {},
   "source": [
    "$S_-1=${−∞<X≤−1}$"
   ]
  },
  {
   "cell_type": "markdown",
   "id": "c510b1d7",
   "metadata": {},
   "source": [
    "$S_0=${−∞<X≤0}$"
   ]
  },
  {
   "cell_type": "markdown",
   "id": "4f22c148",
   "metadata": {},
   "source": [
    "$S_1=${−∞<X≤1}$"
   ]
  },
  {
   "cell_type": "markdown",
   "id": "444aec7e",
   "metadata": {},
   "source": [
    "$S_x=${−∞<X≤x}$"
   ]
  },
  {
   "cell_type": "markdown",
   "id": "d6781c8a",
   "metadata": {},
   "source": [
    "누적분포함수 cdf는 다음과 같은 특징이 있다."
   ]
  },
  {
   "cell_type": "markdown",
   "id": "e73b25cd",
   "metadata": {},
   "source": [
    "1.음의 무한대에 대한 누적분포함수값은 0이다."
   ]
  },
  {
   "cell_type": "markdown",
   "id": "acc7f87d",
   "metadata": {},
   "source": [
    "$F(−∞)=0$"
   ]
  },
  {
   "cell_type": "markdown",
   "id": "ffa2f1bf",
   "metadata": {},
   "source": [
    "2.양의 무한대에 대한 누적분포함수값은 1이다."
   ]
  },
  {
   "cell_type": "markdown",
   "id": "2126c206",
   "metadata": {},
   "source": [
    "$F(+∞)=1$"
   ]
  },
  {
   "cell_type": "markdown",
   "id": "2f61d81a",
   "metadata": {},
   "source": [
    "3.입력이 크면 누적분포함수값은 같거나 커진다."
   ]
  },
  {
   "cell_type": "markdown",
   "id": "fdada379",
   "metadata": {},
   "source": [
    "$x>y→F(x)≥F(y)$"
   ]
  },
  {
   "cell_type": "markdown",
   "id": "92bfb9bb",
   "metadata": {},
   "source": [
    "# 확률밀도함수"
   ]
  },
  {
   "cell_type": "markdown",
   "id": "d9bdfb5b",
   "metadata": {},
   "source": [
    "누적분포함수는 1차원 함수라는 편리한 도구를 사용하여 확률분포를 간결하고 정확하게 묘사할 수 있도록 해주었다."
   ]
  },
  {
   "cell_type": "markdown",
   "id": "f10971f2",
   "metadata": {},
   "source": [
    "그러나 누적분포함수가 표현하는 사건이 음수 무한대를 시작점으로 하고 변수 x를 끝점으로 하는 구간이다보니 분포의 형상을 직관적으로 이해하기는 힘든 단점이 있다. 다시 말해서 어떤 확률 변수 값이 더 자주 나오는지에 대한 정보를 알기 힘들다는 점이다."
   ]
  },
  {
   "cell_type": "markdown",
   "id": "7eef94bf",
   "metadata": {},
   "source": [
    "이를 알기 위해서는 확률 변수가 나올 수 있는 전체 구간 (−∞ ~ ∞)을 아주 작은 폭 dx를 가지는 구간들로 나눈 다음 각 구간의 확률을 살펴보는 것이 편리하다. 만약 x1 근처에서 폭 dx를 가지는 구간의 확률을 구하면 다음과 같다."
   ]
  },
  {
   "cell_type": "markdown",
   "id": "2c55ae91",
   "metadata": {},
   "source": [
    "$P({x1<x≤x1+dx})=F(x1+dx)−F(x1)$"
   ]
  },
  {
   "cell_type": "markdown",
   "id": "bd7639bc",
   "metadata": {},
   "source": [
    "이 값은 구간의 길이에 따라 달라지므로 구간 길이 dx를 아주 작게 줄였을 때의 값을 알아야 한다. 단순히 dx를 0으로 줄이면 확률은 당연히 0으로 수렴한다. 우리가 원하는 것은 ‘같은 구간 길이를 dx를 가진 두 구간이 x1 위치와 x2 위치에서 얼마나 다른가’이므로 단위 구간 길이당 확률값으로 비교한다."
   ]
  },
  {
   "cell_type": "markdown",
   "id": "d6b43d13",
   "metadata": {},
   "source": [
    "$P({x1<x≤x1+dx})\\over dx$"
   ]
  },
  {
   "cell_type": "markdown",
   "id": "ef830e40",
   "metadata": {},
   "source": [
    "는 단위 구간이 미세하게 줄어들면 다음 그림에서 보듯이 누적분포함수의 기울기가 된다."
   ]
  },
  {
   "cell_type": "markdown",
   "id": "7793e84f",
   "metadata": {},
   "source": [
    "$lim_{dx->0} P({x1<x≤x1+dx})\\over dx$  =  $lim_{dx->0} F(x1+dx)−F(x1))\\over dx$"
   ]
  },
  {
   "cell_type": "markdown",
   "id": "82cbcb96",
   "metadata": {},
   "source": [
    "기울기를 구하는 수학적 연산이 미분(differentiation)이므로 누적분포함수를 미분하여 누적분포함수의 기울기를 출력하는 함수를 만들면 어떤 x1값 근처의 확률이 다른 x2값 근처보다 더 확률이 높은지 또는 낮은지 쉽게 파악할 수 있다. **누적분포함수를 미분하여 구한 도함수를 확률밀도함수(probability density function)**라고 한다. 확률질량함수와 마찬가지로 p(x)로 표기한다."
   ]
  },
  {
   "cell_type": "markdown",
   "id": "a825483b",
   "metadata": {},
   "source": [
    "$p(x)=dF(x) \\over dx$"
   ]
  },
  {
   "cell_type": "markdown",
   "id": "580a08f2",
   "metadata": {},
   "source": [
    "확률밀도함수는 특정한 구간의 확률이 다른 구간에 비해 상대적으로 얼마나 높은가를 나타내는 것이며 그 값 자체가 확률은 아니다라는 점을 명심해야 한다. 함수의 변수가 x가 아니라 u가 된 이유는 x가 적분의 상한인수(upper bound argument)로 사용되고 있기 때문이다."
   ]
  },
  {
   "cell_type": "markdown",
   "id": "ef2d55f7",
   "metadata": {},
   "source": [
    "$$F(x2)−F(x1) = \\int_{x1}^{x2} p(u)du$$"
   ]
  },
  {
   "cell_type": "markdown",
   "id": "aeb84e62",
   "metadata": {},
   "source": [
    "확률밀도함수는 다음과 같은 특징을 가진다."
   ]
  },
  {
   "cell_type": "markdown",
   "id": "0db69c1f",
   "metadata": {},
   "source": [
    "1.적분함수인 누적분포함수의 기울기가 음수가 될 수 없기 때문에 확률밀도함수는 0보다 같거나 크다."
   ]
  },
  {
   "cell_type": "markdown",
   "id": "9770c0af",
   "metadata": {},
   "source": [
    "2. −∞ 부터 ∞까지 적분하면 표본공간 (−∞,∞)의 확률이 되므로 값은 1이다."
   ]
  },
  {
   "cell_type": "code",
   "execution_count": 12,
   "id": "89dedf36",
   "metadata": {},
   "outputs": [
    {
     "data": {
      "image/png": "[encoded data removed]",
      "text/plain": [
       "<Figure size 432x288 with 1 Axes>"
      ]
     },
     "metadata": {
      "needs_background": "light"
     },
     "output_type": "display_data"
    }
   ],
   "source": [
    "t = np.linspace(-100, 500, 1000)\n",
    "F = t / 360\n",
    "F[t < 0] = 0\n",
    "F[t > 360] = 1\n",
    "p = np.gradient(F, 600/1000)  # 수치미분\n",
    "plt.plot(t, p)\n",
    "plt.ylim(-0.0001, p.max()*1.1)\n",
    "plt.xticks([0, 180, 360])\n",
    "plt.title(\"확률밀도함수\")\n",
    "plt.xlabel(\"$x$ (도)\")\n",
    "plt.ylabel(\"$p(x)$\")\n",
    "plt.show()"
   ]
  },
  {
   "cell_type": "code",
   "execution_count": null,
   "id": "feccdc0e",
   "metadata": {},
   "outputs": [],
   "source": []
  }
 ],
 "metadata": {
  "kernelspec": {
   "display_name": "Python 3",
   "language": "python",
   "name": "python3"
  },
  "language_info": {
   "codemirror_mode": {
    "name": "ipython",
    "version": 3
   },
   "file_extension": ".py",
   "mimetype": "text/x-python",
   "name": "python",
   "nbconvert_exporter": "python",
   "pygments_lexer": "ipython3",
   "version": "3.6.13"
  }
 },
 "nbformat": 4,
 "nbformat_minor": 5
}
