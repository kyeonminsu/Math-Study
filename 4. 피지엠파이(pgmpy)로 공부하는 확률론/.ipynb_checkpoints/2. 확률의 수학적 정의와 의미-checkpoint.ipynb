{
 "cells": [
  {
   "cell_type": "markdown",
   "id": "631b2079",
   "metadata": {},
   "source": [
    "# 표본공간과 확률표본"
   ]
  },
  {
   "cell_type": "markdown",
   "id": "43903b5b",
   "metadata": {},
   "source": [
    "우선 확률표본(sample)과 표본공간(sample space)을 정의한다. 확률표본(probabilistic sample, random sample) 또는 **표본(sample)**은 풀고자 하는 확률적 문제에서 발생(realize)할 수 있는 하나의 현상, 혹은 선택(sampled)될 수 있는 하나의 경우를 말한다. 표본공간(sample space)은 가능한 모든 표본의 집합을 말한다. 보통 Ω(대문자 오메가)라는 그리스 문자로 표기한다. 표본공간을 정의한다는 것은 우리가 고려하는 범위에서 어떤 표본(경우, 현상)이 가능하고 어떤 표본이 가능하지 않은가를 정의하는 작업이다."
   ]
  },
  {
   "cell_type": "markdown",
   "id": "d30d0786",
   "metadata": {},
   "source": [
    "플레잉카드 문제에서는 스페이드(♠), 하트(♡), 다이아몬드(♢), 클럽(♣) 기호를 이용하여 표본을 표시할 수 있다. 따라서 2번 예제의 표본공간은 다음처럼 표기할 수 있다."
   ]
  },
  {
   "cell_type": "markdown",
   "id": "98af03da",
   "metadata": {},
   "source": [
    "Ω2={♠,♡,♢,♣}"
   ]
  },
  {
   "cell_type": "markdown",
   "id": "df5f54b9",
   "metadata": {},
   "source": [
    "표본이 연속적인 숫자이면 표본공간이 무한대의 원소를 가질 수 있다. 예를 들어 삼성전자 주식의 가격 문제에서 주가는 한국거래소의 규정에 따라 다음날 -30%부터 30%까지 내리거나 오를 수 있다. 따라서 표본공간은 다음과 같다."
   ]
  },
  {
   "cell_type": "markdown",
   "id": "5c342380",
   "metadata": {},
   "source": [
    "Ω6={x:−30≤x≤30}"
   ]
  },
  {
   "cell_type": "markdown",
   "id": "aba5ac0f",
   "metadata": {},
   "source": [
    "# 사건"
   ]
  },
  {
   "cell_type": "markdown",
   "id": "225f85df",
   "metadata": {},
   "source": [
    "**사건(event)**는 표본공간 Ω의 부분집합, 즉, 전체 표본공간 중에서 우리가 관심을 가지고 있는 일부 표본의 집합을 뜻한다. 보통 A,B,C,⋯ 식으로 대문자 알파벳으로 표기한다."
   ]
  },
  {
   "cell_type": "markdown",
   "id": "e1275bc3",
   "metadata": {},
   "source": [
    "A={}=∅"
   ]
  },
  {
   "cell_type": "markdown",
   "id": "7dbcd731",
   "metadata": {},
   "source": [
    "B={H}"
   ]
  },
  {
   "cell_type": "markdown",
   "id": "5dc34164",
   "metadata": {},
   "source": [
    "C={T}"
   ]
  },
  {
   "cell_type": "markdown",
   "id": "35cc4856",
   "metadata": {},
   "source": [
    "D={H,T}=Ω"
   ]
  },
  {
   "cell_type": "markdown",
   "id": "da4d1805",
   "metadata": {},
   "source": [
    "예로 든 B라는 사건은 ‘동전의 앞면이 나오는 경우’를 뜻하고 D라는 사건은 ‘동전의 앞면이 나오거나 뒷면이 나오는 경우’를 뜻한다. ‘~가 나오는 경우’라고 할 때 이 **’경우’**라는 개념이 바로 사건(부분집합)에 해당한다."
   ]
  },
  {
   "cell_type": "markdown",
   "id": "dab4eb4b",
   "metadata": {},
   "source": [
    "파이썬으로 다음처럼 부분집합의 집합을 구현할 수 있다. 부분집합을 set 자료형이 아닌 frozenset 자료형으로 만든 이유는 딕셔너리의 키(key)로 사용하기 위해서다."
   ]
  },
  {
   "cell_type": "code",
   "execution_count": 1,
   "id": "fb84eb3d",
   "metadata": {},
   "outputs": [
    {
     "data": {
      "text/plain": [
       "{frozenset(), frozenset({'T'}), frozenset({'H'}), frozenset({'H', 'T'})}"
      ]
     },
     "execution_count": 1,
     "metadata": {},
     "output_type": "execute_result"
    }
   ],
   "source": [
    "A = frozenset([])\n",
    "B = frozenset(['H'])\n",
    "C = frozenset(['T'])\n",
    "D = frozenset(['H', 'T'])\n",
    "set([A, B, C, D])"
   ]
  },
  {
   "cell_type": "markdown",
   "id": "fbf768a6",
   "metadata": {},
   "source": [
    "# 확률"
   ]
  },
  {
   "cell_type": "markdown",
   "id": "8758ac77",
   "metadata": {},
   "source": [
    "**확률(probability)**이란 사건(부분집합)을 입력하면 숫자(확률값)가 출력되는 함수다."
   ]
  },
  {
   "cell_type": "markdown",
   "id": "6f8379cb",
   "metadata": {},
   "source": [
    "확률이라는 함수의 입력값의 집합 즉, 정의역(domain)은 표본공간의 모든 사건(부분집합)의 집합이다."
   ]
  },
  {
   "cell_type": "markdown",
   "id": "4c166fa8",
   "metadata": {},
   "source": [
    "즉, 모든 각각의 사건(부분집합)에 어떤 숫자를 할당(assign, allocate)하는 함수가 확률이다. 보통 대문자 알파벳 P 로 나타낸다. 확률 P는 함수이고 P(A)는 A라는 사건(부분집합)에 할당된 숫자를 뜻한다."
   ]
  },
  {
   "cell_type": "markdown",
   "id": "d6e20746",
   "metadata": {},
   "source": [
    "(1)모든 사건에 대해 확률은 실수이고 0 또는 양수다"
   ]
  },
  {
   "cell_type": "markdown",
   "id": "6092ecd4",
   "metadata": {},
   "source": [
    "P(A)≥0"
   ]
  },
  {
   "cell_type": "markdown",
   "id": "59126488",
   "metadata": {},
   "source": [
    "(2) 표본공간(전체집합)이라는 사건(부분집합)에 대한 확률은 1이다."
   ]
  },
  {
   "cell_type": "markdown",
   "id": "fa57f637",
   "metadata": {},
   "source": [
    "P(Ω)=1"
   ]
  },
  {
   "cell_type": "markdown",
   "id": "a904465c",
   "metadata": {},
   "source": [
    "(3) 공통 원소가 없는 두 사건의 합집합의 확률은 사건별 확률의 합이다."
   ]
  },
  {
   "cell_type": "markdown",
   "id": "d9eab070",
   "metadata": {},
   "source": [
    "A∩B=∅→P(A∪B)=P(A)+P(B)"
   ]
  },
  {
   "cell_type": "markdown",
   "id": "4dde3145",
   "metadata": {},
   "source": [
    "이 세 가지를 **콜모고로프의 공리(Kolmogorov’s axioms)**라고 한다."
   ]
  },
  {
   "cell_type": "markdown",
   "id": "080b603e",
   "metadata": {},
   "source": [
    "# 확률은 표본이 아닌 사건을 입력으로 가지는 함수"
   ]
  },
  {
   "cell_type": "markdown",
   "id": "a81c9646",
   "metadata": {},
   "source": [
    "확률에 대해 흔히 가지고 있는 잘못된 지식은 확률이 **”표본 하나 하나에 대해 정의되어 있는 숫자”**라는 것이다. 즉, 확률이 표본을 입력받아 숫자(확률값)를 출력하는 함수라고 잘못 알고 있다. 예를 들어 주사위를 던져 숫자 1이 나타나는 경우에 대해 다음처럼 생각한다.\n",
    "\n"
   ]
  },
  {
   "cell_type": "markdown",
   "id": "9c3126f2",
   "metadata": {},
   "source": [
    "P(1)=$1 \\over 6$"
   ]
  },
  {
   "cell_type": "markdown",
   "id": "3797fad8",
   "metadata": {},
   "source": [
    "하지만 위 식은 틀린 것이다. 확률은 표본이 아닌 사건(부분집합)에 대해 정의하기 때문이다. 올바른 식은 다음과 같다."
   ]
  },
  {
   "cell_type": "markdown",
   "id": "c17c4ae8",
   "metadata": {},
   "source": [
    "P({1})=$1 \\over 6$"
   ]
  },
  {
   "cell_type": "markdown",
   "id": "61909529",
   "metadata": {},
   "source": [
    "# 파이썬을 이용한 확률의 구현"
   ]
  },
  {
   "cell_type": "markdown",
   "id": "a1e8a7bb",
   "metadata": {},
   "source": [
    "파이썬에서는 사건을 키(key)로 가지고 숫자를 값(value)으로 가지는 딕셔너리를 사용하여 확률 함수를 구현할 수 있다. 이때 딕셔너리의 키는 가능한 모든 부분집합이 되어야 한다. 동전의 경우에는 가능한 부분집합 수가 A=∅, B={H}, C={T}, D={H,T} 4개이므로 파이썬으로 구현하면 다음과 같다."
   ]
  },
  {
   "cell_type": "code",
   "execution_count": 2,
   "id": "85ef605d",
   "metadata": {},
   "outputs": [
    {
     "data": {
      "text/plain": [
       "{frozenset(): 0,\n",
       " frozenset({'H'}): 0.4,\n",
       " frozenset({'T'}): 0.6,\n",
       " frozenset({'H', 'T'}): 1}"
      ]
     },
     "execution_count": 2,
     "metadata": {},
     "output_type": "execute_result"
    }
   ],
   "source": [
    "P = {A: 0, B: 0.4, C: 0.6, D: 1}\n",
    "P"
   ]
  },
  {
   "cell_type": "markdown",
   "id": "78f50ebf",
   "metadata": {},
   "source": [
    "콜모코로프의 공리"
   ]
  },
  {
   "cell_type": "markdown",
   "id": "3d51c72d",
   "metadata": {},
   "source": [
    "(1) 모든 확률은 0 이상이다."
   ]
  },
  {
   "cell_type": "markdown",
   "id": "b50a268b",
   "metadata": {},
   "source": [
    "(2) 전체집합에 대한 확률은 1이다."
   ]
  },
  {
   "cell_type": "markdown",
   "id": "6218bbed",
   "metadata": {},
   "source": [
    "(3) 교집합이 공집합인 사건(부분집합)의 합집합인 사건의 확률은 각 사건(부분집합)의 확률의 합이다."
   ]
  },
  {
   "cell_type": "markdown",
   "id": "3633b59f",
   "metadata": {},
   "source": [
    "# 확률의 의미"
   ]
  },
  {
   "cell_type": "markdown",
   "id": "f161a32a",
   "metadata": {},
   "source": [
    "지금까지 우리는 표본 집합의 부분 집합인 사건에 대해 확률값이라는 숫자를 할당했다. 이 확률값이라는 숫자는 도대체 어떤 의미를 가지는 걸까? 확률값이라는 숫자가 가지는 의미에 대해서는 여러 해석이 있을 수 있다. 그중 가장 대표적인 것이 빈도주의(Frequentist) 관점과 베이지안(Bayesian) 관점이다."
   ]
  },
  {
   "cell_type": "markdown",
   "id": "37286293",
   "metadata": {},
   "source": [
    "빈도주의에서는 **반복적으로 선택된 표본이 사건(부분 집합) A의 원소가 될 경향(propensity)**을 그 사건의 확률이라고 본다. 예를 들어 동전을 던져 “앞면이 나오는 사건”의 확률값이 0.5라는 것은 빈도주의 관점에서는 실제로 동전을 반복하여 던졌을 경우 동전을 던진 전체 횟수에 확률값을 곱한 숫자만큼 해당 사건이 발생한다고 본다. 예를 들어 10,000번을 던지면 10,000×0.5=5,000번 앞면이 나오는 경향을 가진다는 의미다."
   ]
  },
  {
   "cell_type": "markdown",
   "id": "1c1c5450",
   "metadata": {},
   "source": [
    "베이지안 관점에서 확률은 **”선택된 표본이 특정한 사건(부분 집합)에 속한다는 가설(hypothesis), 명제(proposition) 혹은 주장(assertion)의 신뢰도(degree of belief)”**라고 본다. 반복이라는 개념은 사용되지 않는다."
   ]
  },
  {
   "cell_type": "markdown",
   "id": "e572ad5a",
   "metadata": {},
   "source": [
    "또한 베이지안 확률론에서 사건이 일어났다(occur) 혹은 발생했다하는 말은 그 사건(부분집합)의 원소 중에 정말로 선택된 표본이 있다는 사실을 알게 되었다는 것을 말한다. 다른 말로는 해당 사건이 말하고 있는 주장이 진실임을 알게 되었다는 뜻으로 지금까지 모르고 있던 추가적인 정보가 들어왔음을 뜻한다."
   ]
  },
  {
   "cell_type": "code",
   "execution_count": null,
   "id": "c350f80f",
   "metadata": {},
   "outputs": [],
   "source": []
  }
 ],
 "metadata": {
  "kernelspec": {
   "display_name": "Python 3",
   "language": "python",
   "name": "python3"
  },
  "language_info": {
   "codemirror_mode": {
    "name": "ipython",
    "version": 3
   },
   "file_extension": ".py",
   "mimetype": "text/x-python",
   "name": "python",
   "nbconvert_exporter": "python",
   "pygments_lexer": "ipython3",
   "version": "3.6.13"
  }
 },
 "nbformat": 4,
 "nbformat_minor": 5
}
