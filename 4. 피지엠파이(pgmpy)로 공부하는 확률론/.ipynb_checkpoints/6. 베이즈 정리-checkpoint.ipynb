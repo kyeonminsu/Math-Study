{
 "cells": [
  {
   "cell_type": "markdown",
   "id": "bff6daaf",
   "metadata": {},
   "source": [
    "베이즈 정리는 데이터라는 조건이 주어졌을 때의 조건부확률을 구하는 공식이다. 베이즈 정리를 쓰면 데이터가 주어지기 전의 사전확률값이 데이터가 주어지면서 어떻게 변하는지 계산할 수 있다. 따라서 데이터가 주어지기 전에 이미 어느 정도 확률값을 예측하고 있을 때 이를 새로 수집한 데이터와 합쳐서 최종 결과에 반영할 수 있다. 데이터의 개수가 부족한 경우 아주 유용하다. 데이터를 매일 추가적으로 얻는 상황에서도 매일 전체 데이터를 대상으로 새로 분석작업을 할 필요없이 어제 분석결과에 오늘 들어온 데이터를 합쳐서 업데이트만 하면 되므로 유용하게 활용할 수 있다."
   ]
  },
  {
   "cell_type": "markdown",
   "id": "fe90c09f",
   "metadata": {},
   "source": [
    "# 베이즈 정리"
   ]
  },
  {
   "cell_type": "markdown",
   "id": "ebaabf6b",
   "metadata": {},
   "source": [
    "조건부확률을 구하는 다음 공식을 **베이즈 정리(Bayesian rule)**라고 한다."
   ]
  },
  {
   "cell_type": "markdown",
   "id": "ddb080f2",
   "metadata": {},
   "source": [
    "$$P(A|B)={P(B|A)P(A)} \\over P(B)$$"
   ]
  },
  {
   "cell_type": "markdown",
   "id": "26ed9ee1",
   "metadata": {},
   "source": [
    "여기에서 P(A)는 **사전확률(prior)**이라고 하며 사건 B가 발생하기 전에 가지고 있던 사건 A의 확률이다. 만약 사건 B가 발생하면 이 정보를 반영하여 사건 A의 확률은 P(A|B)라는 값으로 변하게 되며 이를 **사후확률(posterior)**이라고 한다."
   ]
  },
  {
   "cell_type": "markdown",
   "id": "cc4db9e1",
   "metadata": {},
   "source": [
    "사후확률값은 사전확률에 $P(B|A)\\over P(B)$라는 값을 곱하면 얻을 수 있다. 곱하는 P(B|A)는 **가능도(likelihood)**라고 하고 나누는 P(B)는 정규화 상수(normalizing constant) 혹은 **증거(evidence)**라고 한다."
   ]
  },
  {
   "cell_type": "markdown",
   "id": "1295e186",
   "metadata": {},
   "source": [
    "베이즈 정리는 사건 B가 발생함으로써(사건 B가 진실이라는 것을 알게 됨으로써, 즉 사건 B의 확률 P(B)=1이라는 것을 알게 됨으로써) 사건 A의 확률이 어떻게 변화하는지를 표현한 정리다. 따라서 베이즈 정리는 새로운 정보가 기존의 추론에 어떻게 영향을 미치는지를 나타낸다."
   ]
  },
  {
   "cell_type": "markdown",
   "id": "f0d70c9d",
   "metadata": {},
   "source": [
    "1. P(A|B) : 사후확률(posterior). 사건 B가 발생한 후 갱신된 사건 A의 확률"
   ]
  },
  {
   "cell_type": "markdown",
   "id": "07a1a1a7",
   "metadata": {},
   "source": [
    "2. P(A) : 사전확률(prior). 사건 B가 발생하기 전에 가지고 있던 사건 A의 확률"
   ]
  },
  {
   "cell_type": "markdown",
   "id": "46738271",
   "metadata": {},
   "source": [
    "3. P(B|A): 가능도(likelihood). 사건 A가 발생한 경우 사건 B의 확률"
   ]
  },
  {
   "cell_type": "markdown",
   "id": "0eaa947b",
   "metadata": {},
   "source": [
    "4. P(B) : 정규화 상수(normalizing constant) 또는 증거(evidence). 확률의 크기 조정"
   ]
  },
  {
   "cell_type": "markdown",
   "id": "e3009572",
   "metadata": {},
   "source": [
    "# $*$베이즈정리 확장1"
   ]
  },
  {
   "cell_type": "markdown",
   "id": "0bcb5d4f",
   "metadata": {},
   "source": [
    "$$P(A1|B)={P(B|A1)P(A1)}\\over P(B)$$"
   ]
  },
  {
   "cell_type": "markdown",
   "id": "93f54fcf",
   "metadata": {},
   "source": [
    "$$={P(B|A1)P(A1)}\\over ∑iP(Ai,B)$$"
   ]
  },
  {
   "cell_type": "markdown",
   "id": "70a9d92f",
   "metadata": {},
   "source": [
    "$$={P(B|A1)P(A1)}\\over∑iP(B|Ai)P(Ai)$$"
   ]
  },
  {
   "cell_type": "markdown",
   "id": "4a4c7103",
   "metadata": {},
   "source": [
    "# *베이즈정리확장2"
   ]
  },
  {
   "cell_type": "markdown",
   "id": "64fa9645",
   "metadata": {},
   "source": [
    "$$P(A|B)={P(B|A)P(A)}\\over P(B)$$"
   ]
  },
  {
   "cell_type": "markdown",
   "id": "523c4b00",
   "metadata": {},
   "source": [
    "$$={P(B|A)P(A)} \\over {P(B,A)+P(B,AC)}$$"
   ]
  },
  {
   "cell_type": "markdown",
   "id": "6d173672",
   "metadata": {},
   "source": [
    "$$={P(B|A)P(A)}\\over {P(B|A)P(A)+P(B|AC)P(AC)}$$"
   ]
  },
  {
   "cell_type": "markdown",
   "id": "7fac031f",
   "metadata": {},
   "source": [
    "$$={P(B|A)P(A)}\\over {P(B|A)P(A)+P(B|AC)(1−P(A))}$$"
   ]
  },
  {
   "cell_type": "markdown",
   "id": "d7b0161a",
   "metadata": {},
   "source": [
    "# 피지엠파이를 사용한 베이즈 정리 적용"
   ]
  },
  {
   "cell_type": "markdown",
   "id": "134776bc",
   "metadata": {},
   "source": [
    "피지엠파이 패키지는 베이즈 정리에 적용하는 BayesianModel 클래스를 제공한다. 베이즈 정리를 적용하려면 조건부확률을 구현하는 TabularCPD 클래스를 사용하여 사전확률과 가능도를 구현해야 한다. TabularCPD 클래스 객체는 다음과 같이 만든다."
   ]
  },
  {
   "cell_type": "markdown",
   "id": "1661c3e8",
   "metadata": {},
   "source": [
    "TabularCPD(variable, variable_card, value, evidence=None, evidence_card=None)"
   ]
  },
  {
   "cell_type": "markdown",
   "id": "621b6d62",
   "metadata": {},
   "source": [
    "1. variable: 확률변수의 이름 문자열"
   ]
  },
  {
   "cell_type": "markdown",
   "id": "4300bcfc",
   "metadata": {},
   "source": [
    "2. variable_card: 확률변수가 가질 수 있는 경우의 수"
   ]
  },
  {
   "cell_type": "markdown",
   "id": "019f5e47",
   "metadata": {},
   "source": [
    "3. value: 조건부확률 배열. 하나의 열(column)이 동일 조건을 뜻하므로 하나의 열의 확률 합은 1이어야 한다."
   ]
  },
  {
   "cell_type": "markdown",
   "id": "2f561d03",
   "metadata": {},
   "source": [
    "4. evidence: 조건이 되는 확률변수의 이름 문자열의 리스트"
   ]
  },
  {
   "cell_type": "markdown",
   "id": "13347bfb",
   "metadata": {},
   "source": [
    "5. evidence_card: 조건이 되는 확률변수가 가질 수 있는 경우의 수의 리스트"
   ]
  },
  {
   "cell_type": "markdown",
   "id": "94d81d12",
   "metadata": {},
   "source": [
    "TabularCPD 클래스는 원래는 조건부확률을 구현하기 위한 것이지만 evidence=None, evidence_card=None으로 인수를 주면 일반적인 확률도 구현할 수 있다."
   ]
  },
  {
   "cell_type": "code",
   "execution_count": 12,
   "id": "3c037156",
   "metadata": {},
   "outputs": [
    {
     "name": "stdout",
     "output_type": "stream",
     "text": [
      "+------+-------+\n",
      "| X(0) | 0.998 |\n",
      "+------+-------+\n",
      "| X(1) | 0.002 |\n",
      "+------+-------+\n"
     ]
    }
   ],
   "source": [
    "from pgmpy.factors.discrete import TabularCPD\n",
    "import numpy as np\n",
    "cpd_X = TabularCPD('X', 2, [[1 - 0.002], [0.002]])\n",
    "print(cpd_X)"
   ]
  },
  {
   "cell_type": "code",
   "execution_count": 13,
   "id": "79f17745",
   "metadata": {},
   "outputs": [
    {
     "name": "stdout",
     "output_type": "stream",
     "text": [
      "+------+------+------+\n",
      "| X    | X(0) | X(1) |\n",
      "+------+------+------+\n",
      "| Y(0) | 0.95 | 0.01 |\n",
      "+------+------+------+\n",
      "| Y(1) | 0.05 | 0.99 |\n",
      "+------+------+------+\n"
     ]
    }
   ],
   "source": [
    "cpd_Y_on_X = TabularCPD('Y', 2, np.array([[0.95, 0.01], [0.05, 0.99]]),\n",
    "                        evidence=['X'], evidence_card=[2])\n",
    "print(cpd_Y_on_X)"
   ]
  },
  {
   "cell_type": "code",
   "execution_count": 14,
   "id": "c73e070d",
   "metadata": {},
   "outputs": [
    {
     "data": {
      "text/plain": [
       "True"
      ]
     },
     "execution_count": 14,
     "metadata": {},
     "output_type": "execute_result"
    }
   ],
   "source": [
    "from pgmpy.models import BayesianModel\n",
    "\n",
    "model = BayesianModel([('X', 'Y')])\n",
    "model.add_cpds(cpd_X, cpd_Y_on_X)\n",
    "model.check_model()"
   ]
  },
  {
   "cell_type": "markdown",
   "id": "5e524683",
   "metadata": {},
   "source": [
    "add_cpds(): 조건부확률을 추가"
   ]
  },
  {
   "cell_type": "markdown",
   "id": "9a018422",
   "metadata": {},
   "source": [
    "check_model(): 모형이 정상적인지 확인. True면 정상적인 모형"
   ]
  },
  {
   "cell_type": "markdown",
   "id": "65ef25a7",
   "metadata": {},
   "source": [
    "query(variables, evidences)"
   ]
  },
  {
   "cell_type": "markdown",
   "id": "8323aca4",
   "metadata": {},
   "source": [
    "variables: 사후확률을 계산할 확률변수의 이름 리스트"
   ]
  },
  {
   "cell_type": "markdown",
   "id": "c3401943",
   "metadata": {},
   "source": [
    "evidences: 조건이 되는 확률변수의 값을 나타내는 딕셔너리\n",
    "\n"
   ]
  },
  {
   "cell_type": "code",
   "execution_count": 15,
   "id": "c7d6b673",
   "metadata": {},
   "outputs": [
    {
     "name": "stdout",
     "output_type": "stream",
     "text": [
      "+------+----------+\n",
      "| X    |   phi(X) |\n",
      "+======+==========+\n",
      "| X(0) |   0.9618 |\n",
      "+------+----------+\n",
      "| X(1) |   0.0382 |\n",
      "+------+----------+\n"
     ]
    }
   ],
   "source": [
    "from pgmpy.inference import VariableElimination\n",
    "\n",
    "inference = VariableElimination(model)\n",
    "posterior = inference.query(['X'], evidence={'Y': 1}, joint=False, show_progress=False)\n",
    "print(posterior['X'])"
   ]
  },
  {
   "cell_type": "code",
   "execution_count": null,
   "id": "395d5f97",
   "metadata": {},
   "outputs": [],
   "source": []
  }
 ],
 "metadata": {
  "kernelspec": {
   "display_name": "Python 3",
   "language": "python",
   "name": "python3"
  },
  "language_info": {
   "codemirror_mode": {
    "name": "ipython",
    "version": 3
   },
   "file_extension": ".py",
   "mimetype": "text/x-python",
   "name": "python",
   "nbconvert_exporter": "python",
   "pygments_lexer": "ipython3",
   "version": "3.6.13"
  }
 },
 "nbformat": 4,
 "nbformat_minor": 5
}
