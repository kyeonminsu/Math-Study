{
 "cells": [
  {
   "cell_type": "markdown",
   "id": "f1c61a9b",
   "metadata": {},
   "source": [
    "# 확률의 성질"
   ]
  },
  {
   "cell_type": "markdown",
   "id": "2bf049bf",
   "metadata": {},
   "source": [
    "확률은 여러 성질을 가진다. 이 중에서 앞으로 많이 사용될 몇 가지 성질을 살펴보자. 이번에 다룰 성질들은 확률의 정의 자체가 아니라 정의로부터 유도된 것들이라는 것에 주의해야 한다. 이 장에서는 다음과 같은 확률 사건의 예를 들어 설명을 한다."
   ]
  },
  {
   "cell_type": "markdown",
   "id": "3c1d33f7",
   "metadata": {},
   "source": [
    "# 성질 1. 공집합의 확률"
   ]
  },
  {
   "cell_type": "markdown",
   "id": "6319b2c2",
   "metadata": {},
   "source": [
    "공집합인 사건의 확률은 0이다."
   ]
  },
  {
   "cell_type": "markdown",
   "id": "a95647aa",
   "metadata": {},
   "source": [
    "P(∅)=0"
   ]
  },
  {
   "cell_type": "markdown",
   "id": "253f3d69",
   "metadata": {},
   "source": [
    "확률의 정의로부터 사건 A와 사건 B가 공통원소가 없다면 P(A∪B)=P(A)+P(B)이 된다. B=∅인 경우 A와 B의 공통원소는 없으며 A∪∅=A라는 사실을 이용하면"
   ]
  },
  {
   "cell_type": "markdown",
   "id": "50c5c0c4",
   "metadata": {},
   "source": [
    "P(A∪∅)=P(A)=P(A)+P(∅)"
   ]
  },
  {
   "cell_type": "markdown",
   "id": "d6c78081",
   "metadata": {},
   "source": [
    "∴P(∅)=0"
   ]
  },
  {
   "cell_type": "markdown",
   "id": "9b7301c3",
   "metadata": {},
   "source": [
    "# 성질 2. 여집합의 확률"
   ]
  },
  {
   "cell_type": "markdown",
   "id": "dccf5192",
   "metadata": {},
   "source": [
    "어떤 사건의 여집합인 사건의 확률은 (1 - 원래 사건의 확률)과 같다."
   ]
  },
  {
   "cell_type": "markdown",
   "id": "a75b2131",
   "metadata": {},
   "source": [
    "$P(A^C)=1−P(A)$"
   ]
  },
  {
   "cell_type": "markdown",
   "id": "c754a7a3",
   "metadata": {},
   "source": [
    "어떤 사건의 여집합이란 그 사건의 표본이 아닌 표본의 집합을 말하며 사건 기호에 C라는 윗첨자를 붙여서 표시한다. 위의 예에서는 $A^C$는 남자라는 부분집합 A에 대한 여집합이므로 여자 집합이 된다."
   ]
  },
  {
   "cell_type": "markdown",
   "id": "16db1e70",
   "metadata": {},
   "source": [
    "확률의 정의로부터 사건 A와 사건 B가 공통원소가 없다면 P(A∪B)=P(A)+P(B)이 된다. $B=A^C$인 경우 A와 B의 공통원소는 없다."
   ]
  },
  {
   "cell_type": "markdown",
   "id": "7647228f",
   "metadata": {},
   "source": [
    "$P(A∪A^C)=P(Ω)=1=P(A)+P(A^C)$"
   ]
  },
  {
   "cell_type": "markdown",
   "id": "9bf15917",
   "metadata": {},
   "source": [
    "$P(A^C)=1−P(A)$"
   ]
  },
  {
   "cell_type": "markdown",
   "id": "b1931fc2",
   "metadata": {},
   "source": [
    "위 성질과 $P(A^C)$가 0보다 크거나 같아야 한다는 콜모고로프의 공리 1을 결합하면 확률값은 0과 1 사잇값을 가져야 한다."
   ]
  },
  {
   "cell_type": "markdown",
   "id": "ef3ecf6a",
   "metadata": {},
   "source": [
    "$P(A^C)=1−P(A)≥0$"
   ]
  },
  {
   "cell_type": "markdown",
   "id": "94343b9d",
   "metadata": {},
   "source": [
    "$0≤P(A)≤1$"
   ]
  },
  {
   "cell_type": "markdown",
   "id": "48054a69",
   "metadata": {},
   "source": [
    "# 성질 3. 포함-배제 원리"
   ]
  },
  {
   "cell_type": "markdown",
   "id": "51097e9b",
   "metadata": {},
   "source": [
    "두 사건의 합집합의 확률은 각 사건의 확률의 합에서 두 사건의 교집합의 확률을 뺀 것과 같다."
   ]
  },
  {
   "cell_type": "markdown",
   "id": "6d27c512",
   "metadata": {},
   "source": [
    "P(A∪B)=P(A)+P(B)−P(A∩B)"
   ]
  },
  {
   "cell_type": "markdown",
   "id": "73e90351",
   "metadata": {},
   "source": [
    "이를 포함-배제 원리(Inclusion-exclusion principle) 혹은 덧셈 규칙(sum rule, addition law)이라 한다."
   ]
  },
  {
   "cell_type": "markdown",
   "id": "c6b20ef1",
   "metadata": {},
   "source": [
    "# 성질 4. 전체 확률의 법칙"
   ]
  },
  {
   "cell_type": "markdown",
   "id": "5d0360c3",
   "metadata": {},
   "source": [
    "복수의 사건 Ci가 다음을 만족하는 사건들이라고 가정한다."
   ]
  },
  {
   "cell_type": "markdown",
   "id": "4183f19d",
   "metadata": {},
   "source": [
    "서로 교집합이 없다. 이를 서로 배타적(mutually exclusive)이라고도 한다."
   ]
  },
  {
   "cell_type": "markdown",
   "id": "855d7bfc",
   "metadata": {},
   "source": [
    "$Ci∩Cj=∅(i≠j)$"
   ]
  },
  {
   "cell_type": "markdown",
   "id": "18cfadf7",
   "metadata": {},
   "source": [
    "모든 집합의 합집합이 전체집합(표본공간)이다. 이 경우 완전한(complete) 부분집합들이라고 한다."
   ]
  },
  {
   "cell_type": "markdown",
   "id": "d632fd31",
   "metadata": {},
   "source": [
    "$C1∪C2∪⋯=Ω$"
   ]
  },
  {
   "cell_type": "markdown",
   "id": "c9406ec5",
   "metadata": {},
   "source": [
    "사건 A의 확률은 사건 A와 사건 Ci가 동시에 발생할 사건들의 확률의 합과 같다."
   ]
  },
  {
   "cell_type": "markdown",
   "id": "1774cd71",
   "metadata": {},
   "source": [
    "$P(A)=∑iP(A∩Ci)$"
   ]
  },
  {
   "cell_type": "code",
   "execution_count": null,
   "id": "27b0c23b",
   "metadata": {},
   "outputs": [],
   "source": []
  }
 ],
 "metadata": {
  "kernelspec": {
   "display_name": "Python 3",
   "language": "python",
   "name": "python3"
  },
  "language_info": {
   "codemirror_mode": {
    "name": "ipython",
    "version": 3
   },
   "file_extension": ".py",
   "mimetype": "text/x-python",
   "name": "python",
   "nbconvert_exporter": "python",
   "pygments_lexer": "ipython3",
   "version": "3.6.13"
  }
 },
 "nbformat": 4,
 "nbformat_minor": 5
}
