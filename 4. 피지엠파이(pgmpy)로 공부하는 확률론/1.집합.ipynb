{
 "cells": [
  {
   "cell_type": "markdown",
   "id": "2733fd9f",
   "metadata": {},
   "source": [
    "구별 가능한 객체의 모임을 **집합(set)**이라고 하고 집합에 포함된 구별 가능한 객체를 그 집합의 **원소(element)**라고 한다. 집합은 보통 알파벳 대문자를 사용하여 표시하고 원소는 알파벳 소문자로 표시한다."
   ]
  },
  {
   "cell_type": "markdown",
   "id": "5356e938",
   "metadata": {},
   "source": [
    "원소 x와 그 원소를 포함하는 집합 A의 관계는 다음처럼 표시한다."
   ]
  },
  {
   "cell_type": "markdown",
   "id": "fd77d455",
   "metadata": {},
   "source": [
    "$x \\in A$"
   ]
  },
  {
   "cell_type": "markdown",
   "id": "a6301ca2",
   "metadata": {},
   "source": [
    "만약 원소 x가 집합 A에 포함되지 않는다면 다음처럼 표시한다."
   ]
  },
  {
   "cell_type": "markdown",
   "id": "ea19e663",
   "metadata": {},
   "source": [
    "x∉A"
   ]
  },
  {
   "cell_type": "markdown",
   "id": "cb61fb0d",
   "metadata": {},
   "source": [
    "따라서 만약 A={1,2,3}이면, 1∈A,4∉A 이다."
   ]
  },
  {
   "cell_type": "markdown",
   "id": "da6ffcb9",
   "metadata": {},
   "source": [
    "집합을 이루는 객체가 반드시 숫자일 필요는 없다. 다음처럼 어떠한 원소도 포함할 수 있다. B={H,T}  C={♠,♡,♢,♣}"
   ]
  },
  {
   "cell_type": "markdown",
   "id": "65d4086a",
   "metadata": {},
   "source": [
    "파이썬에서는 set과 frozenset 자료형으로 집합을 나타낸다. set은 내용을 변경할 수 있는 뮤터블(mutable)자료형이고 frozenset은 내용을 변경할 수 없는 임뮤터블(immutable)자료형이다. (리스트 자료형과 튜플 자료형의 관계와 같다.) 뮤터블 자료형은 딕셔너리(dictionary) 자료형의 키(key)나 혹은 set 자료형의 원소가 될 수 없다. 임뮤터블 자료형만 딕셔너리 자료형의 키나 set 자료형의 원소가 될 수 있다."
   ]
  },
  {
   "cell_type": "code",
   "execution_count": 5,
   "id": "c91981c0",
   "metadata": {},
   "outputs": [
    {
     "data": {
      "text/plain": [
       "{1, 2, 3}"
      ]
     },
     "execution_count": 5,
     "metadata": {},
     "output_type": "execute_result"
    }
   ],
   "source": [
    "A = set([1, 2, 3, 3, 2])  # 중복된 자료는 없어진다.\n",
    "A"
   ]
  },
  {
   "cell_type": "code",
   "execution_count": 6,
   "id": "e288d25d",
   "metadata": {},
   "outputs": [
    {
     "data": {
      "text/plain": [
       "frozenset({'H', 'T'})"
      ]
     },
     "execution_count": 6,
     "metadata": {},
     "output_type": "execute_result"
    }
   ],
   "source": [
    "B = frozenset(['H', 'T'])\n",
    "B"
   ]
  },
  {
   "cell_type": "code",
   "execution_count": 7,
   "id": "056e66b1",
   "metadata": {},
   "outputs": [
    {
     "data": {
      "text/plain": [
       "{'♠', '♡', '♢', '♣'}"
      ]
     },
     "execution_count": 7,
     "metadata": {},
     "output_type": "execute_result"
    }
   ],
   "source": [
    "C = {\"\\u2660\", \"\\u2661\", \"\\u2662\", \"\\u2663\"}\n",
    "C"
   ]
  },
  {
   "cell_type": "markdown",
   "id": "6b2ec977",
   "metadata": {},
   "source": [
    "# 집합의 크기"
   ]
  },
  {
   "cell_type": "markdown",
   "id": "b42600db",
   "metadata": {},
   "source": [
    "집합의 **크기(cardinality)**는 집합이 가지는 원소의 갯수를 말한다. |A| 기호나 card 기호를 사용하여 나타낸다. 만약 A={1,2,3}이면,"
   ]
  },
  {
   "cell_type": "markdown",
   "id": "1abc1b15",
   "metadata": {},
   "source": [
    "|A|=card(A)=3"
   ]
  },
  {
   "cell_type": "code",
   "execution_count": 8,
   "id": "007ff8b2",
   "metadata": {},
   "outputs": [
    {
     "data": {
      "text/plain": [
       "(3, 2, 4)"
      ]
     },
     "execution_count": 8,
     "metadata": {},
     "output_type": "execute_result"
    }
   ],
   "source": [
    "len(A), len(B), len(C)"
   ]
  },
  {
   "cell_type": "markdown",
   "id": "ef29f09c",
   "metadata": {},
   "source": [
    "두 실수 사이에는 항상 다른 실수가 존재하므로 다음과 같은 실수 구간 집합은 무한개의 원소를 가진 집합이다. 예를 들어 다음 집합은 0보다 크고 1보다 같거나 작은 모든 실수로 이루어진 집합이며 원소의 갯수는 무한히 많다."
   ]
  },
  {
   "cell_type": "markdown",
   "id": "0e36a774",
   "metadata": {},
   "source": [
    "D={x:0<x≤1}(6.1.7)"
   ]
  },
  {
   "cell_type": "markdown",
   "id": "6f9b2f78",
   "metadata": {},
   "source": [
    "# 합집합 과 교집합"
   ]
  },
  {
   "cell_type": "markdown",
   "id": "892e5ac1",
   "metadata": {},
   "source": [
    "두 집합의 **합집합(union)**은 각 집합의 원소를 모두 포함하는 집합을 말하고 ∪ 기호를 사용하여 표시한다."
   ]
  },
  {
   "cell_type": "markdown",
   "id": "d686d567",
   "metadata": {},
   "source": [
    "A∪B"
   ]
  },
  {
   "cell_type": "markdown",
   "id": "db1684cb",
   "metadata": {},
   "source": [
    "두 집합의 **교집합(intersection)**은 두 사건 모두에 속하는 원소로만 이루어진 집합을 말하고 ∩ 기호를 사용하여 표시한다."
   ]
  },
  {
   "cell_type": "markdown",
   "id": "144641e4",
   "metadata": {},
   "source": [
    "A∩B"
   ]
  },
  {
   "cell_type": "code",
   "execution_count": 9,
   "id": "3984c170",
   "metadata": {},
   "outputs": [],
   "source": [
    "A1 = set([1, 2, 3, 4])\n",
    "A2 = set([2, 4, 6])\n",
    "A3 = set([1, 2, 3])\n",
    "A4 = set([2, 3, 4, 5, 6])"
   ]
  },
  {
   "cell_type": "code",
   "execution_count": 10,
   "id": "ad52cb64",
   "metadata": {},
   "outputs": [
    {
     "data": {
      "text/plain": [
       "{1, 2, 3, 4, 6}"
      ]
     },
     "execution_count": 10,
     "metadata": {},
     "output_type": "execute_result"
    }
   ],
   "source": [
    "A1.union(A2)"
   ]
  },
  {
   "cell_type": "code",
   "execution_count": 11,
   "id": "2bb18bb7",
   "metadata": {},
   "outputs": [
    {
     "data": {
      "text/plain": [
       "{1, 2, 3, 4, 6}"
      ]
     },
     "execution_count": 11,
     "metadata": {},
     "output_type": "execute_result"
    }
   ],
   "source": [
    "A2 | A1"
   ]
  },
  {
   "cell_type": "code",
   "execution_count": 12,
   "id": "9cda8f3e",
   "metadata": {},
   "outputs": [
    {
     "data": {
      "text/plain": [
       "{2, 3}"
      ]
     },
     "execution_count": 12,
     "metadata": {},
     "output_type": "execute_result"
    }
   ],
   "source": [
    "A3.intersection(A4)"
   ]
  },
  {
   "cell_type": "code",
   "execution_count": 13,
   "id": "7fd81234",
   "metadata": {},
   "outputs": [
    {
     "data": {
      "text/plain": [
       "{2, 3}"
      ]
     },
     "execution_count": 13,
     "metadata": {},
     "output_type": "execute_result"
    }
   ],
   "source": [
    "A4 & A3"
   ]
  },
  {
   "cell_type": "markdown",
   "id": "6b8e8097",
   "metadata": {},
   "source": [
    "# 전체집합, 부분집합, 여집합"
   ]
  },
  {
   "cell_type": "markdown",
   "id": "b1620456",
   "metadata": {},
   "source": [
    "어떤 집합의 원소 중 일부만을 포함하는 집합을 **부분집합(subset)**이라고 하고 원래의 집합을 전체집합이라고 한다. 집합 A가 집합 Ω의 의 부분집합이면 다음처럼 표시한다."
   ]
  },
  {
   "cell_type": "markdown",
   "id": "2cc11c77",
   "metadata": {},
   "source": [
    "A⊂Ω"
   ]
  },
  {
   "cell_type": "markdown",
   "id": "05fc8f35",
   "metadata": {},
   "source": [
    "모든 집합은 자기 자신의 부분집합이다."
   ]
  },
  {
   "cell_type": "markdown",
   "id": "905d0444",
   "metadata": {},
   "source": [
    "A⊂A, for all A"
   ]
  },
  {
   "cell_type": "markdown",
   "id": "71b0d763",
   "metadata": {},
   "source": [
    "원소의 크기가 더 작은 부분집합을 **진부분집합(proper subset)**이라고 한다."
   ]
  },
  {
   "cell_type": "markdown",
   "id": "a9849886",
   "metadata": {},
   "source": [
    "파이썬에서는 두 집합이 부분집합인지를 알아보는 issubset 메서드가 있다. 객체가 인수의 부분집합이면 True를 반환한다. 등호를 포함하는 부등식 연산자로도 같은 결과를 구할 수 있다. 더 작은 쪽이 부분집합이다. 등호가 없는 부등식 연산자는 진부분집합 관계를 구한다."
   ]
  },
  {
   "cell_type": "code",
   "execution_count": 16,
   "id": "1c5b9c8c",
   "metadata": {},
   "outputs": [
    {
     "data": {
      "text/plain": [
       "True"
      ]
     },
     "execution_count": 16,
     "metadata": {},
     "output_type": "execute_result"
    }
   ],
   "source": [
    "A3.issubset(A1)"
   ]
  },
  {
   "cell_type": "code",
   "execution_count": 17,
   "id": "71ce8cd4",
   "metadata": {},
   "outputs": [
    {
     "data": {
      "text/plain": [
       "True"
      ]
     },
     "execution_count": 17,
     "metadata": {},
     "output_type": "execute_result"
    }
   ],
   "source": [
    "A3 <= A1"
   ]
  },
  {
   "cell_type": "code",
   "execution_count": 18,
   "id": "729604a4",
   "metadata": {},
   "outputs": [
    {
     "data": {
      "text/plain": [
       "False"
      ]
     },
     "execution_count": 18,
     "metadata": {},
     "output_type": "execute_result"
    }
   ],
   "source": [
    "A3.issubset(A2)"
   ]
  },
  {
   "cell_type": "code",
   "execution_count": 27,
   "id": "4ca27e88",
   "metadata": {},
   "outputs": [
    {
     "data": {
      "text/plain": [
       "False"
      ]
     },
     "execution_count": 27,
     "metadata": {},
     "output_type": "execute_result"
    }
   ],
   "source": [
    "A3 <= A2"
   ]
  },
  {
   "cell_type": "code",
   "execution_count": 20,
   "id": "fbb14285",
   "metadata": {},
   "outputs": [
    {
     "data": {
      "text/plain": [
       "True"
      ]
     },
     "execution_count": 20,
     "metadata": {},
     "output_type": "execute_result"
    }
   ],
   "source": [
    "A3 <= A3  # 모든 집합은 자기 자신의 부분집합이다."
   ]
  },
  {
   "cell_type": "code",
   "execution_count": 21,
   "id": "9e806c3a",
   "metadata": {},
   "outputs": [
    {
     "data": {
      "text/plain": [
       "False"
      ]
     },
     "execution_count": 21,
     "metadata": {},
     "output_type": "execute_result"
    }
   ],
   "source": [
    "A3 < A3  # 모든 집합은 자기 자신의 진부분집합이 아니다."
   ]
  },
  {
   "cell_type": "markdown",
   "id": "5b012dd2",
   "metadata": {},
   "source": [
    "# 차집합과 여집합"
   ]
  },
  {
   "cell_type": "markdown",
   "id": "0fe3ec3c",
   "metadata": {},
   "source": [
    "어떤 집합 A에 속하면서 다른 집합 B에는 속하지 않는 원소로 이루어진 A의 부분집합을 A에서 B를 뺀 **차집합(difference)**이라고 하며\n",
    "\n",
    "A−B\n",
    "로 나타낸다."
   ]
  },
  {
   "cell_type": "markdown",
   "id": "ed185681",
   "metadata": {},
   "source": [
    "전체집합 Ω 중에서 부분집합 A에 속하지 않은 원소로만 이루어진 부분집합을 여집합(complement)이라고 하고 윗첨자 C를 사용하여\n",
    "\n",
    "$A^c$   로 표시한다. 여집합 AC은 전체집합에서 집합 $A^c$ 를 뺀 차집합과 같다"
   ]
  },
  {
   "cell_type": "markdown",
   "id": "b8c13281",
   "metadata": {},
   "source": [
    "$A^c$ =Ω−A "
   ]
  },
  {
   "cell_type": "markdown",
   "id": "39f573c4",
   "metadata": {},
   "source": [
    "파이썬에서는 difference 메서드 혹은 - 연산자로 차집합을 구한다."
   ]
  },
  {
   "cell_type": "code",
   "execution_count": 25,
   "id": "739baa75",
   "metadata": {},
   "outputs": [
    {
     "data": {
      "text/plain": [
       "{1, 3}"
      ]
     },
     "execution_count": 25,
     "metadata": {},
     "output_type": "execute_result"
    }
   ],
   "source": [
    "A1.difference(A2)"
   ]
  },
  {
   "cell_type": "code",
   "execution_count": 26,
   "id": "1c8ddfb1",
   "metadata": {},
   "outputs": [
    {
     "data": {
      "text/plain": [
       "{1, 3}"
      ]
     },
     "execution_count": 26,
     "metadata": {},
     "output_type": "execute_result"
    }
   ],
   "source": [
    "A1 - A2"
   ]
  },
  {
   "cell_type": "markdown",
   "id": "32ab37c2",
   "metadata": {},
   "source": [
    "# 공집합"
   ]
  },
  {
   "cell_type": "markdown",
   "id": "45f40c14",
   "metadata": {},
   "source": [
    "아무런 원소도 포함하지 않는 집합을 **공집합(null set)**이라고 하며 ∅ 기호로 나타낸다."
   ]
  },
  {
   "cell_type": "markdown",
   "id": "c5d3ccf4",
   "metadata": {},
   "source": [
    "공집합은 모든 집합의 부분집합이 된다."
   ]
  },
  {
   "cell_type": "markdown",
   "id": "cf146fbd",
   "metadata": {},
   "source": [
    "∅⊂A, for all A"
   ]
  },
  {
   "cell_type": "markdown",
   "id": "523ca666",
   "metadata": {},
   "source": [
    "또한 임의의 집합과 공집합의 교집합은 공집합이, 임의의 집합과 공집합의 합집합은 그 집합 자신이 된다."
   ]
  },
  {
   "cell_type": "markdown",
   "id": "40ba2255",
   "metadata": {},
   "source": [
    "A∩∅=∅"
   ]
  },
  {
   "cell_type": "markdown",
   "id": "9d025976",
   "metadata": {},
   "source": [
    "A∪∅=A"
   ]
  },
  {
   "cell_type": "markdown",
   "id": "0fa6628f",
   "metadata": {},
   "source": [
    "A∩AC=∅"
   ]
  },
  {
   "cell_type": "code",
   "execution_count": 28,
   "id": "da43998e",
   "metadata": {},
   "outputs": [
    {
     "data": {
      "text/plain": [
       "set()"
      ]
     },
     "execution_count": 28,
     "metadata": {},
     "output_type": "execute_result"
    }
   ],
   "source": [
    "empty_set = set([])\n",
    "empty_set"
   ]
  },
  {
   "cell_type": "code",
   "execution_count": 29,
   "id": "311b61b3",
   "metadata": {},
   "outputs": [
    {
     "data": {
      "text/plain": [
       "True"
      ]
     },
     "execution_count": 29,
     "metadata": {},
     "output_type": "execute_result"
    }
   ],
   "source": [
    "empty_set < A1"
   ]
  },
  {
   "cell_type": "code",
   "execution_count": 30,
   "id": "8bf210ec",
   "metadata": {},
   "outputs": [
    {
     "data": {
      "text/plain": [
       "set()"
      ]
     },
     "execution_count": 30,
     "metadata": {},
     "output_type": "execute_result"
    }
   ],
   "source": [
    "empty_set.intersection(A1)"
   ]
  },
  {
   "cell_type": "code",
   "execution_count": 31,
   "id": "e862f79c",
   "metadata": {},
   "outputs": [
    {
     "data": {
      "text/plain": [
       "{1, 2, 3, 4}"
      ]
     },
     "execution_count": 31,
     "metadata": {},
     "output_type": "execute_result"
    }
   ],
   "source": [
    "empty_set.union(A1)"
   ]
  },
  {
   "cell_type": "markdown",
   "id": "2ef361aa",
   "metadata": {},
   "source": [
    "# 부분집합의 수"
   ]
  },
  {
   "cell_type": "markdown",
   "id": "53aec646",
   "metadata": {},
   "source": [
    "집합 A={1,2}는 다음과 같은 4개의 부분집합을 가진다. 공집합과 자기 자신인 집합도 부분집합이라는 점에 주의한다."
   ]
  },
  {
   "cell_type": "markdown",
   "id": "2c575321",
   "metadata": {},
   "source": [
    "A1=∅"
   ]
  },
  {
   "cell_type": "markdown",
   "id": "03b17aaa",
   "metadata": {},
   "source": [
    "A2={1}"
   ]
  },
  {
   "cell_type": "markdown",
   "id": "a20aaff5",
   "metadata": {},
   "source": [
    "A3={2}"
   ]
  },
  {
   "cell_type": "markdown",
   "id": "cba76d9f",
   "metadata": {},
   "source": [
    "A4={1,2}"
   ]
  },
  {
   "cell_type": "markdown",
   "id": "0f8f216a",
   "metadata": {},
   "source": [
    "원소의 갯수가 N개인 집합은 $2^N$개의 부분집합을 가진다."
   ]
  },
  {
   "cell_type": "markdown",
   "id": "83588bf4",
   "metadata": {},
   "source": [
    "# 합집합과 교집합의 분배 법칙"
   ]
  },
  {
   "cell_type": "markdown",
   "id": "14c5fc4d",
   "metadata": {},
   "source": [
    "곱셈과 덧셈의 분배 법칙은 다음과 같다."
   ]
  },
  {
   "cell_type": "markdown",
   "id": "52d97aae",
   "metadata": {},
   "source": [
    "a×(b+c)=a×b+a×c"
   ]
  },
  {
   "cell_type": "markdown",
   "id": "cb8be924",
   "metadata": {},
   "source": [
    "곱셈과 덧셈의 분배 법칙처럼 교집합과 합집합도 괄호를 풀어내는 분배법칙이 성립한다."
   ]
  },
  {
   "cell_type": "markdown",
   "id": "9a9f4581",
   "metadata": {},
   "source": [
    "A∪(B∩C)=(A∪B)∩(A∪C)"
   ]
  },
  {
   "cell_type": "markdown",
   "id": "42c8e35c",
   "metadata": {},
   "source": [
    "A∩(B∪C)=(A∩B)∪(A∩C)"
   ]
  },
  {
   "cell_type": "code",
   "execution_count": null,
   "id": "aca42200",
   "metadata": {},
   "outputs": [],
   "source": []
  }
 ],
 "metadata": {
  "kernelspec": {
   "display_name": "Python 3",
   "language": "python",
   "name": "python3"
  },
  "language_info": {
   "codemirror_mode": {
    "name": "ipython",
    "version": 3
   },
   "file_extension": ".py",
   "mimetype": "text/x-python",
   "name": "python",
   "nbconvert_exporter": "python",
   "pygments_lexer": "ipython3",
   "version": "3.6.13"
  }
 },
 "nbformat": 4,
 "nbformat_minor": 5
}
