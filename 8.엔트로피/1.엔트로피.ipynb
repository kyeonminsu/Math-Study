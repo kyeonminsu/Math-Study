{
 "cells": [
  {
   "cell_type": "code",
   "execution_count": 1,
   "id": "93c27bb1",
   "metadata": {},
   "outputs": [],
   "source": [
    "import scipy as sp\n",
    "import scipy.stats\n",
    "import numpy as np\n",
    "import seaborn as sns\n",
    "import matplotlib.pyplot as plt\n",
    "import pandas as pd\n",
    "import matplotlib as mpl\n",
    "plt.rc(\"font\", size=10, family='Malgun Gothic')\n",
    "plt.rc('axes', unicode_minus=False)"
   ]
  },
  {
   "cell_type": "markdown",
   "id": "7b6af9e3",
   "metadata": {},
   "source": [
    "Y=0 또는 Y=1 인 두 가지 값을 가지는 확률변수의 확률분포가 다음과 같이 세 종류가 있다고 하자."
   ]
  },
  {
   "cell_type": "markdown",
   "id": "da41a896",
   "metadata": {},
   "source": [
    "$\\bullet$확률분포 $Y_1$ : P(Y=0)=0.5, P(Y=1)=0.5"
   ]
  },
  {
   "cell_type": "markdown",
   "id": "c678c55d",
   "metadata": {},
   "source": [
    "$\\bullet$확률분포 $Y_2$ : P(Y=0)=0.8, P(Y=1)=0.2"
   ]
  },
  {
   "cell_type": "markdown",
   "id": "71aca6a5",
   "metadata": {},
   "source": [
    "$\\bullet$확률분포 $Y_3$ : P(Y=0)=1.0, P(Y=1)=0.0"
   ]
  },
  {
   "cell_type": "code",
   "execution_count": 2,
   "id": "bed160d4",
   "metadata": {},
   "outputs": [
    {
     "data": {
      "image/png": "[encoded data removed]",
      "text/plain": [
       "<Figure size 648x216 with 3 Axes>"
      ]
     },
     "metadata": {
      "needs_background": "light"
     },
     "output_type": "display_data"
    }
   ],
   "source": [
    "plt.figure(figsize=(9, 3))\n",
    "plt.subplot(131)\n",
    "plt.bar([0, 1], [0.5, 0.5])\n",
    "plt.xticks([0, 1], [\"Y=0\", \"Y=1\"])\n",
    "plt.ylim(0, 1.1)\n",
    "plt.title(\"$Y_1$\")\n",
    "plt.subplot(132)\n",
    "plt.bar([0, 1], [0.8, 0.2])\n",
    "plt.xticks([0, 1], [\"Y=0\", \"Y=1\"])\n",
    "plt.ylim(0, 1.1)\n",
    "plt.title(\"$Y_2$\")\n",
    "plt.subplot(133)\n",
    "plt.bar([0, 1], [1.0, 0.0])\n",
    "plt.xticks([0, 1], [\"Y=0\", \"Y=1\"])\n",
    "plt.ylim(0, 1.1)\n",
    "plt.title(\"$Y_3$\")\n",
    "plt.tight_layout()\n",
    "plt.show()"
   ]
  },
  {
   "cell_type": "markdown",
   "id": "495420bc",
   "metadata": {},
   "source": [
    "$\\bullet$확률분포 $Y_1$은 y값에 대해 아무것도 모르는 상태"
   ]
  },
  {
   "cell_type": "markdown",
   "id": "7af3ba17",
   "metadata": {},
   "source": [
    "$\\bullet$확률분포 $Y_2$은 y값이 0이라고 믿지만 아닐 가능성도 있다는 것을 아는 상태"
   ]
  },
  {
   "cell_type": "markdown",
   "id": "ef4b4c08",
   "metadata": {},
   "source": [
    "$\\bullet$확률분포 $Y_3$은 y값이 0이라고 100% 확신하는 상태"
   ]
  },
  {
   "cell_type": "markdown",
   "id": "dbb896c8",
   "metadata": {},
   "source": [
    "확률분포가 가지는 이러한 차이를 하나의 숫자로 나타낸 것이 바로 엔트로피다."
   ]
  },
  {
   "cell_type": "markdown",
   "id": "235e7dea",
   "metadata": {},
   "source": [
    "# 엔트로피의 정의"
   ]
  },
  {
   "cell_type": "markdown",
   "id": "0dd2c03b",
   "metadata": {},
   "source": [
    "**엔트로피(entropy)**는 확률분포가 가지는 정보의 확신도 혹은 정보량을 수치로 표현한 것이다. 확률분포에서 특정한 값이 나올 확률이 높아지고 나머지 값의 확률은 낮아진다면 엔트로피가 작아진다. 빈대로 여러가지 값이 나올 확률이 대부분 비슷한 경우에는 엔트로피가 높아진다. 엔트로피는 확률분포의 모양이 어떤지를 나타내는 특성값 중 하나로 볼 수도 있다. 확률 또는 확률밀도가 특정값에 몰려있으면 엔트로피가 작다고 하고 반대로 여러가지 값에 골고루 퍼져 있다면 엔트로피가 크다고 한다."
   ]
  },
  {
   "cell_type": "markdown",
   "id": "613d3b67",
   "metadata": {},
   "source": [
    "확률분포의 엔트로피는 물리학의 엔트로피 용어를 빌려온 것이다. 물리학에서는 물질의 상태가 분산되는 정도를 엔트로피로 정의한다. 물체의 상태가 여러가지로 고루 분산되어 있으면 엔트로피가 높고 특정한 하나의 상태로 몰려있으면 엔트로피가 낮다.\n",
    "\n",
    "수학적으로 엔트로피는 확률분포함수를 입력으로 받아 숫자를 출력하는 범함수(functional)로 정의한다. H[]기호로 표기한다."
   ]
  },
  {
   "cell_type": "markdown",
   "id": "07158123",
   "metadata": {},
   "source": [
    "확률변수 Y가 카테고리분포와 같은 이산확률변수이면 다음처럼 정의한다."
   ]
  },
  {
   "cell_type": "markdown",
   "id": "7ac3dc8c",
   "metadata": {},
   "source": [
    "$$H[Y] = -\\displaystyle\\sum_{k=1}^k p(y_k)log_2p(y_k)$$"
   ]
  },
  {
   "cell_type": "markdown",
   "id": "885de372",
   "metadata": {},
   "source": [
    "이 식에서 K는 X가 가질 수 있는 클래스의 수이고 p(y)는 확률질량함수다. 확률의 로그값이 항상 음수이므로 음수 기호를 붙여서 양수로 만들었다."
   ]
  },
  {
   "cell_type": "markdown",
   "id": "156336ef",
   "metadata": {},
   "source": [
    "확률변수 Y가 정규분포와 같은 연속확률변수이면 다음처럼 정의한다."
   ]
  },
  {
   "cell_type": "markdown",
   "id": "f339d87f",
   "metadata": {},
   "source": [
    "$$H[Y] = -\\int_{−∞}^\\infty \\mathrm{p(y_k)}log_2p(y_k)$$"
   ]
  },
  {
   "cell_type": "markdown",
   "id": "1e561077",
   "metadata": {},
   "source": [
    "이 식에서 p(y)는 확률밀도함수다."
   ]
  },
  {
   "cell_type": "markdown",
   "id": "b7423638",
   "metadata": {},
   "source": [
    "로그의 밑(base)이 2로 정의된 것은 정보통신과 관련을 가지는 역사적인 이유 때문이다."
   ]
  },
  {
   "cell_type": "markdown",
   "id": "e0a7b2ed",
   "metadata": {},
   "source": [
    "엔트로피 계산에서 p(y)=0인 경우에는 로그값이 정의되지 않으므로 다음과 같은 극한값을 사용한다.\n",
    "\n"
   ]
  },
  {
   "cell_type": "markdown",
   "id": "e3fd4813",
   "metadata": {},
   "source": [
    "$$\\lim_{p \\to \\infty} plog_2p = 0$$"
   ]
  },
  {
   "cell_type": "markdown",
   "id": "31cfb40a",
   "metadata": {},
   "source": [
    "이 값은 로피탈의 정리(l’Hôpital’s rule)에서 구할 수 있다."
   ]
  },
  {
   "cell_type": "markdown",
   "id": "b4746744",
   "metadata": {},
   "source": [
    "위에서 예를 든 Y1, Y2, Y3 3 개의 이산확률분포에 대해 엔트로피를 구하면 다음과 같다."
   ]
  },
  {
   "cell_type": "markdown",
   "id": "5a2217b0",
   "metadata": {},
   "source": [
    "$$H[Y1]=-{1 \\over 2}log_2{1 \\over 2}−{1 \\over 2}log_2{1 \\over 2}=1$$"
   ]
  },
  {
   "cell_type": "markdown",
   "id": "24a35f82",
   "metadata": {},
   "source": [
    "$$H[Y2]=−{8 \\over 10}log_2{8 \\over 10}−{2 \\over 10}log_2{2 \\over 10}≈0.72$$"
   ]
  },
  {
   "cell_type": "markdown",
   "id": "f33ec150",
   "metadata": {},
   "source": [
    "$$H[Y3]=−1log_21−0log_20=0$$"
   ]
  },
  {
   "cell_type": "markdown",
   "id": "24df6bf6",
   "metadata": {},
   "source": [
    "다음은 넘파이로 엔트로피를 계산한 결과다. 확률값이 0일 때는 가장 작은 값인 eps를 대신 사용한다."
   ]
  },
  {
   "cell_type": "code",
   "execution_count": 3,
   "id": "3b3d325a",
   "metadata": {},
   "outputs": [
    {
     "data": {
      "text/plain": [
       "1.0"
      ]
     },
     "execution_count": 3,
     "metadata": {},
     "output_type": "execute_result"
    }
   ],
   "source": [
    "-0.5 * np.log2(0.5) - 0.5 * np.log2(0.5)"
   ]
  },
  {
   "cell_type": "code",
   "execution_count": 4,
   "id": "689e8932",
   "metadata": {},
   "outputs": [
    {
     "data": {
      "text/plain": [
       "0.7219280948873623"
      ]
     },
     "execution_count": 4,
     "metadata": {},
     "output_type": "execute_result"
    }
   ],
   "source": [
    "-0.8 * np.log2(0.8) - 0.2 * np.log2(0.2)"
   ]
  },
  {
   "cell_type": "code",
   "execution_count": 5,
   "id": "65949552",
   "metadata": {},
   "outputs": [
    {
     "data": {
      "text/plain": [
       "1.1546319456101628e-14"
      ]
     },
     "execution_count": 5,
     "metadata": {},
     "output_type": "execute_result"
    }
   ],
   "source": [
    "eps = np.finfo(float).eps\n",
    "-1 * np.log2(1) - eps * np.log2(eps)"
   ]
  },
  {
   "cell_type": "markdown",
   "id": "6c948fad",
   "metadata": {},
   "source": [
    "# 엔트로피의 성질"
   ]
  },
  {
   "cell_type": "markdown",
   "id": "dbb3d0fa",
   "metadata": {},
   "source": [
    "확률변수가 결정론적이면 확률분포에서 특정한 하나의 값이 나올 확률이 1이다. 이 때 엔트로피는 0이 되고 이 값은 엔트로피가 가질 수 있는 최솟값이다."
   ]
  },
  {
   "cell_type": "markdown",
   "id": "6db25b49",
   "metadata": {},
   "source": [
    "반대로 엔트로피의 최대값은 이산 확률변수의 클래스의 갯수에 따라 달라진다. 만약 이산확률분포가 가질 수 있는 값이 $2^K$개면 엔트로피의 최대값은 각 값에 대한 확률이 모두 같은 값인 ${1\\over 2^K}$이다. 엔트로피의 값은"
   ]
  },
  {
   "cell_type": "markdown",
   "id": "2e7bf742",
   "metadata": {},
   "source": [
    "$$H=−2^K⋅{1 \\over 2^K}log_2{1\\over 2^K}=K$$"
   ]
  },
  {
   "cell_type": "markdown",
   "id": "d972239f",
   "metadata": {},
   "source": [
    "# 엔트로피의 추정"
   ]
  },
  {
   "cell_type": "markdown",
   "id": "58fe4417",
   "metadata": {},
   "source": [
    "이론적인 확률밀도함수가 없고 실제 데이터가 주어진 경우에는 데이터에서 확률질량함수를 추정한 후, 이를 기반으로 엔트로피를 계산한다."
   ]
  },
  {
   "cell_type": "markdown",
   "id": "c81c23a5",
   "metadata": {},
   "source": [
    "예를 들어 데이터가 모두 80개가 있고 그 중 Y = 0 인 데이터가 40개, Y = 1인 데이터가 40개 있는 경우는 엔트로피가 1이다.\n",
    "\n"
   ]
  },
  {
   "cell_type": "markdown",
   "id": "1659466f",
   "metadata": {},
   "source": [
    "$$P(y=0)={40\\over 80}={1\\over2}$$"
   ]
  },
  {
   "cell_type": "markdown",
   "id": "4a57d143",
   "metadata": {},
   "source": [
    "$$P(y=1)={40\\over 80}={1\\over2}$$"
   ]
  },
  {
   "cell_type": "markdown",
   "id": "dc10c64b",
   "metadata": {},
   "source": [
    "$$H[Y]=−{1\\over 2}log_2({1\\over2})−{1\\over2}log_2({1\\over2})={1\\over2}+{1\\over2}=1$$"
   ]
  },
  {
   "cell_type": "markdown",
   "id": "731c2ab7",
   "metadata": {},
   "source": [
    "사이파이의 stats 서브패키지는 엔트로피를 구하는 entropy 함수를 제공한다. base 인수값은 2가 되어야 한다."
   ]
  },
  {
   "cell_type": "code",
   "execution_count": 6,
   "id": "bf228cc3",
   "metadata": {},
   "outputs": [
    {
     "data": {
      "text/plain": [
       "1.0"
      ]
     },
     "execution_count": 6,
     "metadata": {},
     "output_type": "execute_result"
    }
   ],
   "source": [
    "p = [0.5, 0.5]\n",
    "sp.stats.entropy(p, base=2)"
   ]
  },
  {
   "cell_type": "markdown",
   "id": "52ea4765",
   "metadata": {},
   "source": [
    "# 가변길이 인코딩"
   ]
  },
  {
   "cell_type": "markdown",
   "id": "23ae1f5c",
   "metadata": {},
   "source": [
    "엔트로피는 원래 통신 분야에서 데이터가 가지고 있는 정보량을 계산하기 위해 고안되었다. 예를 들어 4개의 글자 A, B, C, D로 씌여진 다음과 같은 문서가 있다고 하자."
   ]
  },
  {
   "cell_type": "code",
   "execution_count": 7,
   "id": "251b6c32",
   "metadata": {},
   "outputs": [
    {
     "data": {
      "text/plain": [
       "'BCBADBDAACCBAAADBBDBAABCCAAABBADBCBBDAACBAAADCDAAAABADAAAABBBBDAAAACAABABDCBABBDBCABABADACCBBCBDDDDBCAAABABAAAAAABADBCAADAAAAAAAAAAABAACABACCCADAAAAAAAAAAABDBDAACAAAABBBAABACDBAACAAADBCDABAAABBAAABCBA'"
      ]
     },
     "execution_count": 7,
     "metadata": {},
     "output_type": "execute_result"
    }
   ],
   "source": [
    "N = 200\n",
    "p = [1/2, 1/4, 1/8, 1/8]\n",
    "doc0 = list(\"\".join([int(N * p[i]) * c for i, c in enumerate(\"ABCD\")]))\n",
    "np.random.shuffle(doc0)\n",
    "doc = \"\".join(doc0)\n",
    "doc"
   ]
  },
  {
   "cell_type": "markdown",
   "id": "1142f8e6",
   "metadata": {},
   "source": [
    "이 문서를 0과 1로 이루어진 이진수로 변환해야 하면 보통 다음처럼 인코딩한다."
   ]
  },
  {
   "cell_type": "markdown",
   "id": "4f923b51",
   "metadata": {},
   "source": [
    "$\\bullet$A = “00”"
   ]
  },
  {
   "cell_type": "markdown",
   "id": "d6f866a4",
   "metadata": {},
   "source": [
    "$\\bullet$B = “01”"
   ]
  },
  {
   "cell_type": "markdown",
   "id": "19c355e2",
   "metadata": {},
   "source": [
    "$\\bullet$C = “10”"
   ]
  },
  {
   "cell_type": "markdown",
   "id": "c3098861",
   "metadata": {},
   "source": [
    "$\\bullet$D = “11”"
   ]
  },
  {
   "cell_type": "markdown",
   "id": "7f8147cd",
   "metadata": {},
   "source": [
    "이렇게 인코딩을 하면 200 글자로 이루어진 문서는 이진수 400개가 된다."
   ]
  },
  {
   "cell_type": "code",
   "execution_count": 8,
   "id": "01d63100",
   "metadata": {},
   "outputs": [
    {
     "data": {
      "text/plain": [
       "'0110010011011100001010010000001101011101000001101000000001010011011001011100001001000000111011000000000100110000000001010101110000000010000001000111100100010111011000010001001100101001011001111111110110000000010001000000000000010011011000001100000000000000000000000100001000010010101000110000000000000000000000011101110000100000000001010100000100101101000010000000110110110001000000010100000001100100'"
      ]
     },
     "execution_count": 8,
     "metadata": {},
     "output_type": "execute_result"
    }
   ],
   "source": [
    "encoder = {\"A\": \"00\", \"B\": \"01\", \"C\": \"10\", \"D\": \"11\"}\n",
    "encoded_doc = \"\".join([encoder[c] for c in doc])\n",
    "encoded_doc"
   ]
  },
  {
   "cell_type": "code",
   "execution_count": 9,
   "id": "02077321",
   "metadata": {},
   "outputs": [
    {
     "data": {
      "text/plain": [
       "400"
      ]
     },
     "execution_count": 9,
     "metadata": {},
     "output_type": "execute_result"
    }
   ],
   "source": [
    "len(encoded_doc)"
   ]
  },
  {
   "cell_type": "markdown",
   "id": "730fbd6f",
   "metadata": {},
   "source": [
    "그런데 이진수로 변환할 때 더 글자수를 줄일 수 있는 방법이 있다. 우선 위 글자의 분포를 조사하자."
   ]
  },
  {
   "cell_type": "code",
   "execution_count": 10,
   "id": "9f93d1de",
   "metadata": {},
   "outputs": [
    {
     "name": "stderr",
     "output_type": "stream",
     "text": [
      "D:\\Anaconda\\envs\\minsu\\lib\\site-packages\\seaborn\\_decorators.py:43: FutureWarning: Pass the following variable as a keyword arg: x. From version 0.12, the only valid positional argument will be `data`, and passing other arguments without an explicit keyword will result in an error or misinterpretation.\n",
      "  FutureWarning\n"
     ]
    },
    {
     "data": {
      "image/png": "[encoded data removed]",
      "text/plain": [
       "<Figure size 432x288 with 1 Axes>"
      ]
     },
     "metadata": {
      "needs_background": "light"
     },
     "output_type": "display_data"
    }
   ],
   "source": [
    "sns.countplot(list(doc), order=\"ABCD\")\n",
    "plt.title(\"글자수의 분포\")\n",
    "plt.show()"
   ]
  },
  {
   "cell_type": "markdown",
   "id": "589ccbd2",
   "metadata": {},
   "source": [
    "글자수의 분포가 다음과 같다"
   ]
  },
  {
   "cell_type": "markdown",
   "id": "3cae0148",
   "metadata": {},
   "source": [
    "$$P(Y=A)={1\\over2},P(Y=B)={1\\over4},P(Y=C)={1\\over8},P(Y=D)={1\\over8}$$"
   ]
  },
  {
   "cell_type": "markdown",
   "id": "c40e2f1d",
   "metadata": {},
   "source": [
    "지프의 법칙(Zipf’s law)에 따르면 이러한 분포는 현실의 글자 빈도수에서도 흔히 나타난다.\n",
    "\n",
    "확률분포가 위와 같을 때는 다음처럼 인코딩하면 인코딩된 후의 이진수 수를 줄일 수 있다."
   ]
  },
  {
   "cell_type": "markdown",
   "id": "1edffc77",
   "metadata": {},
   "source": [
    "$\\bullet$A = “0”"
   ]
  },
  {
   "cell_type": "markdown",
   "id": "e3f59096",
   "metadata": {},
   "source": [
    "$\\bullet$B = “10”"
   ]
  },
  {
   "cell_type": "markdown",
   "id": "8659dd21",
   "metadata": {},
   "source": [
    "$\\bullet$C = “110”"
   ]
  },
  {
   "cell_type": "markdown",
   "id": "13959bbc",
   "metadata": {},
   "source": [
    "$\\bullet$D = “111”"
   ]
  },
  {
   "cell_type": "markdown",
   "id": "f3f5f26e",
   "metadata": {},
   "source": [
    "이 방법은 글자마다 인코딩하는 이진수의 숫자가 다르기 때문에 **가변길이 인코딩(variable length encoding)**이라고 한다. 가장 많이 출현하는 ‘A’는 두 글자가 아닌 한 글자이므로 인코딩 후의 이진수 수가 감소한다. 반대로 ‘C’, ‘D’는 이진수의 수가 3개로 많지만 글자의 빈도가 적어서 영향이 적다."
   ]
  },
  {
   "cell_type": "markdown",
   "id": "f368f359",
   "metadata": {},
   "source": [
    "만약 문서의 분포가 위에서 가정한 분포와 정확하게 같다면 인코딩된 이진수의 숫자는 다음 계산에서 350개가 됨을 알 수 있다.\n",
    "\n"
   ]
  },
  {
   "cell_type": "markdown",
   "id": "0e852f1d",
   "metadata": {},
   "source": [
    "$$(200×{1\\over2})⋅1+(200×{1\\over4})⋅2+(200×{1\\over8})⋅3+(200×{1\\over8})⋅3=350$$"
   ]
  },
  {
   "cell_type": "markdown",
   "id": "f2f0a830",
   "metadata": {},
   "source": [
    "따라서 알파벳 한 글자를 인코딩하는데 필요한 평균 비트(bit)수는 350÷200=1.75이고 이 값은 확률변수의 엔트로피 값과 같다."
   ]
  },
  {
   "cell_type": "markdown",
   "id": "52a81ff7",
   "metadata": {},
   "source": [
    "$$H=−{1\\over2}log_2{1\\over2}−{1\\over4}log_2{1\\over4}−{2\\over8}log_2{1\\over8}=1.75$$"
   ]
  },
  {
   "cell_type": "code",
   "execution_count": 11,
   "id": "91bd1140",
   "metadata": {},
   "outputs": [
    {
     "data": {
      "text/plain": [
       "'10110100111101110011011010000111101011110001011011000010100111101101010111001101000011111011100001001110000101010101110000110001001011111010010101111011001001001110110110101011010111111111111101100001001000000010011110110001110000000000010001100100110110110011100000000000101111011100110000010101000100110111100011000011110110111010000101000010110100'"
      ]
     },
     "execution_count": 11,
     "metadata": {},
     "output_type": "execute_result"
    }
   ],
   "source": [
    "vl_encoder = {\"A\": \"0\", \"B\": \"10\", \"C\": \"110\", \"D\": \"111\"}\n",
    "vl_encoded_doc = \"\".join([vl_encoder[c] for c in doc])\n",
    "vl_encoded_doc"
   ]
  },
  {
   "cell_type": "code",
   "execution_count": 12,
   "id": "989c64b3",
   "metadata": {},
   "outputs": [
    {
     "data": {
      "text/plain": [
       "350"
      ]
     },
     "execution_count": 12,
     "metadata": {},
     "output_type": "execute_result"
    }
   ],
   "source": [
    "len(vl_encoded_doc)"
   ]
  },
  {
   "cell_type": "code",
   "execution_count": 13,
   "id": "0805d1a3",
   "metadata": {},
   "outputs": [
    {
     "data": {
      "text/plain": [
       "1.75"
      ]
     },
     "execution_count": 13,
     "metadata": {},
     "output_type": "execute_result"
    }
   ],
   "source": [
    "sp.stats.entropy([1/2, 1/4, 1/8, 1/8], base=2)"
   ]
  },
  {
   "cell_type": "markdown",
   "id": "44f78da2",
   "metadata": {},
   "source": [
    "# 지니불순도"
   ]
  },
  {
   "cell_type": "markdown",
   "id": "88027c42",
   "metadata": {},
   "source": [
    "엔트로피와 유사한 개념으로 **지니불순도(Gini impurity)**라는 것이 있다. 지니불순도는 엔트로피처럼 확률분포가 어느쪽에 치우쳐있는가를 재는 척도지만 로그를 사용하지 않으므로 계산량이 더 적어 엔트로피 대용으로 많이 사용된다. 경제학에서도 사용되지만 지니계수(Gini coefficient)와는 다른 개념이라는 점에 주의해야 한다."
   ]
  },
  {
   "cell_type": "markdown",
   "id": "081cd50c",
   "metadata": {},
   "source": [
    "$$G[Y]=\\displaystyle\\sum_{k=1}^p(y_k)(1−P(y_k))$$"
   ]
  },
  {
   "cell_type": "markdown",
   "id": "884cfef3",
   "metadata": {},
   "source": [
    "다음 그림은 값이 두 개인 이산확률분포에서 지니불순도와 엔트로피를 비교한 결과다."
   ]
  },
  {
   "cell_type": "code",
   "execution_count": 15,
   "id": "1aa28afa",
   "metadata": {},
   "outputs": [
    {
     "data": {
      "image/png": "[encoded data removed]",
      "text/plain": [
       "<Figure size 432x288 with 1 Axes>"
      ]
     },
     "metadata": {
      "needs_background": "light"
     },
     "output_type": "display_data"
    }
   ],
   "source": [
    "P0 = np.linspace(0.001, 1 - 0.001, 1000)\n",
    "P1 = 1 - P0\n",
    "H = - P0 * np.log2(P0) - P1 * np.log2(P1)\n",
    "G = 2 * (P0 * (1 - P0) + P1 * (1 - P1))\n",
    "\n",
    "plt.plot(P1, H, \"-\", label=\"엔트로피\")\n",
    "plt.plot(P1, G, \"--\", label=\"지니불순도\")\n",
    "plt.legend()\n",
    "plt.xlabel(\"P(Y=1)\")\n",
    "plt.show()"
   ]
  },
  {
   "cell_type": "code",
   "execution_count": null,
   "id": "8340c8ad",
   "metadata": {},
   "outputs": [],
   "source": []
  }
 ],
 "metadata": {
  "kernelspec": {
   "display_name": "Python 3",
   "language": "python",
   "name": "python3"
  },
  "language_info": {
   "codemirror_mode": {
    "name": "ipython",
    "version": 3
   },
   "file_extension": ".py",
   "mimetype": "text/x-python",
   "name": "python",
   "nbconvert_exporter": "python",
   "pygments_lexer": "ipython3",
   "version": "3.6.13"
  }
 },
 "nbformat": 4,
 "nbformat_minor": 5
}
