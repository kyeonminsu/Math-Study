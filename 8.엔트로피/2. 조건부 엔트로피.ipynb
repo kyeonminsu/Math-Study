{
 "cells": [
  {
   "cell_type": "code",
   "execution_count": 1,
   "id": "8a90105e",
   "metadata": {},
   "outputs": [],
   "source": [
    "import scipy as sp\n",
    "import scipy.stats\n",
    "import numpy as np\n",
    "import seaborn as sns\n",
    "import matplotlib.pyplot as plt\n",
    "import pandas as pd\n",
    "import matplotlib as mpl\n",
    "plt.rc(\"font\", size=10, family='Malgun Gothic')\n",
    "plt.rc('axes', unicode_minus=False)"
   ]
  },
  {
   "cell_type": "markdown",
   "id": "25078630",
   "metadata": {},
   "source": [
    "# 결합엔트로피"
   ]
  },
  {
   "cell_type": "markdown",
   "id": "d9f0ef8a",
   "metadata": {},
   "source": [
    "**결합엔트로피(joint entropy)**는 결합확률분포를 사용하여 정의한 엔트로피를 말한다."
   ]
  },
  {
   "cell_type": "markdown",
   "id": "1d89f210",
   "metadata": {},
   "source": [
    "이산확률변수 X, Y에 대해 결합엔트로피는 다음처럼 정의한다.\n",
    "\n"
   ]
  },
  {
   "cell_type": "markdown",
   "id": "6cfd33ce",
   "metadata": {},
   "source": [
    "$$H[X,Y]=-\\displaystyle\\sum_{i=1}^{k_x} \\displaystyle\\sum_{j=1}^{k_y}p(x_i,y_j)log_2p(x_i,y_j)$$"
   ]
  },
  {
   "cell_type": "markdown",
   "id": "a290b39f",
   "metadata": {},
   "source": [
    "이 식에서 KX, KY는 각각 X와 Y가 가질 수 있는 값의 개수고 p는 확률질량함수다.\n",
    "\n",
    "연속확률변수 X, Y에 대해 결합엔트로피는 다음처럼 정의한다."
   ]
  },
  {
   "cell_type": "markdown",
   "id": "09ee7a38",
   "metadata": {},
   "source": [
    "$$H[X,Y]=−\\int_{x}\\int_{y}p(x,y)log_2p(x,y)dxdy$$"
   ]
  },
  {
   "cell_type": "markdown",
   "id": "bd3bdd41",
   "metadata": {},
   "source": [
    "이 식에서 p는 확률밀도함수다."
   ]
  },
  {
   "cell_type": "markdown",
   "id": "f16e6965",
   "metadata": {},
   "source": [
    "결합엔트로피도 결합확률분포라는 점만 제외하면 일반적인 엔트로피와 같다. 모든 경우에 대해 골고루 확률이 분포되어 있으면 엔트로피값이 커지고 특정한 한 가지 경우에 대해 확률이 모여있으면 엔트로피가 0에 가까와진다."
   ]
  },
  {
   "cell_type": "markdown",
   "id": "9712a3ca",
   "metadata": {},
   "source": [
    "# 조건부엔트로피"
   ]
  },
  {
   "cell_type": "markdown",
   "id": "db0b13eb",
   "metadata": {},
   "source": [
    "**조건부엔트로피(conditional entropy)**는 어떤 확률변수 X가 다른 확률변수 Y의 값을 예측하는데 도움이 되는지를 측정하는 방법 중의 하나다. 만약 확률변수 X의 값이 어떤 특정한 하나의 값을 가질 때 확률변수 Y도 마찬가지로 특정한 값이 된다면 X로 Y를 예측할 수 있다. 반대로 확률변수 X의 값이 어떤 특정한 하나의 값을 가져도 확률변수 Y가 여러 값으로 골고루 분포되어 있다면 X는 Y의 값을 예측하는데 도움이 안된다."
   ]
  },
  {
   "cell_type": "markdown",
   "id": "84de54c3",
   "metadata": {},
   "source": [
    "조건부엔트로피의 정의는 다음과 같이 유도한다. 확률변수 X, Y가 모두 이산확률변수라고 가정하고 X가 특정한 값 $x_i$를 가질 때의 Y의 엔트로피 $H[Y∣X=x_i]$는 다음처럼 조건부확률분포의 엔트로피로 정의한다."
   ]
  },
  {
   "cell_type": "markdown",
   "id": "8ce56d1f",
   "metadata": {},
   "source": [
    "$$H[Y∣X=x_i]=−\\displaystyle\\sum_{j=1}^{k_y}p(y_j∣x_i)log_2p(y_j∣x_i)$$"
   ]
  },
  {
   "cell_type": "markdown",
   "id": "2194db4c",
   "metadata": {},
   "source": [
    "조건부엔트로피의 최종적인 수학적 정의는 다음과 같다."
   ]
  },
  {
   "cell_type": "markdown",
   "id": "78628772",
   "metadata": {},
   "source": [
    "이산확률변수의 경우에는 다음처럼 정의한다."
   ]
  },
  {
   "cell_type": "markdown",
   "id": "27f0cb77",
   "metadata": {},
   "source": [
    "$$H[Y∣X]=−\\displaystyle\\sum_{i=1}^{k_x} \\displaystyle\\sum_{j=1}^{k_y}p(x_i,y_j)log_2p(y_i|x_i)$$"
   ]
  },
  {
   "cell_type": "markdown",
   "id": "6a3346d4",
   "metadata": {},
   "source": [
    "연속확률변수의 경우에는 다음처럼 정의한다."
   ]
  },
  {
   "cell_type": "markdown",
   "id": "90e9d205",
   "metadata": {},
   "source": [
    "$$H[Y|X]=−\\int_{x}\\int_{y}p(x,y)log_2p(y|x)dxdy$$"
   ]
  },
  {
   "cell_type": "markdown",
   "id": "03f79de5",
   "metadata": {},
   "source": [
    "# 예측에 도움이 되는 경우"
   ]
  },
  {
   "cell_type": "markdown",
   "id": "a31dd27a",
   "metadata": {},
   "source": [
    "예를 들어 X, Y 값의 관계가 다음과 같다고 하자."
   ]
  },
  {
   "cell_type": "markdown",
   "id": "986846f8",
   "metadata": {},
   "source": [
    "구분|Y=0 |Y=1\n",
    "----|----|-----\n",
    "X=0 | 0.4|0.0\n",
    "X=1 | 0.0|0.6\n"
   ]
  },
  {
   "cell_type": "markdown",
   "id": "22d17654",
   "metadata": {},
   "source": [
    "X=0,X=1 일 때의 조건부확률분포는 다음과 같다."
   ]
  },
  {
   "cell_type": "markdown",
   "id": "69061be0",
   "metadata": {},
   "source": [
    "$$P(Y=0|X=0)=1,P(Y=1|X=0)=0$$"
   ]
  },
  {
   "cell_type": "markdown",
   "id": "1ff06999",
   "metadata": {},
   "source": [
    "$$P(Y=0|X=1)=0,P(Y=1|X=1)=1$$"
   ]
  },
  {
   "cell_type": "markdown",
   "id": "7810ccaa",
   "metadata": {},
   "source": [
    "이때 Y의 엔트로피는 모두 0이다."
   ]
  },
  {
   "cell_type": "markdown",
   "id": "1618237a",
   "metadata": {},
   "source": [
    "$$H[Y∣X=0]=0$$"
   ]
  },
  {
   "cell_type": "markdown",
   "id": "1008d436",
   "metadata": {},
   "source": [
    "$$H[Y∣X=1]=0$$"
   ]
  },
  {
   "cell_type": "markdown",
   "id": "ed75b0aa",
   "metadata": {},
   "source": [
    "따라서 조건부엔트로피도 0이 된다."
   ]
  },
  {
   "cell_type": "markdown",
   "id": "4bd6f6d0",
   "metadata": {},
   "source": [
    "$$H[Y|X]=0$$"
   ]
  },
  {
   "cell_type": "code",
   "execution_count": 8,
   "id": "a17b5c9a",
   "metadata": {},
   "outputs": [
    {
     "data": {
      "image/png": "[encoded data removed]",
      "text/plain": [
       "<Figure size 576x288 with 3 Axes>"
      ]
     },
     "metadata": {
      "needs_background": "light"
     },
     "output_type": "display_data"
    }
   ],
   "source": [
    "plt.figure(figsize=(8, 4))\n",
    "ax1 = plt.subplot(121)\n",
    "pXY = [[0.4, 0], [0, 0.6]]\n",
    "sns.heatmap(pXY, annot=True, cbar=False)\n",
    "plt.xlabel(\"Y\")\n",
    "plt.ylabel(\"X\")\n",
    "\n",
    "plt.subplot(222)\n",
    "plt.bar([0, 1], [1, 0])\n",
    "plt.ylim(0, 1)\n",
    "plt.title(\"조건부확률분포 p(Y|X=0)\")\n",
    "\n",
    "plt.subplot(224)\n",
    "plt.bar([0, 1], [0, 1])\n",
    "plt.ylim(0, 1)\n",
    "plt.title(\"조건부확률분포 p(Y|X=1)\")\n",
    "\n",
    "plt.tight_layout(w_pad=5)\n",
    "plt.suptitle(\"조건부엔트로피 H[Y|X]=0\", y=1.05)\n",
    "plt.show()"
   ]
  },
  {
   "cell_type": "markdown",
   "id": "359b1b76",
   "metadata": {},
   "source": [
    "# 예측에 도움이 되지 않는 경우"
   ]
  },
  {
   "cell_type": "markdown",
   "id": "323f0c6d",
   "metadata": {},
   "source": [
    "예를 들어 두 확률변수 X, Y 값의 관계가 다음과 같다고 하자. 이 경우 두 확률변수는 서로 독립이다."
   ]
  },
  {
   "cell_type": "markdown",
   "id": "bdd53e9f",
   "metadata": {},
   "source": [
    "구분|Y=0 |Y=1\n",
    "----|----|-----\n",
    "X=0 | ${1 \\over 9}$|${2 \\over 9}$\n",
    "X=1 | ${2 \\over 9}$|${4 \\over 9}$\n"
   ]
  },
  {
   "cell_type": "markdown",
   "id": "8bcefbbb",
   "metadata": {},
   "source": [
    "X=0,X=1일 때의 조건부확률분포는 다음과 같다."
   ]
  },
  {
   "cell_type": "markdown",
   "id": "0f8567da",
   "metadata": {},
   "source": [
    "$$P(Y=0|X=0)={1\\over3},P(Y=1|X=0)={2\\over3}$$"
   ]
  },
  {
   "cell_type": "markdown",
   "id": "0b67d453",
   "metadata": {},
   "source": [
    "$$P(Y=0|X=1)={1\\over3},P(Y=1|X=1)={2\\over3}$$"
   ]
  },
  {
   "cell_type": "markdown",
   "id": "8d9ef746",
   "metadata": {},
   "source": [
    "두 경우 모두 Y의 엔트로피는 약 0.92다."
   ]
  },
  {
   "cell_type": "markdown",
   "id": "067181fd",
   "metadata": {},
   "source": [
    "$$H[Y∣X=0]=H[Y∣X=1]=−{1\\over3}log_2{1\\over3}−{2\\over3}log_2{2\\over3}≈0.92$$"
   ]
  },
  {
   "cell_type": "code",
   "execution_count": 10,
   "id": "2dffbc69",
   "metadata": {},
   "outputs": [
    {
     "data": {
      "text/plain": [
       "0.9182958340544894"
      ]
     },
     "execution_count": 10,
     "metadata": {},
     "output_type": "execute_result"
    }
   ],
   "source": [
    "sp.stats.entropy([1/3, 2/3], base=2)"
   ]
  },
  {
   "cell_type": "code",
   "execution_count": 11,
   "id": "eb893881",
   "metadata": {},
   "outputs": [
    {
     "data": {
      "image/png": "[encoded data removed]",
      "text/plain": [
       "<Figure size 576x288 with 3 Axes>"
      ]
     },
     "metadata": {
      "needs_background": "light"
     },
     "output_type": "display_data"
    }
   ],
   "source": [
    "plt.figure(figsize=(8, 4))\n",
    "ax1 = plt.subplot(121)\n",
    "pXY = [[1/9, 2/9], [2/9, 4/9]]\n",
    "sns.heatmap(pXY, annot=True, cbar=False)\n",
    "plt.xlabel(\"Y\")\n",
    "plt.ylabel(\"X\")\n",
    "\n",
    "plt.subplot(222)\n",
    "plt.bar([0, 1], [1/3, 2/3])\n",
    "plt.ylim(0, 1)\n",
    "plt.title(\"조건부확률분포 p(Y|X=0)\")\n",
    "\n",
    "plt.subplot(224)\n",
    "plt.bar([0, 1], [1/3, 2/3])\n",
    "plt.ylim(0, 1)\n",
    "plt.title(\"조건부확률분포 p(Y|X=1)\")\n",
    "\n",
    "plt.tight_layout(w_pad=5)\n",
    "plt.suptitle(\"조건부엔트로피 H[Y|X]=0.92\", y=1.05)\n",
    "plt.show()"
   ]
  },
  {
   "cell_type": "code",
   "execution_count": null,
   "id": "aadb033e",
   "metadata": {},
   "outputs": [],
   "source": []
  }
 ],
 "metadata": {
  "kernelspec": {
   "display_name": "Python 3",
   "language": "python",
   "name": "python3"
  },
  "language_info": {
   "codemirror_mode": {
    "name": "ipython",
    "version": 3
   },
   "file_extension": ".py",
   "mimetype": "text/x-python",
   "name": "python",
   "nbconvert_exporter": "python",
   "pygments_lexer": "ipython3",
   "version": "3.6.13"
  }
 },
 "nbformat": 4,
 "nbformat_minor": 5
}
