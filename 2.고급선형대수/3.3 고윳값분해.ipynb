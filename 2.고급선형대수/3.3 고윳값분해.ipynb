{
 "cells": [
  {
   "cell_type": "code",
   "execution_count": 1,
   "id": "ac636916",
   "metadata": {},
   "outputs": [],
   "source": [
    "import numpy as np"
   ]
  },
  {
   "cell_type": "code",
   "execution_count": 2,
   "id": "8ae0116f",
   "metadata": {},
   "outputs": [
    {
     "name": "stdout",
     "output_type": "stream",
     "text": [
      "[-0.99999998 -1.00000002]\n",
      "[[0.70710678 0.70710678]\n",
      " [0.70710678 0.70710678]]\n"
     ]
    }
   ],
   "source": [
    "A = np.array([[1, -2], [2, -3]])\n",
    "w1, V1 = np.linalg.eig(A)\n",
    "\n",
    "print(w1)\n",
    "print(V1)"
   ]
  },
  {
   "cell_type": "code",
   "execution_count": 3,
   "id": "474e7d03",
   "metadata": {},
   "outputs": [],
   "source": [
    "A = np.array([[60., 30., 20.],\n",
    "              [30., 20., 15.],\n",
    "              [20., 15., 12.]])\n",
    "\n",
    "w, V = np.linalg.eig(A)\n",
    "w1, w2, w3 = w\n",
    "v1 = V[:, 0:1]\n",
    "v2 = V[:, 1:2]\n",
    "v3 = V[:, 2:3]\n",
    "A1 = v1 @ v1.T\n",
    "A2 = v2 @ v2.T\n",
    "A3 = v3 @ v3.T"
   ]
  },
  {
   "cell_type": "code",
   "execution_count": 4,
   "id": "76cdaca6",
   "metadata": {},
   "outputs": [
    {
     "data": {
      "text/plain": [
       "array([84.49913563,  7.33962395,  0.16124042])"
      ]
     },
     "execution_count": 4,
     "metadata": {},
     "output_type": "execute_result"
    }
   ],
   "source": [
    "w"
   ]
  },
  {
   "cell_type": "code",
   "execution_count": 5,
   "id": "bd0b25ef",
   "metadata": {},
   "outputs": [
    {
     "data": {
      "text/plain": [
       "array([[57.79768857, 32.13739648, 22.59357583],\n",
       "       [32.13739648, 17.8694387 , 12.56276371],\n",
       "       [22.59357583, 12.56276371,  8.83200836]])"
      ]
     },
     "execution_count": 5,
     "metadata": {},
     "output_type": "execute_result"
    }
   ],
   "source": [
    "w1 * A1"
   ]
  },
  {
   "cell_type": "code",
   "execution_count": 6,
   "id": "4c5ba81a",
   "metadata": {},
   "outputs": [
    {
     "data": {
      "text/plain": [
       "array([[ 2.19968372, -2.12270483, -2.60775134],\n",
       "       [-2.12270483,  2.04841985,  2.51649195],\n",
       "       [-2.60775134,  2.51649195,  3.09152039]])"
      ]
     },
     "execution_count": 6,
     "metadata": {},
     "output_type": "execute_result"
    }
   ],
   "source": [
    "w2 * A2"
   ]
  },
  {
   "cell_type": "code",
   "execution_count": 7,
   "id": "8f2b981d",
   "metadata": {},
   "outputs": [
    {
     "data": {
      "text/plain": [
       "array([[ 0.00262772, -0.01469165,  0.01417551],\n",
       "       [-0.01469165,  0.08214145, -0.07925566],\n",
       "       [ 0.01417551, -0.07925566,  0.07647125]])"
      ]
     },
     "execution_count": 7,
     "metadata": {},
     "output_type": "execute_result"
    }
   ],
   "source": [
    "w3 * A3"
   ]
  },
  {
   "cell_type": "code",
   "execution_count": 8,
   "id": "a187527c",
   "metadata": {},
   "outputs": [
    {
     "data": {
      "text/plain": [
       "array([[60., 30., 20.],\n",
       "       [30., 20., 15.],\n",
       "       [20., 15., 12.]])"
      ]
     },
     "execution_count": 8,
     "metadata": {},
     "output_type": "execute_result"
    }
   ],
   "source": [
    "w1 * A1 + w2 * A2 + w3 * A3"
   ]
  },
  {
   "cell_type": "markdown",
   "id": "de264dd9",
   "metadata": {},
   "source": [
    "붓꽃(Iris) 특징데이터 행렬 X의 분산행렬을 구하고 이 분산행렬의 고윳값들을 구하라."
   ]
  },
  {
   "cell_type": "code",
   "execution_count": 10,
   "id": "dd7dce1c",
   "metadata": {},
   "outputs": [],
   "source": [
    "from sklearn.datasets import load_iris"
   ]
  },
  {
   "cell_type": "code",
   "execution_count": 11,
   "id": "6f586cc8",
   "metadata": {},
   "outputs": [
    {
     "data": {
      "text/plain": [
       "array([9.20830507e+03, 3.15454317e+02, 1.19780429e+01, 3.55257020e+00])"
      ]
     },
     "execution_count": 11,
     "metadata": {},
     "output_type": "execute_result"
    }
   ],
   "source": [
    "iris = load_iris()\n",
    "X = iris.data\n",
    "COV = X.T @ X\n",
    "w , V = np.linalg.eig(COV)\n",
    "w"
   ]
  },
  {
   "cell_type": "markdown",
   "id": "5489d0a2",
   "metadata": {},
   "source": [
    "행렬 A는 N개의 고윳값-고유벡터를 가진다(복소수인 경우와 중복인 경우를 포함)."
   ]
  },
  {
   "cell_type": "markdown",
   "id": "4d026b79",
   "metadata": {},
   "source": [
    "행렬의 대각합은 모든 고윳값의 합과 같다."
   ]
  },
  {
   "cell_type": "markdown",
   "id": "9e18558a",
   "metadata": {},
   "source": [
    "행렬의 행렬식은 모든 고윳값의 곱과 같다."
   ]
  },
  {
   "cell_type": "markdown",
   "id": "5a753a3c",
   "metadata": {},
   "source": [
    "행렬 A가 대칭행렬이면 N개의 실수 고윳값을 가지며 고유벡터들이 서로 **직교(orthogonal)**이다."
   ]
  },
  {
   "cell_type": "markdown",
   "id": "034d8572",
   "metadata": {},
   "source": [
    "행렬 A가 대칭행렬이고 고윳값이 모두 양수이면 양의 정부호(positive-definite)이고 역행렬이 존재한다. 역도 성립한다."
   ]
  },
  {
   "cell_type": "markdown",
   "id": "27e93ed5",
   "metadata": {},
   "source": [
    "행렬 A가 어떤 행렬 X의 분산행렬 XTX이면 0 또는 양의 고윳값을 가진다."
   ]
  },
  {
   "cell_type": "markdown",
   "id": "2dc1e22d",
   "metadata": {},
   "source": [
    "행렬 X∈RN×M(N≥M)가 풀랭크이면 분산행렬 XTX은 역행렬이 존재한다."
   ]
  },
  {
   "cell_type": "code",
   "execution_count": null,
   "id": "0b314a94",
   "metadata": {},
   "outputs": [],
   "source": []
  }
 ],
 "metadata": {
  "kernelspec": {
   "display_name": "Python 3",
   "language": "python",
   "name": "python3"
  },
  "language_info": {
   "codemirror_mode": {
    "name": "ipython",
    "version": 3
   },
   "file_extension": ".py",
   "mimetype": "text/x-python",
   "name": "python",
   "nbconvert_exporter": "python",
   "pygments_lexer": "ipython3",
   "version": "3.6.13"
  }
 },
 "nbformat": 4,
 "nbformat_minor": 5
}
