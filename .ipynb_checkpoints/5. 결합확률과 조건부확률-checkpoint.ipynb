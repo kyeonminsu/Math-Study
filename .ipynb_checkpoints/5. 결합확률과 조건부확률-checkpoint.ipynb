{
 "cells": [
  {
   "cell_type": "code",
   "execution_count": 1,
   "id": "3fe23ba2",
   "metadata": {},
   "outputs": [],
   "source": [
    "import matplotlib.pyplot as plt\n",
    "import numpy as np\n",
    "plt.rc(\"font\", size=10, family='Malgun Gothic')\n",
    "plt.rc('axes', unicode_minus=False)"
   ]
  },
  {
   "cell_type": "markdown",
   "id": "1e5cee65",
   "metadata": {},
   "source": [
    "조건부확률은 데이터로부터 어떤 결론을 얻을 수 있는가를 나타내는 숫자이므로 데이터 분석에 있어서 가장 중요한 개념이다."
   ]
  },
  {
   "cell_type": "markdown",
   "id": "e5b36bcd",
   "metadata": {},
   "source": [
    "# 결합확률과 조건부확률"
   ]
  },
  {
   "cell_type": "markdown",
   "id": "60c61c3f",
   "metadata": {},
   "source": [
    "베이지안 확률론은 두 사건 A와 B의 관계를 알고 있다면 사건 B가 발생하였했다는 사실로부터 기존에 알고 있는 사건 A에 대한 확률 P(A)를 좀 더 정확한 확률로 바꿀 수 있는 방법을 알려준다. 이를 위해서는 결합확률과 조건부확률이라는 두 가지 개념을 정의해야 한다."
   ]
  },
  {
   "cell_type": "markdown",
   "id": "c75f25ed",
   "metadata": {},
   "source": [
    "**결합확률(joint probability)**은 사건 A와 B가 동시에 발생할 확률이다. 즉, 사건(명제/주장) A도 진실이고 사건(명제/주장) B도 진실이므로 사건 A와 B의 교집합의 확률을 계산하는 것과 같다."
   ]
  },
  {
   "cell_type": "markdown",
   "id": "9981f562",
   "metadata": {},
   "source": [
    "$P(A∩B) or P(A,B)$"
   ]
  },
  {
   "cell_type": "markdown",
   "id": "3f336335",
   "metadata": {},
   "source": [
    "결합확률과 대비되는 개념으로 결합되지 않는 개별 사건의 확률 P(A) 또는 P(B)를 **주변확률(marginal probability)**라고 한다."
   ]
  },
  {
   "cell_type": "markdown",
   "id": "5881590e",
   "metadata": {},
   "source": [
    "또한 B가 사실일 경우의 사건 A에 대한 확률을 **사건 B에 대한 사건 A의 조건부확률(conditional probability)**이라고 하며 다음과 같이 표기한다."
   ]
  },
  {
   "cell_type": "markdown",
   "id": "6554fa68",
   "metadata": {},
   "source": [
    "$P(A|B)$"
   ]
  },
  {
   "cell_type": "markdown",
   "id": "f8c7990a",
   "metadata": {},
   "source": [
    "위 수식에서 기호 |는 if를 뜻한다. 즉 다음과 같다.\n",
    "\n"
   ]
  },
  {
   "cell_type": "markdown",
   "id": "83258a70",
   "metadata": {},
   "source": [
    "P(A|B)≡ new P(A) if P(B)=1"
   ]
  },
  {
   "cell_type": "markdown",
   "id": "15f28ca0",
   "metadata": {},
   "source": [
    "$$P(A|B)=P(A,B)\\over P(B)$$"
   ]
  },
  {
   "cell_type": "markdown",
   "id": "aa1b379f",
   "metadata": {},
   "source": [
    "사건 B가 사실이므로 모든 가능한 표본은 사건 B에 포함되어야 한다. 즉, 새로운 실질적 표본공간은 Ωnew→B가 된다."
   ]
  },
  {
   "cell_type": "markdown",
   "id": "2e4de180",
   "metadata": {},
   "source": [
    "사건 A의 원소는 모두 사건 B의 원소도 되므로 사실상 사건 A∩B의 원소가 된다. 즉, 새로운 실질적 Anew→A∩B가 된다."
   ]
  },
  {
   "cell_type": "markdown",
   "id": "2d4c4bbe",
   "metadata": {},
   "source": [
    "따라서 사건 A의 확률 즉, 신뢰도는 원래의 신뢰도(결합확률)를 새로운 표본공간의 신뢰도(확률)로 정규화(normalize)한 값이라고 할 수 있다."
   ]
  },
  {
   "cell_type": "markdown",
   "id": "0801a8d3",
   "metadata": {},
   "source": [
    "조건부확률 P(A|B) 요약"
   ]
  },
  {
   "cell_type": "markdown",
   "id": "f80e618a",
   "metadata": {},
   "source": [
    "1. 사건 B가 발생한 경우의 사건 A의 확률"
   ]
  },
  {
   "cell_type": "markdown",
   "id": "2aa2389c",
   "metadata": {},
   "source": [
    "2. 표본이 이벤트 B에 속한다는 새로운 사실을 알게 되었을 때,"
   ]
  },
  {
   "cell_type": "markdown",
   "id": "07497f18",
   "metadata": {},
   "source": [
    "3. 이 표본이 사건 A에 속한다는 사실의 정확성(신뢰도)이 어떻게 변하는지를 알려준다."
   ]
  },
  {
   "cell_type": "markdown",
   "id": "a0d687b9",
   "metadata": {},
   "source": [
    "# 독립"
   ]
  },
  {
   "cell_type": "markdown",
   "id": "700c6374",
   "metadata": {},
   "source": [
    "수학적으로는 사건 A와 사건 B의 결합확률의 값이 다음과 같은 관계가 성립하면 **두 사건 A와 B는 서로 독립(independent)**이라고 정의한다."
   ]
  },
  {
   "cell_type": "markdown",
   "id": "2b40f4fc",
   "metadata": {},
   "source": [
    "$P(A,B)=P(A)P(B)$"
   ]
  },
  {
   "cell_type": "markdown",
   "id": "6c4a866a",
   "metadata": {},
   "source": [
    "독립인 경우 조건부확률과 원래의 확률이 같아짐을 알 수 있다. 즉, B라는 사건이 발생하든 말든 사건 A에는 전혀 영향을 주지 않는 다는 것이다."
   ]
  },
  {
   "cell_type": "markdown",
   "id": "86790193",
   "metadata": {},
   "source": [
    "$$P(A|B)={P(A,B) \\over P(B)}={{P(A)P(B)}\\over P(B)=P(A)}$$"
   ]
  },
  {
   "cell_type": "markdown",
   "id": "79faf9de",
   "metadata": {},
   "source": [
    "# 원인과 결과, 근거와 추론, 가정과 조건부 결론"
   ]
  },
  {
   "cell_type": "markdown",
   "id": "3ce57688",
   "metadata": {},
   "source": [
    "조건부확률 P(A|B)에서 사건(주장/명제) B, A는 각각"
   ]
  },
  {
   "cell_type": "markdown",
   "id": "53c106c1",
   "metadata": {},
   "source": [
    "1.'가정과 그 가정에 따른 조건부 결론’ 또는"
   ]
  },
  {
   "cell_type": "markdown",
   "id": "086f17a3",
   "metadata": {},
   "source": [
    "2.'원인과 결과’ 또는"
   ]
  },
  {
   "cell_type": "markdown",
   "id": "fb2fb2d9",
   "metadata": {},
   "source": [
    "3.'근거와 추론’"
   ]
  },
  {
   "cell_type": "markdown",
   "id": "e7b7ff33",
   "metadata": {},
   "source": [
    "또 결합확률의 정의를 바꿔 쓰면 다음과 같이 되는데,"
   ]
  },
  {
   "cell_type": "markdown",
   "id": "44ce834c",
   "metadata": {},
   "source": [
    "$P(A,B)=P(A|B)P(B)$"
   ]
  },
  {
   "cell_type": "markdown",
   "id": "361b8866",
   "metadata": {},
   "source": [
    "이 식은 다음과 같은 관점에서 볼 수 있다."
   ]
  },
  {
   "cell_type": "markdown",
   "id": "10742ea3",
   "metadata": {},
   "source": [
    "A,B 가 모두 발생할 확률은 B라는 사건이 발생할 확률과 그 사건이 발생한 경우 다시 A가 발생할 경우의 곱"
   ]
  },
  {
   "cell_type": "markdown",
   "id": "1491e8c3",
   "metadata": {},
   "source": [
    "# 확률변수"
   ]
  },
  {
   "cell_type": "markdown",
   "id": "c725f235",
   "metadata": {},
   "source": [
    "**확률적인 숫자 값을 출력하는 변수를 확률변수(random variable)**라고 한다."
   ]
  },
  {
   "cell_type": "markdown",
   "id": "4169b83e",
   "metadata": {},
   "source": [
    "확률변수는 확률분포를 그 안에 내포하고 있어서 그 확률분포에 따라 숫자를 출력할 수 있다. 확률변수 X가 가진 확률을 확률변수의 확률 P(X)라고 한다. 위 예에서 확률변수 X는 사건 A와 사건 AC를 가질 수 있다."
   ]
  },
  {
   "cell_type": "markdown",
   "id": "53269394",
   "metadata": {},
   "source": [
    "두 확률변수 X, Y가 가질 수 있는 모든 사건의 조합에 대해 독립이 성립하면 두 확률변수 X, Y가 독립이라고 한다. 위 결합확률 표에서 주변확률의 곱을 구해서 결합확률과 비교해보면 확률변수 X, Y는 독립이 아니라는 것을 알 수 있다."
   ]
  },
  {
   "cell_type": "markdown",
   "id": "729d1768",
   "metadata": {},
   "source": [
    "# 피지엠파이 패키지"
   ]
  },
  {
   "cell_type": "markdown",
   "id": "4635bbf4",
   "metadata": {},
   "source": [
    "pgmpy(Probabilistic Graphical Models in Python) 패키지를 사용하면 이산확률모형을 쉽게 구현할 수 있다."
   ]
  },
  {
   "cell_type": "markdown",
   "id": "77f68222",
   "metadata": {},
   "source": [
    "피지엠파이 패키지의 JointProbabilityDistribution 클래스는 결합확률 모형을 만드는 데 사용하는 클래스다. 사용법은 다음과 같다."
   ]
  },
  {
   "cell_type": "markdown",
   "id": "1aa2995b",
   "metadata": {},
   "source": [
    "JointProbabilityDistribution(variables, cardinality, values)"
   ]
  },
  {
   "cell_type": "markdown",
   "id": "40538f23",
   "metadata": {},
   "source": [
    "variables: 확률변수의 이름 문자열의 리스트. 정의하려는 확률변수가 하나인 경우에도 리스트로 넣어야 한다."
   ]
  },
  {
   "cell_type": "markdown",
   "id": "b5c08674",
   "metadata": {},
   "source": [
    "cardinality: 각 확률변수의 표본 혹은 배타적 사건의 수의 리스트"
   ]
  },
  {
   "cell_type": "markdown",
   "id": "186f1379",
   "metadata": {},
   "source": [
    "values: 확률변수의 모든 표본(조합)에 대한 (결합)확률값의 리스트"
   ]
  },
  {
   "cell_type": "code",
   "execution_count": 5,
   "id": "4d81a7ea",
   "metadata": {},
   "outputs": [
    {
     "name": "stdout",
     "output_type": "stream",
     "text": [
      "+------+--------+\n",
      "| X    |   P(X) |\n",
      "+======+========+\n",
      "| X(0) | 0.6000 |\n",
      "+------+--------+\n",
      "| X(1) | 0.4000 |\n",
      "+------+--------+\n"
     ]
    }
   ],
   "source": [
    "from pgmpy.factors.discrete import JointProbabilityDistribution as JPD\n",
    "\n",
    "px = JPD(['X'], [2], np.array([12, 8]) / 20)\n",
    "print(px)"
   ]
  },
  {
   "cell_type": "code",
   "execution_count": 6,
   "id": "8e005b13",
   "metadata": {},
   "outputs": [
    {
     "name": "stdout",
     "output_type": "stream",
     "text": [
      "+------+--------+\n",
      "| Y    |   P(Y) |\n",
      "+======+========+\n",
      "| Y(0) | 0.5000 |\n",
      "+------+--------+\n",
      "| Y(1) | 0.5000 |\n",
      "+------+--------+\n"
     ]
    }
   ],
   "source": [
    "py = JPD(['Y'], [2], np.array([10, 10]) / 20)\n",
    "print(py)"
   ]
  },
  {
   "cell_type": "code",
   "execution_count": 7,
   "id": "0df3a154",
   "metadata": {},
   "outputs": [
    {
     "name": "stdout",
     "output_type": "stream",
     "text": [
      "+------+------+----------+\n",
      "| X    | Y    |   P(X,Y) |\n",
      "+======+======+==========+\n",
      "| X(0) | Y(0) |   0.1500 |\n",
      "+------+------+----------+\n",
      "| X(0) | Y(1) |   0.4500 |\n",
      "+------+------+----------+\n",
      "| X(1) | Y(0) |   0.3500 |\n",
      "+------+------+----------+\n",
      "| X(1) | Y(1) |   0.0500 |\n",
      "+------+------+----------+\n"
     ]
    }
   ],
   "source": [
    "pxy = JPD(['X', 'Y'], [2, 2], np.array([3, 9, 7, 1]) / 20)\n",
    "print(pxy)"
   ]
  },
  {
   "cell_type": "code",
   "execution_count": 8,
   "id": "28e26171",
   "metadata": {},
   "outputs": [
    {
     "name": "stdout",
     "output_type": "stream",
     "text": [
      "+------+------+----------+\n",
      "| X    | Y    |   P(X,Y) |\n",
      "+======+======+==========+\n",
      "| X(0) | Y(0) |   0.3000 |\n",
      "+------+------+----------+\n",
      "| X(0) | Y(1) |   0.3000 |\n",
      "+------+------+----------+\n",
      "| X(1) | Y(0) |   0.2000 |\n",
      "+------+------+----------+\n",
      "| X(1) | Y(1) |   0.2000 |\n",
      "+------+------+----------+\n"
     ]
    }
   ],
   "source": [
    "pxy1 = JPD(['X', 'Y'], [2, 2], np.array([6, 6, 4, 4]) / 20)\n",
    "print(pxy1)"
   ]
  },
  {
   "cell_type": "markdown",
   "id": "520fa946",
   "metadata": {},
   "source": [
    "ointProbabilityDistribution 클래스는 결합확률로부터 주변확률을 계산하는 marginal_distribution() 메서드, marginalize() 메서드와 조건부확률을 계산하는 conditional_distribution() 메서드를 제공한다."
   ]
  },
  {
   "cell_type": "markdown",
   "id": "cc840325",
   "metadata": {},
   "source": [
    "# marginal_distribution(values, inplace=True)"
   ]
  },
  {
   "cell_type": "markdown",
   "id": "14e4984c",
   "metadata": {},
   "source": [
    "values: 주변확률을 구할 확률변수의 이름 문자열 리스트"
   ]
  },
  {
   "cell_type": "markdown",
   "id": "018c359c",
   "metadata": {},
   "source": [
    "inplace: True이면 객체 자신을 주변확률 모형으로 변화시킨다. False면 주변확률 모형 객체를 반환한다."
   ]
  },
  {
   "cell_type": "markdown",
   "id": "9d6af116",
   "metadata": {},
   "source": [
    "# marginalize(values, inplace=True)"
   ]
  },
  {
   "cell_type": "markdown",
   "id": "16fb201f",
   "metadata": {},
   "source": [
    "values: 어떤 확률변수의 주변확률을 구하기 위해 없앨 확률변수의 이름 문자열 리스트"
   ]
  },
  {
   "cell_type": "markdown",
   "id": "02d759a3",
   "metadata": {},
   "source": [
    "inplace: True이면 객체 자신을 주변확률 모형으로 변화시킨다. False면 주변확률 모형 객체를 반환한다."
   ]
  },
  {
   "cell_type": "markdown",
   "id": "51bc4ccb",
   "metadata": {},
   "source": [
    "# conditional_distribution(values, inplace=True)"
   ]
  },
  {
   "cell_type": "markdown",
   "id": "7a60aed4",
   "metadata": {},
   "source": [
    "values: 주변확률을 구할 확률변수의 이름 문자열과 값을 묶은 튜플의 리스트"
   ]
  },
  {
   "cell_type": "markdown",
   "id": "2c3ed08c",
   "metadata": {},
   "source": [
    "inplace: True이면 객체 자신을 조건부확률 모형으로 변화시킨다. False면 조건부확률 모형 객체를 반환한다."
   ]
  },
  {
   "cell_type": "markdown",
   "id": "3a49975e",
   "metadata": {},
   "source": [
    "marginal_distribution() 메서드는 인수로 받은 확률변수에 대한 주변확률분포를 구한다. 다음 코드는 결합확률로부터 주변확률 P(A), P(AC)를 계산한다."
   ]
  },
  {
   "cell_type": "code",
   "execution_count": 13,
   "id": "04de3452",
   "metadata": {},
   "outputs": [
    {
     "name": "stdout",
     "output_type": "stream",
     "text": [
      "+------+--------+\n",
      "| X    |   P(X) |\n",
      "+======+========+\n",
      "| X(0) | 0.6000 |\n",
      "+------+--------+\n",
      "| X(1) | 0.4000 |\n",
      "+------+--------+\n"
     ]
    }
   ],
   "source": [
    "pmx = pxy.marginal_distribution(['X'], inplace=False)\n",
    "print(pmx)"
   ]
  },
  {
   "cell_type": "markdown",
   "id": "f989258c",
   "metadata": {},
   "source": [
    "marginalize() 메서드는 인수로 받은 확률변수를 주변화(marginalize)하여 나머지 확률변수에 대한 주변확률분포를 구한다. 다음 코드도 앞과 마찬가지로 결합확률로부터 주변확률 P(A), P(AC)를 계산한다."
   ]
  },
  {
   "cell_type": "code",
   "execution_count": 14,
   "id": "fc9b2c86",
   "metadata": {},
   "outputs": [
    {
     "name": "stdout",
     "output_type": "stream",
     "text": [
      "+------+--------+\n",
      "| X    |   P(X) |\n",
      "+======+========+\n",
      "| X(0) | 0.6000 |\n",
      "+------+--------+\n",
      "| X(1) | 0.4000 |\n",
      "+------+--------+\n"
     ]
    }
   ],
   "source": [
    "pmx = pxy.marginalize(['Y'], inplace=False)\n",
    "print(pmx)"
   ]
  },
  {
   "cell_type": "markdown",
   "id": "bdc80098",
   "metadata": {},
   "source": [
    "conditional_distribution() 메서드를 사용하면 어떤 확률변수가 어떤 사건이 되는 조건에 대해 조건부확률값을 계산한다. 다음 코드는 결합확률로부터 조건부확률 P(B|A), P(BC|A)를 계산한다."
   ]
  },
  {
   "cell_type": "code",
   "execution_count": 15,
   "id": "7c0e67f0",
   "metadata": {},
   "outputs": [
    {
     "name": "stdout",
     "output_type": "stream",
     "text": [
      "+------+--------+\n",
      "| Y    |   P(Y) |\n",
      "+======+========+\n",
      "| Y(0) | 0.2500 |\n",
      "+------+--------+\n",
      "| Y(1) | 0.7500 |\n",
      "+------+--------+\n"
     ]
    }
   ],
   "source": [
    "py_on_x0 = pxy.conditional_distribution([('X', 0)], inplace=False)  # 사건 A에 대한 조건부확률\n",
    "print(py_on_x0)"
   ]
  },
  {
   "cell_type": "code",
   "execution_count": 16,
   "id": "d6d6998f",
   "metadata": {},
   "outputs": [
    {
     "name": "stdout",
     "output_type": "stream",
     "text": [
      "+------+--------+\n",
      "| Y    |   P(Y) |\n",
      "+======+========+\n",
      "| Y(0) | 0.8750 |\n",
      "+------+--------+\n",
      "| Y(1) | 0.1250 |\n",
      "+------+--------+\n"
     ]
    }
   ],
   "source": [
    "py_on_x1 = pxy.conditional_distribution([('X', 1)], inplace=False)\n",
    "print(py_on_x1)"
   ]
  },
  {
   "cell_type": "code",
   "execution_count": 17,
   "id": "618c1d62",
   "metadata": {},
   "outputs": [
    {
     "name": "stdout",
     "output_type": "stream",
     "text": [
      "+------+--------+\n",
      "| X    |   P(X) |\n",
      "+======+========+\n",
      "| X(0) | 0.3000 |\n",
      "+------+--------+\n",
      "| X(1) | 0.7000 |\n",
      "+------+--------+\n"
     ]
    }
   ],
   "source": [
    "px_on_y0 = pxy.conditional_distribution([('Y', 0)], inplace=False)  # 사건 B에 대한 조건부확률\n",
    "print(px_on_y0)"
   ]
  },
  {
   "cell_type": "markdown",
   "id": "734c16dc",
   "metadata": {},
   "source": [
    "check_independence() 메서드를 이용하면 두 확률변수 간의 독립도 확인할 수 있다."
   ]
  },
  {
   "cell_type": "code",
   "execution_count": 18,
   "id": "e20c1fab",
   "metadata": {},
   "outputs": [
    {
     "data": {
      "text/plain": [
       "False"
      ]
     },
     "execution_count": 18,
     "metadata": {},
     "output_type": "execute_result"
    }
   ],
   "source": [
    "pxy.check_independence(['X'], ['Y'])"
   ]
  },
  {
   "cell_type": "code",
   "execution_count": 19,
   "id": "87654fd8",
   "metadata": {},
   "outputs": [
    {
     "name": "stdout",
     "output_type": "stream",
     "text": [
      "+------+------+----------+\n",
      "| X    | Y    |   P(X,Y) |\n",
      "+======+======+==========+\n",
      "| X(0) | Y(0) |   0.3000 |\n",
      "+------+------+----------+\n",
      "| X(0) | Y(1) |   0.3000 |\n",
      "+------+------+----------+\n",
      "| X(1) | Y(0) |   0.2000 |\n",
      "+------+------+----------+\n",
      "| X(1) | Y(1) |   0.2000 |\n",
      "+------+------+----------+\n",
      "+------+------+----------+\n",
      "| X    | Y    |   P(X,Y) |\n",
      "+======+======+==========+\n",
      "| X(0) | Y(0) |   0.1500 |\n",
      "+------+------+----------+\n",
      "| X(0) | Y(1) |   0.4500 |\n",
      "+------+------+----------+\n",
      "| X(1) | Y(0) |   0.3500 |\n",
      "+------+------+----------+\n",
      "| X(1) | Y(1) |   0.0500 |\n",
      "+------+------+----------+\n"
     ]
    }
   ],
   "source": [
    "print(px * py)\n",
    "print(pxy)"
   ]
  },
  {
   "cell_type": "code",
   "execution_count": null,
   "id": "47d1bb7e",
   "metadata": {},
   "outputs": [],
   "source": []
  }
 ],
 "metadata": {
  "kernelspec": {
   "display_name": "Python 3",
   "language": "python",
   "name": "python3"
  },
  "language_info": {
   "codemirror_mode": {
    "name": "ipython",
    "version": 3
   },
   "file_extension": ".py",
   "mimetype": "text/x-python",
   "name": "python",
   "nbconvert_exporter": "python",
   "pygments_lexer": "ipython3",
   "version": "3.6.13"
  }
 },
 "nbformat": 4,
 "nbformat_minor": 5
}
